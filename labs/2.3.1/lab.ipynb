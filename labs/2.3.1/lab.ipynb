{
 "cells": [
  {
   "cell_type": "code",
   "execution_count": null,
   "id": "44ed480e",
   "metadata": {},
   "outputs": [],
   "source": [
    "# coding: utf-8\n",
    "\n",
    "import pandas as pd\n",
    "import numpy as np\n",
    "import matplotlib.pyplot as plt\n",
    "import matplotlib\n",
    "from matplotlib.cm import get_cmap\n",
    "import scipy.optimize"
   ]
  },
  {
   "cell_type": "markdown",
   "id": "51f420da",
   "metadata": {},
   "source": [
    "# Input experimental data"
   ]
  },
  {
   "cell_type": "code",
   "execution_count": null,
   "id": "7e4af3d4",
   "metadata": {},
   "outputs": [],
   "source": [
    "def load_df(i):\n",
    "    df_list = []\n",
    "    for name in ['Degrading', 'Improving']:\n",
    "        df = pd.read_excel('experimental_data.xlsx', sheet_name = '{} {}'.format(name, i))\n",
    "        df = df[df.index % 2 == 0]\n",
    "        df_list.append(df)\n",
    "    return df_list\n",
    "\n",
    "df1_list = load_df(1)\n",
    "df2_list = load_df(2)"
   ]
  },
  {
   "cell_type": "markdown",
   "id": "7d40c38c",
   "metadata": {},
   "source": [
    "# Compute Volumes"
   ]
  },
  {
   "cell_type": "code",
   "execution_count": null,
   "id": "0897ad0e",
   "metadata": {},
   "outputs": [],
   "source": [
    "p0 = 99100 # Pa\n",
    "h1 = 0.092 # m\n",
    "h2 = 0.346\n",
    "h3 = 0.140\n",
    "h4 = 0.303\n",
    "\n",
    "v_k = 50 # cm^3\n",
    "\n",
    "dh1 = abs(h2 - h1)\n",
    "dh2 = abs(h4 - h3)\n",
    "\n",
    "sigma_h = 0.001\n",
    "\n",
    "rho = 885\n",
    "g = 9.81"
   ]
  },
  {
   "cell_type": "code",
   "execution_count": null,
   "id": "3814d91c",
   "metadata": {},
   "outputs": [],
   "source": [
    "p1 = rho * g * dh1\n",
    "v_fv = (p0 - p1) / p1 * v_k\n",
    "sigma_p1 = 2 * g * rho * sigma_h\n",
    "sigma_fv = p0 / p1 ** 2 * sigma_p1 * v_k"
   ]
  },
  {
   "cell_type": "code",
   "execution_count": null,
   "id": "4b3418df",
   "metadata": {},
   "outputs": [],
   "source": [
    "sigma_fv"
   ]
  },
  {
   "cell_type": "code",
   "execution_count": null,
   "id": "03ba7fcc",
   "metadata": {},
   "outputs": [],
   "source": [
    "p2 = rho * g * dh2\n",
    "v_vv = (p0 / p2) * v_k - v_fv - v_k\n",
    "sigma_p2 = 2 * g * rho * sigma_h\n",
    "sigma_vv = np.sqrt((p0 / p2 ** 2 * v_k * sigma_p2) ** 2 + sigma_fv ** 2)"
   ]
  },
  {
   "cell_type": "code",
   "execution_count": null,
   "id": "e0cd219c",
   "metadata": {},
   "outputs": [],
   "source": [
    "v_vv"
   ]
  },
  {
   "cell_type": "code",
   "execution_count": null,
   "id": "8688a890",
   "metadata": {},
   "outputs": [],
   "source": [
    "sigma_vv"
   ]
  },
  {
   "cell_type": "markdown",
   "id": "343723f8",
   "metadata": {},
   "source": [
    "# Least Squares"
   ]
  },
  {
   "cell_type": "code",
   "execution_count": null,
   "id": "ef8a2809",
   "metadata": {},
   "outputs": [],
   "source": [
    "def lstsqb(x, y):\n",
    "    return (x.multiply(y).mean() - x.mean() * y.mean()) / (x.multiply(x).mean() - x.mean() ** 2)"
   ]
  },
  {
   "cell_type": "code",
   "execution_count": null,
   "id": "d016f6cc",
   "metadata": {},
   "outputs": [],
   "source": [
    "def lstsqa(x, y):\n",
    "    return y.mean() - lstsqb(x, y) * x.mean()"
   ]
  },
  {
   "cell_type": "code",
   "execution_count": null,
   "id": "bcfbe18e",
   "metadata": {},
   "outputs": [],
   "source": [
    "def lstsqbsem(x, y):\n",
    "    return 1 / np.sqrt(len(x)) * np.sqrt((y.multiply(y).mean() - y.mean() ** 2) / (x.multiply(x).mean() - x.mean() ** 2) - lstsqb(x, y) ** 2)"
   ]
  },
  {
   "cell_type": "markdown",
   "id": "25918f6e",
   "metadata": {},
   "source": [
    "# Part 1"
   ]
  },
  {
   "cell_type": "code",
   "execution_count": null,
   "id": "e2a708ad",
   "metadata": {},
   "outputs": [],
   "source": [
    "def get_min_max(series, k1 = 3 / 4, k2 = 11 / 10):\n",
    "    return k1 * min(series), k2 * max(series)"
   ]
  },
  {
   "cell_type": "code",
   "execution_count": null,
   "id": "2fbdc698",
   "metadata": {},
   "outputs": [],
   "source": [
    "def plot_data_linear_scale(ax, df, p, pe):\n",
    "    y_min, y_max = get_min_max(df['P, 10^-4 мм. рт. ст.'])\n",
    "    x_min, x_max = get_min_max(df['t, с'])\n",
    "    y_min = 0\n",
    "\n",
    "    ax.xaxis.set_major_locator(plt.MultipleLocator(10))\n",
    "    ax.yaxis.set_major_locator(plt.MultipleLocator(2))\n",
    "    ax.xaxis.set_minor_locator(plt.MultipleLocator(1.0))\n",
    "    ax.yaxis.set_minor_locator(plt.MultipleLocator(0.2))\n",
    "    \n",
    "    plt.ticklabel_format(axis=\"x\", style=\"sci\", scilimits=(0,0))\n",
    "    plt.ticklabel_format(axis=\"y\", style=\"sci\", scilimits=(0,0))\n",
    "    \n",
    "    ax.set_ylim(bottom = y_min, top = y_max)\n",
    "    ax.set_xlim(left = x_min, right = x_max)\n",
    "    \n",
    "    ax.grid(visible = True, linestyle = '--', which = 'both')\n",
    "    x = np.linspace(x_min, x_max, 1000)\n",
    "    ax.scatter(df['t, с'], df['P, 10^-4 мм. рт. ст.'])\n",
    "    \n",
    "    ax.plot(x, np.exp(p[1]) * np.exp(p[0] * x) + pe)\n",
    "    ax.set_xlabel('$t, с$')\n",
    "    ax.set_ylabel('$P, 10^{-4} мм.рт.ст.$')"
   ]
  },
  {
   "cell_type": "code",
   "execution_count": null,
   "id": "a2597234",
   "metadata": {},
   "outputs": [],
   "source": [
    "def plot_data_log_scale(ax, df, pe, start):\n",
    "    x_min, x_max = get_min_max(df['t, с'])\n",
    "    \n",
    "    y_0 = np.log(df['P, 10^-4 мм. рт. ст.'] - pe)\n",
    "    y_min, y_max = get_min_max(y_0)\n",
    "    y = y_0.iloc[start:]\n",
    "    \n",
    "    p, v = np.polyfit(df['t, с'].iloc[start:], y, deg = 1, cov = True)\n",
    "    ax.xaxis.set_major_locator(plt.MultipleLocator(1))\n",
    "    ax.yaxis.set_major_locator(plt.MultipleLocator(0.5))\n",
    "    ax.xaxis.set_minor_locator(plt.MultipleLocator(0.5))\n",
    "    ax.yaxis.set_minor_locator(plt.MultipleLocator(0.25))\n",
    "    \n",
    "    ax.set_ylim(bottom = y_min, top = y_max)\n",
    "    ax.set_xlim(left = x_min, right = x_max)\n",
    "    \n",
    "    ax.grid(visible = True, linestyle = '--', which = 'both')\n",
    "    x = np.linspace(x_min, x_max, 1000)\n",
    "    ax.scatter(df['t, с'], y_0)\n",
    "    err = np.sqrt(np.diag(v))\n",
    "        \n",
    "    ax.plot(x, x * p[0] + p[1], label = 'Линейная модель: $f(\\ln{P - P_пр}) = a + b \\cdot t$')\n",
    "    ax.plot([], [], ' ', label = '$b = {b:.3f} \\pm {db:.3f}, a = {a:.3f} \\pm {da:.3f}$'.format(b = p[0], db = err[0], a = p[1], da = err[1]))\n",
    "    \n",
    "    ax.set_xlabel('$t, с$')\n",
    "    ax.set_ylabel('$ln{P - P_{пр}}$')\n",
    "    \n",
    "    ax.legend()\n",
    "    return p, err"
   ]
  },
  {
   "cell_type": "code",
   "execution_count": null,
   "id": "ff82ec34",
   "metadata": {},
   "outputs": [],
   "source": [
    "def calculate_least_squares(df, start, pe):\n",
    "    df1 = df[start:].copy()\n",
    "    \n",
    "    df1['ln(P - P_пр)'] = np.log(df1['P, 10^-4 мм. рт. ст.'] - pe)\n",
    "    df1['ln(P - P_пр) * t'] = df1['t, с'] * df1['ln(P - P_пр)']\n",
    "    \n",
    "    df1['t^2, с^2'] = df1['t, с'] * df1['t, с']\n",
    "    df1['ln(P - P_пр)^2'] = df1['ln(P - P_пр)'] * df1['ln(P - P_пр)']\n",
    "    \n",
    "    x_m = df1['t, с'].mean()\n",
    "    y_m = df1['ln(P - P_пр)'].mean()\n",
    "    \n",
    "    xx_m = df1['t^2, с^2'].mean()\n",
    "    xy_m = df1['ln(P - P_пр) * t'].mean()\n",
    "    yy_m = df1['ln(P - P_пр)^2'].mean()\n",
    "    \n",
    "    return df1, x_m, y_m, xx_m, xy_m, yy_m"
   ]
  },
  {
   "cell_type": "code",
   "execution_count": null,
   "id": "1b7a44fe",
   "metadata": {},
   "outputs": [],
   "source": [
    "output1, x1_m, y1_m, xx1_m, xy1_m, yy1_m = calculate_least_squares(df1_list[1], 5, 1.3)\n",
    "output2, x2_m, y2_m, xx2_m, xy2_m, yy2_m = calculate_least_squares(df2_list[1], 7, 1.3)"
   ]
  },
  {
   "cell_type": "code",
   "execution_count": null,
   "id": "140c9bd7",
   "metadata": {},
   "outputs": [],
   "source": [
    "fig, ax = plt.subplots(nrows = 1, ncols = 1, figsize=(11.7, 8.3))\n",
    "fig.suptitle('Рис. 1. Зависимость $P(t)$ в логарифмических координатах (улучшение 1)')\n",
    "p1, err1 = plot_data_log_scale(ax, df1_list[1], 1.3, 5)\n",
    "fig.savefig('plots/plot1.pdf')"
   ]
  },
  {
   "cell_type": "code",
   "execution_count": null,
   "id": "c0cf57c0",
   "metadata": {},
   "outputs": [],
   "source": [
    "fig, ax = plt.subplots(nrows = 1, ncols = 1, figsize=(11.7, 8.3))\n",
    "fig.suptitle('Рис. 2. Зависимость $P(t)$ в логарифмических координатах (улучшение 2)')\n",
    "p2, err2 = plot_data_log_scale(ax, df2_list[1], 1.3, 7)\n",
    "fig.savefig('plots/plot2.pdf')"
   ]
  },
  {
   "cell_type": "code",
   "execution_count": null,
   "id": "3d995f4f",
   "metadata": {},
   "outputs": [],
   "source": [
    "fig, ax = plt.subplots(nrows = 1, ncols = 1, figsize=(11.7, 8.3))\n",
    "fig.suptitle('Рис. 3. Зависимость $P(t)$ в линейных координатах (улучшение 1)')\n",
    "plot_data_linear_scale(ax, df1_list[1], p1, 1.3)\n",
    "fig.savefig('plots/plot3.pdf')"
   ]
  },
  {
   "cell_type": "code",
   "execution_count": null,
   "id": "af73fa49",
   "metadata": {},
   "outputs": [],
   "source": [
    "fig, ax = plt.subplots(nrows = 1, ncols = 1, figsize=(11.7, 8.3))\n",
    "fig.suptitle('Рис. 4. Зависимость $P(t)$ в линейных координатах (улучшение 2)')\n",
    "plot_data_linear_scale(ax, df2_list[1], p2, 1.3)\n",
    "fig.savefig('plots/plot4.pdf')"
   ]
  },
  {
   "cell_type": "code",
   "execution_count": null,
   "id": "b81d3238",
   "metadata": {},
   "outputs": [],
   "source": [
    "v = v_fv + v_vv + v_k\n",
    "sigma_v = np.sqrt(sigma_vv ** 2 + sigma_fv ** 2)"
   ]
  },
  {
   "cell_type": "code",
   "execution_count": null,
   "id": "4217722b",
   "metadata": {},
   "outputs": [],
   "source": [
    "w1 = -p1[0] * v_vv\n",
    "w2 = -p2[0] * v_vv"
   ]
  },
  {
   "cell_type": "code",
   "execution_count": null,
   "id": "634fecdb",
   "metadata": {},
   "outputs": [],
   "source": [
    "sigma_w1 = w1 * np.sqrt((err1[0] / p1[0]) ** 2 + (sigma_vv / v_vv) ** 2)\n",
    "sigma_w2 = w2 * np.sqrt((err2[0] / p2[0]) ** 2 + (sigma_vv / v_vv) ** 2)"
   ]
  },
  {
   "cell_type": "code",
   "execution_count": null,
   "id": "674e7a41",
   "metadata": {},
   "outputs": [],
   "source": [
    "print('w1 = {}\\nw2 = {}\\nsigma_w1 = {}\\nsigma_w2 = {}'.format(w1, w2, sigma_w1, sigma_w2))"
   ]
  },
  {
   "cell_type": "markdown",
   "id": "c50c6b93",
   "metadata": {},
   "source": [
    "# Plots improving vacuum"
   ]
  },
  {
   "cell_type": "code",
   "execution_count": null,
   "id": "a888a7f7",
   "metadata": {},
   "outputs": [],
   "source": [
    "p3, v3 = np.polyfit(df1_list[0]['t, с'], df1_list[0]['P, 10^-4 мм. рт. ст.'], deg = 1, cov = True)\n",
    "p4, v4= np.polyfit(df2_list[0]['t, с'], df2_list[0]['P, 10^-4 мм. рт. ст.'], deg = 1, cov = True)\n",
    "err3 = np.sqrt(np.diag(v3))\n",
    "err4 = np.sqrt(np.diag(v4))"
   ]
  },
  {
   "cell_type": "code",
   "execution_count": null,
   "id": "6c29ef1f",
   "metadata": {},
   "outputs": [],
   "source": [
    "p3"
   ]
  },
  {
   "cell_type": "code",
   "execution_count": null,
   "id": "62db4571",
   "metadata": {},
   "outputs": [],
   "source": [
    "def plot_improving_linear_scale(ax, df, p, err):\n",
    "    y_min, y_max = get_min_max(df['P, 10^-4 мм. рт. ст.'])\n",
    "    x_min, x_max = get_min_max(df['t, с'])\n",
    "    y_min = 0\n",
    "\n",
    "    ax.xaxis.set_major_locator(plt.MultipleLocator(10))\n",
    "    ax.yaxis.set_major_locator(plt.MultipleLocator(2))\n",
    "    ax.xaxis.set_minor_locator(plt.MultipleLocator(1.0))\n",
    "    ax.yaxis.set_minor_locator(plt.MultipleLocator(0.2))\n",
    "    \n",
    "    plt.ticklabel_format(axis=\"x\", style=\"sci\", scilimits=(0,0))\n",
    "    plt.ticklabel_format(axis=\"y\", style=\"sci\", scilimits=(0,0))\n",
    "    \n",
    "    ax.set_ylim(bottom = y_min, top = y_max)\n",
    "    ax.set_xlim(left = x_min, right = x_max)\n",
    "    \n",
    "    ax.grid(visible = True, linestyle = '--', which = 'both')\n",
    "    x = np.linspace(x_min, x_max, 1000)\n",
    "    ax.scatter(df['t, с'], df['P, 10^-4 мм. рт. ст.'])\n",
    "    \n",
    "    ax.plot(x, x * p[0] + p[1], label = 'Линейная модель: $f(\\ln{P - P_пр}) = a + b \\cdot t$')\n",
    "    ax.plot([], [], ' ', label = '$b = {b:.3f} \\pm {db:.3f}, a = {a:.3f} \\pm {da:.3f}$'.format(b = p[0], db = err[0], a = p[1], da = err[1]))\n",
    "    \n",
    "    ax.legend()\n",
    "    ax.set_xlabel('$t, с$')\n",
    "    ax.set_ylabel('$P, 10^{-4} мм.рт.ст.$')"
   ]
  },
  {
   "cell_type": "code",
   "execution_count": null,
   "id": "510a6655",
   "metadata": {},
   "outputs": [],
   "source": [
    "fig, ax = plt.subplots(nrows = 1, ncols = 1, figsize=(11.7, 8.3))\n",
    "fig.suptitle('Рис. 5. Зависимость $P(t)$ в линейных координатах (ухудшение 1)')\n",
    "plot_improving_linear_scale(ax, df1_list[0], p3, err3)\n",
    "fig.savefig('plots/plot5.pdf')"
   ]
  },
  {
   "cell_type": "code",
   "execution_count": null,
   "id": "be916a89",
   "metadata": {},
   "outputs": [],
   "source": [
    "fig, ax = plt.subplots(nrows = 1, ncols = 1, figsize=(11.7, 8.3))\n",
    "fig.suptitle('Рис. 6. Зависимость $P(t)$ в линейных координатах (ухудшение 2)')\n",
    "plot_improving_linear_scale(ax, df2_list[0], p4, err4)\n",
    "fig.savefig('plots/plot6.pdf')"
   ]
  },
  {
   "cell_type": "code",
   "execution_count": null,
   "id": "fefbc2f0",
   "metadata": {},
   "outputs": [],
   "source": [
    "q_n1 = df1_list[0]['P, 10^-4 мм. рт. ст.'].iloc[0] * w1 - p3[0] * v_vv\n",
    "q_n2 = df2_list[0]['P, 10^-4 мм. рт. ст.'].iloc[0] * w1 - p4[0] * v_vv"
   ]
  },
  {
   "cell_type": "code",
   "execution_count": null,
   "id": "1175c4a3",
   "metadata": {},
   "outputs": [],
   "source": [
    "sigma_qn = np.sqrt((df1_list[0]['P, 10^-4 мм. рт. ст.'].iloc[0] * sigma_w1) ** 2 + (p3[0] * sigma_vv) ** 2)"
   ]
  },
  {
   "cell_type": "code",
   "execution_count": null,
   "id": "d5114bd2",
   "metadata": {},
   "outputs": [],
   "source": [
    "sigma_qn"
   ]
  },
  {
   "cell_type": "code",
   "execution_count": null,
   "id": "d99ccea6",
   "metadata": {},
   "outputs": [],
   "source": [
    "q_n1"
   ]
  },
  {
   "cell_type": "code",
   "execution_count": null,
   "id": "1610deb6",
   "metadata": {},
   "outputs": [],
   "source": [
    "q_n2"
   ]
  },
  {
   "cell_type": "code",
   "execution_count": null,
   "id": "9736d4a8",
   "metadata": {},
   "outputs": [],
   "source": [
    "mu = 29 # g/mol\n",
    "R = 8.31\n",
    "T = 300 # K\n",
    "\n",
    "m1 = mu * q_n1 / (R * T)\n",
    "m2 = mu * q_n2 / (R * T)"
   ]
  },
  {
   "cell_type": "markdown",
   "id": "9741df54",
   "metadata": {},
   "source": [
    "# Compute flow"
   ]
  },
  {
   "cell_type": "code",
   "execution_count": null,
   "id": "c23337b1",
   "metadata": {},
   "outputs": [],
   "source": [
    "d = 0.8e-1\n",
    "l = 10.8\n",
    "r = d / 2\n",
    "\n",
    "mmrt = 133.332\n",
    "\n",
    "p1 = 1.5 * 10 ** (1) * mmrt\n",
    "p2 = 1.6 * mmrt"
   ]
  },
  {
   "cell_type": "code",
   "execution_count": null,
   "id": "4aeaca56",
   "metadata": {},
   "outputs": [],
   "source": [
    "flow = 4 / 3 * r ** 3 * np.sqrt(2 * np.pi * R * T / mu) * (p1 - p2) / l"
   ]
  },
  {
   "cell_type": "code",
   "execution_count": null,
   "id": "89768a92",
   "metadata": {},
   "outputs": [],
   "source": [
    "flow"
   ]
  },
  {
   "cell_type": "markdown",
   "id": "6abbc137",
   "metadata": {},
   "source": [
    "# Results"
   ]
  },
  {
   "cell_type": "code",
   "execution_count": null,
   "id": "1529fcf8",
   "metadata": {},
   "outputs": [],
   "source": [
    "output1.to_excel('plots/output1.xlsx')\n",
    "output2.to_excel('plots/output2.xlsx')"
   ]
  }
 ],
 "metadata": {
  "language_info": {
   "name": "python"
  }
 },
 "nbformat": 4,
 "nbformat_minor": 5
}
