{
 "cells": [
  {
   "cell_type": "code",
   "execution_count": null,
   "id": "44ed480e",
   "metadata": {},
   "outputs": [],
   "source": [
    "# coding: utf-8\n",
    "\n",
    "import pandas as pd\n",
    "import numpy as np\n",
    "import matplotlib.pyplot as plt\n",
    "import matplotlib"
   ]
  },
  {
   "cell_type": "markdown",
   "id": "51f420da",
   "metadata": {},
   "source": [
    "# Input experimental data"
   ]
  },
  {
   "cell_type": "code",
   "execution_count": null,
   "id": "7e4af3d4",
   "metadata": {},
   "outputs": [],
   "source": [
    "df1 = pd.read_excel('experimental_data.xlsx', sheet_name = 'Part 1')"
   ]
  },
  {
   "cell_type": "markdown",
   "id": "343723f8",
   "metadata": {},
   "source": [
    "# Least Squares"
   ]
  },
  {
   "cell_type": "code",
   "execution_count": null,
   "id": "ef8a2809",
   "metadata": {},
   "outputs": [],
   "source": [
    "def lstsqb(x, y):\n",
    "    return (x.multiply(y).mean() - x.mean() * y.mean()) / (x.multiply(x).mean() - x.mean() ** 2)"
   ]
  },
  {
   "cell_type": "code",
   "execution_count": null,
   "id": "d016f6cc",
   "metadata": {},
   "outputs": [],
   "source": [
    "def lstsqa(x, y):\n",
    "    return y.mean() - lstsqb(x, y) * x.mean()"
   ]
  },
  {
   "cell_type": "code",
   "execution_count": null,
   "id": "bcfbe18e",
   "metadata": {},
   "outputs": [],
   "source": [
    "def lstsqbsem(x, y):\n",
    "    return 1 / np.sqrt(len(x)) * np.sqrt((y.multiply(y).mean() - y.mean() ** 2) / (x.multiply(x).mean() - x.mean() ** 2) - lstsqb(x, y) ** 2)"
   ]
  },
  {
   "cell_type": "markdown",
   "id": "25918f6e",
   "metadata": {},
   "source": [
    "# Part 1"
   ]
  },
  {
   "cell_type": "markdown",
   "id": "eb277d70",
   "metadata": {},
   "source": [
    "## General Data"
   ]
  },
  {
   "cell_type": "code",
   "execution_count": null,
   "id": "0be6f9ab",
   "metadata": {},
   "outputs": [],
   "source": [
    "d0 = 0.73e-1\n",
    "r0 = 13e-1\n",
    "l0 = 176.5\n",
    "h0 = 139.9\n",
    "g0 = 9.81"
   ]
  },
  {
   "cell_type": "code",
   "execution_count": null,
   "id": "e533e823",
   "metadata": {},
   "outputs": [],
   "source": [
    "sigma_n_sys = 0.1\n",
    "sigma_d_sys = 0.1e-2\n",
    "sigma_r_sys = 0.1e-1\n",
    "sigma_l_sys = 0.1"
   ]
  },
  {
   "cell_type": "code",
   "execution_count": null,
   "id": "082d4dda",
   "metadata": {},
   "outputs": [],
   "source": [
    "s = (np.pi * d0 ** 2) / (4)\n",
    "sigma_s = s * np.sqrt(2 * (sigma_d_sys / d0) ** 2)"
   ]
  },
  {
   "cell_type": "code",
   "execution_count": null,
   "id": "42b018a3",
   "metadata": {},
   "outputs": [],
   "source": [
    "n0 = df1.loc[0, 'n1' : 'n6'].mean()"
   ]
  },
  {
   "cell_type": "code",
   "execution_count": null,
   "id": "e4499165",
   "metadata": {},
   "outputs": [],
   "source": [
    "df1['P, Н'] = df1.loc[1:, 'm, кг'].multiply(g0)\n",
    "df1['dn, см'] = df1.loc[1:, 'n1' : 'n6'].apply(lambda x: x.mean() - n0, axis = 1)\n",
    "df1['dl, см'] = df1.loc[1:, 'dn, см'].apply(lambda x: x * r0 / (2 * h0))"
   ]
  },
  {
   "cell_type": "code",
   "execution_count": null,
   "id": "4c2a52a1",
   "metadata": {},
   "outputs": [],
   "source": [
    "sigma_n0 = np.sqrt(df1.loc[0, 'n1' : 'n6'].sem() ** 2 + sigma_n_sys ** 2)"
   ]
  },
  {
   "cell_type": "code",
   "execution_count": null,
   "id": "172bd6a9",
   "metadata": {},
   "outputs": [],
   "source": [
    "df1['sigma_l, см'] = df1['dl, см'].multiply(np.sqrt((sigma_d_sys / d0) ** 2 + (sigma_r_sys / r0) ** 2 + ((df1.loc[:, 'n1' : 'n6'].sem(axis = 1) ** 2 + sigma_n_sys ** 2 + sigma_n0 ** 2) / (df1['dn, см'] ** 2))))"
   ]
  },
  {
   "cell_type": "code",
   "execution_count": null,
   "id": "b8839a03",
   "metadata": {},
   "outputs": [],
   "source": [
    "df1['E, Н / см^2'] = (df1.loc[0: , 'P, Н'] / df1.loc[0: , 'dl, см'] * l0 / (np.pi * d0 ** 2 / 4))"
   ]
  },
  {
   "cell_type": "code",
   "execution_count": null,
   "id": "ed4d5943",
   "metadata": {},
   "outputs": [],
   "source": [
    "k = lstsqb(df1.loc[1: , 'dl, см'], df1.loc[1: , 'P, Н'])\n",
    "a = lstsqa(df1.loc[1: , 'dl, см'], df1.loc[1: , 'P, Н'])\n",
    "e = k * l0 / s\n",
    "sigma_k = lstsqbsem(df1.loc[1: , 'dl, см'], df1.loc[1: , 'P, Н'])\n",
    "sigma_e = e * np.sqrt((sigma_k / k) ** 2 + (sigma_s / s) ** 2 + (sigma_l_sys / l0) ** 2)"
   ]
  },
  {
   "cell_type": "markdown",
   "id": "91c98a6a",
   "metadata": {},
   "source": [
    "# Results"
   ]
  },
  {
   "cell_type": "code",
   "execution_count": null,
   "id": "1bc7beb6",
   "metadata": {},
   "outputs": [],
   "source": [
    "k"
   ]
  },
  {
   "cell_type": "code",
   "execution_count": null,
   "id": "b353ff72",
   "metadata": {},
   "outputs": [],
   "source": [
    "sigma_k"
   ]
  },
  {
   "cell_type": "code",
   "execution_count": null,
   "id": "42e9d68e",
   "metadata": {},
   "outputs": [],
   "source": [
    "e"
   ]
  },
  {
   "cell_type": "code",
   "execution_count": null,
   "id": "ea6e3e7e",
   "metadata": {},
   "outputs": [],
   "source": [
    "sigma_e"
   ]
  },
  {
   "cell_type": "markdown",
   "id": "8827f256",
   "metadata": {},
   "source": [
    "# Tables"
   ]
  },
  {
   "cell_type": "code",
   "execution_count": null,
   "id": "22e9f18e",
   "metadata": {},
   "outputs": [],
   "source": [
    "html1 = df1.to_html('plots/table1.html')"
   ]
  },
  {
   "cell_type": "markdown",
   "id": "c50c6b93",
   "metadata": {},
   "source": [
    "# Plots"
   ]
  },
  {
   "cell_type": "code",
   "execution_count": null,
   "id": "b6d0fba2",
   "metadata": {},
   "outputs": [],
   "source": [
    "dl_max = 9 / 8 * max(df1.loc[1:, 'dl, см'])\n",
    "p_max = 9 / 8 * max(df1.loc[1:, 'P, Н'])"
   ]
  },
  {
   "cell_type": "code",
   "execution_count": null,
   "id": "45005b99",
   "metadata": {},
   "outputs": [],
   "source": [
    "x = np.linspace(0, dl_max, 1000)"
   ]
  },
  {
   "cell_type": "code",
   "execution_count": null,
   "id": "0d3540d1",
   "metadata": {},
   "outputs": [],
   "source": [
    "fig, ax = plt.subplots(nrows = 1, ncols = 1, figsize=(11.7, 8.3))\n",
    "\n",
    "ax.grid(b = True, linestyle = '--')\n",
    "\n",
    "plt.ticklabel_format(axis=\"x\", style=\"sci\", scilimits=(0,0))\n",
    "\n",
    "ax.set_ylim(bottom = 0, top = p_max)\n",
    "ax.set_xlim(left = 0, right = dl_max)\n",
    "\n",
    "plt.gca().xaxis.set_major_locator(plt.MultipleLocator(5e-3))\n",
    "plt.gca().yaxis.set_major_locator(plt.MultipleLocator(2e0))\n",
    "\n",
    "plt.xlabel('$\\Delta{l}, см$')\n",
    "plt.ylabel('$P, Н$')\n",
    "\n",
    "ax.errorbar(df1.loc[1:, 'dl, см'], df1.loc[1:, 'P, Н'], xerr = df1.loc[1:, 'sigma_l, см'], fmt = '.')\n",
    "ax.plot(x, a + k * x, label = '$f(\\Delta{l}) = a + \\Delta{l} \\cdot k$')\n",
    "\n",
    "ax.set_title('Рис. 1. Зависимость $P(\\Delta{l})$')\n",
    "ax.legend()\n",
    "\n",
    "fig.savefig('plots/plot1.pdf')"
   ]
  },
  {
   "cell_type": "markdown",
   "id": "d1865fc2",
   "metadata": {},
   "source": [
    "# Part 2"
   ]
  },
  {
   "cell_type": "code",
   "execution_count": null,
   "id": "38c279f6",
   "metadata": {},
   "outputs": [],
   "source": [
    "l2 = 503"
   ]
  },
  {
   "cell_type": "code",
   "execution_count": null,
   "id": "3ef569b9",
   "metadata": {},
   "outputs": [],
   "source": [
    "sigma_y_sys = 1e-2\n",
    "sigma_a_sys = 1e-1\n",
    "sigma_b_sys = 1e-1\n",
    "sigma_l2_sys = 1"
   ]
  },
  {
   "cell_type": "code",
   "execution_count": null,
   "id": "603e0d80",
   "metadata": {},
   "outputs": [],
   "source": [
    "df2 = pd.read_excel('experimental_data.xlsx', sheet_name = 'Part 2 (dimensions)')"
   ]
  },
  {
   "cell_type": "code",
   "execution_count": null,
   "id": "68566099",
   "metadata": {},
   "outputs": [],
   "source": [
    "dimensions = {}\n",
    "materials = ['wood', 'steel', 'brass']\n",
    "for m in materials:\n",
    "    dimensions[m] = (dict({'mean':{'a': df2[m + '_a, мм'].mean(), 'b': df2[m + '_b, мм'].mean()},\n",
    "                          'sigma': {'a': df2[m + '_a, мм'].sem(), 'b': df2[m + '_b, мм'].sem()}}))"
   ]
  },
  {
   "cell_type": "code",
   "execution_count": null,
   "id": "a1129bc1",
   "metadata": {},
   "outputs": [],
   "source": [
    "df3 = {}\n",
    "for m in materials:\n",
    "    df3[m] = pd.read_excel('experimental_data.xlsx', sheet_name = 'Part 2 (' + m + ')')"
   ]
  },
  {
   "cell_type": "code",
   "execution_count": null,
   "id": "575c7bd7",
   "metadata": {},
   "outputs": [],
   "source": [
    "for m in materials:\n",
    "    df3[m]['P, Н'] = df3[m]['m, кг'] * g0\n",
    "    df3[m]['y_mean, мм'] = df3[m].loc[:, 'y_1, мм' : 'r_y_2, мм'].apply(lambda x: x.mean(), axis = 1)\n",
    "    df3[m]['sigma_y, мм'] = np.sqrt(sigma_y_sys ** 2 + df3[m].loc[:, 'y_1, мм' : 'r_y_2, мм'].apply(lambda x: x.sem(), axis = 1) ** 2)"
   ]
  },
  {
   "cell_type": "code",
   "execution_count": null,
   "id": "a665363a",
   "metadata": {},
   "outputs": [],
   "source": [
    "linefit = {}\n",
    "for m in materials:\n",
    "    linefit[m] = dict({'mean': {'a': lstsqa(df3[m]['y_mean, мм'], df3[m]['P, Н']), 'k': lstsqb(df3[m]['y_mean, мм'], df3[m]['P, Н'])}\n",
    "                      ,'sigma': {'k': lstsqbsem(df3[m]['y_mean, мм'], df3[m]['P, Н'])}})"
   ]
  },
  {
   "cell_type": "code",
   "execution_count": null,
   "id": "9eeae972",
   "metadata": {},
   "outputs": [],
   "source": [
    "e_dict = {}\n",
    "for m in materials:\n",
    "    t = linefit[m]['mean']['k'] * l2 ** 3 / (4 * dimensions[m]['mean']['a'] * dimensions[m]['mean']['b'] ** 3)\n",
    "    e_dict[m] = dict({'mean': t, 'sigma': t * np.sqrt(3 * (sigma_l2_sys / l2) ** 2 + (linefit[m]['sigma']['k'] / linefit[m]['mean']['k']) ** 2 + (dimensions[m]['sigma']['a'] / dimensions[m]['mean']['a']) ** 2 + 3 * (dimensions[m]['sigma']['b'] / dimensions[m]['mean']['b']) ** 2)})"
   ]
  },
  {
   "cell_type": "markdown",
   "id": "a15e659d",
   "metadata": {},
   "source": [
    "# Results"
   ]
  },
  {
   "cell_type": "code",
   "execution_count": null,
   "id": "bd7c5a3a",
   "metadata": {},
   "outputs": [],
   "source": [
    "e_dict"
   ]
  },
  {
   "cell_type": "markdown",
   "id": "8e856a07",
   "metadata": {},
   "source": [
    "# Tables"
   ]
  },
  {
   "cell_type": "code",
   "execution_count": null,
   "id": "fa5bbf68",
   "metadata": {},
   "outputs": [],
   "source": [
    "html2 = df3['wood'].to_html('plots/table2.html')\n",
    "html3 = df3['steel'].to_html('plots/table3.html')\n",
    "html4 = df3['brass'].to_html('plots/table4.html')"
   ]
  },
  {
   "cell_type": "markdown",
   "id": "db69b4d0",
   "metadata": {},
   "source": [
    "# Plots"
   ]
  },
  {
   "cell_type": "code",
   "execution_count": null,
   "id": "1dbcdd11",
   "metadata": {},
   "outputs": [],
   "source": [
    "x = np.linspace(0, 5 / 4 * max(max(df3['wood']['y_mean, мм']), max(df3['steel']['y_mean, мм']), max(df3['brass']['y_mean, мм'])))"
   ]
  },
  {
   "cell_type": "code",
   "execution_count": null,
   "id": "bfa1dfa7",
   "metadata": {},
   "outputs": [],
   "source": [
    "fig, ((ax1, ax2), (ax3, ax4)) = plt.subplots(nrows = 2, ncols = 2, figsize=(11.7, 8.3))\n",
    "    \n",
    "fig.delaxes(ax4)\n",
    "\n",
    "ax1.grid(b = True, linestyle = '--')\n",
    "ax2.grid(b = True, linestyle = '--')\n",
    "ax3.grid(b = True, linestyle = '--')\n",
    "\n",
    "ax1.errorbar(df3['wood']['y_mean, мм'], df3['wood']['P, Н'], xerr = df3['wood']['sigma_y, мм'], fmt = '.')\n",
    "ax2.errorbar(df3['steel']['y_mean, мм'], df3['steel']['P, Н'], xerr = df3['steel']['sigma_y, мм'], fmt = '.')\n",
    "ax3.errorbar(df3['brass']['y_mean, мм'], df3['brass']['P, Н'], xerr = df3['brass']['sigma_y, мм'], fmt = '.')\n",
    "\n",
    "ax1.plot(x, linefit['wood']['mean']['a'] + linefit['wood']['mean']['k'] * x, label = '$f(y) = a + y \\cdot k$')\n",
    "ax2.plot(x, linefit['steel']['mean']['a'] + linefit['steel']['mean']['k'] * x, label = '$f(y) = a + y \\cdot k$')\n",
    "ax3.plot(x, linefit['brass']['mean']['a'] + linefit['brass']['mean']['k'] * x, label = '$f(y) = a + y \\cdot k$')\n",
    "\n",
    "ax1.set_ylim(bottom = 0, top = max(5 / 4 * df3['wood']['P, Н']))\n",
    "ax1.set_xlim(left = 0, right = max(5 / 4 * df3['wood']['y_mean, мм']))\n",
    "\n",
    "ax2.set_ylim(bottom = 0, top = max(5 / 4 * df3['steel']['P, Н']))\n",
    "ax2.set_xlim(left = 0, right = max(5 / 4 * df3['steel']['y_mean, мм']))\n",
    "\n",
    "ax3.set_ylim(bottom = 0, top = max(5 / 4 * df3['brass']['P, Н']))\n",
    "ax3.set_xlim(left = 0, right = max(5 / 4 * df3['brass']['y_mean, мм']))\n",
    "\n",
    "ax1.xaxis.set_major_locator(plt.MultipleLocator(1))\n",
    "ax2.xaxis.set_major_locator(plt.MultipleLocator(1))\n",
    "ax3.xaxis.set_major_locator(plt.MultipleLocator(1))\n",
    "\n",
    "ax1.set_title('Рис. 2. Зависимость $P(y)$ (дерево)')\n",
    "ax2.set_title('Рис. 3. Зависимость $P(y)$ (сталь)')\n",
    "ax3.set_title('Рис. 4. Зависимость $P(y)$ (латунь)')\n",
    "\n",
    "ax1.legend()\n",
    "ax2.legend()\n",
    "ax3.legend()\n",
    "\n",
    "fig.savefig('plots/plot2.pdf')"
   ]
  }
 ],
 "metadata": {
  "language_info": {
   "name": "python"
  }
 },
 "nbformat": 4,
 "nbformat_minor": 5
}
