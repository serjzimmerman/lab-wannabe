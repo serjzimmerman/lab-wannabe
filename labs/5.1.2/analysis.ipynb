{
 "cells": [
  {
   "cell_type": "code",
   "execution_count": null,
   "id": "d5fb1bd0-da4f-40cf-86f9-ba563ff05e49",
   "metadata": {},
   "outputs": [],
   "source": [
    "require 'numo/narray'\n",
    "require 'numo/gsl'\n",
    "require 'numo/gnuplot'\n",
    "require 'ostruct'\n",
    "require 'daru'\n",
    "require 'fileutils'\n",
    "require 'pry'\n",
    "require 'spreadsheet'"
   ]
  },
  {
   "cell_type": "code",
   "execution_count": null,
   "id": "cc51ddea",
   "metadata": {},
   "outputs": [],
   "source": [
    "IRuby::Kernel.instance.switch_backend!(:pry)"
   ]
  },
  {
   "cell_type": "markdown",
   "id": "fb707a85-33c8-4cda-8fbf-02a113391b0d",
   "metadata": {},
   "source": [
    "### Utilities"
   ]
  },
  {
   "cell_type": "code",
   "execution_count": null,
   "id": "e3de3f70-44bd-4362-99f6-ed4ca1f74404",
   "metadata": {},
   "outputs": [],
   "source": [
    "# http://youinfinitesnake.blogspot.com/2011/02/attractive-scientific-plots-with.html\n",
    "# http://www.gnuplotting.org/attractive-plots/\n",
    "\n",
    "def plotify(filename)\n",
    "  Numo.noteplot do |note|\n",
    "    set terminal: 'pdfcairo font \"Gill Sans,9\" size 29cm, 21cm linewidth 2 rounded fontscale 0.75'\n",
    "    set output: filename\n",
    "    \n",
    "    set style: 'line 80 lt rgb \"#808080\"'\n",
    "    set style: 'line 81 lt 0'\n",
    "    \n",
    "    set lmargin: 15\n",
    "    set rmargin: 15\n",
    "    set tmargin: 5\n",
    "    set bmargin: 5\n",
    "\n",
    "    # Remove border on top and right.  These\n",
    "    # borders are useless and make it harder\n",
    "    # to see plotted lines near the border.\n",
    "    # Also, put it in grey; no need for so much emphasis on a border.\n",
    "    set border: '3 back linestyle 80'\n",
    "    set grid: 'back linestyle 81'\n",
    "    set xtics: 'nomirror'\n",
    "    set ytics: 'nomirror'\n",
    "    \n",
    "    set key: 'bottom right'\n",
    "    \n",
    "    # Line styles: try to pick pleasing colors, rather\n",
    "    # than strictly primary colors or hard-to-see colors\n",
    "    # like gnuplot's default yellow.  Make the lines thick\n",
    "    # so they're easy to see in small plots in papers.\n",
    "    set style: 'line 1 lt rgb \"#A00000\" lw 1 pt 1'\n",
    "    set style: 'line 2 lt rgb \"#00A000\" lw 1 pt 6'\n",
    "    set style: 'line 3 lt rgb \"#5060D0\" lw 1 pt 2'\n",
    "    set style: 'line 4 lt rgb \"#F25900\" lw 1 pt 9'\n",
    "    \n",
    "    yield note\n",
    "  end\n",
    "end"
   ]
  },
  {
   "cell_type": "markdown",
   "id": "c8642b71-3c3e-4593-950e-2fac01c5c36a",
   "metadata": {},
   "source": [
    "### Data analysis"
   ]
  },
  {
   "cell_type": "code",
   "execution_count": null,
   "id": "e16ec7db-df53-4c44-9c25-f299fb546946",
   "metadata": {},
   "outputs": [],
   "source": [
    "# Original data\n",
    "df = Daru::DataFrame.from_csv('work/labs/lab-1.2/data/data.csv')\n",
    "\n",
    "# Error estimates\n",
    "delta_theta = Math::PI / 180.0\n",
    "\n",
    "left, right = df['left'], df['right']\n",
    "# Estimate mean and error\n",
    "df['n'] = (left + right) / 2.0\n",
    "df['delta(n)'] = (right - left).abs / 2.0\n",
    "df['1 - cos'] = df['theta'].map { |e| 1 - Math.cos(e * Math::PI / 180.0) }\n",
    "df['1/n'] = df['n'].map { |e| 1/e }\n",
    "df['1/n - 1/n0'] = df['1/n'] - df['1/n'][0]\n",
    "df['delta(1/n)'] = df['1/n'] ** 2.0 * df['delta(n)']\n",
    "df['delta(1/n - 1/n0)'] = (df['delta(1/n)'] ** 2.0 + df['delta(1/n)'][0] ** 2.0).sqrt\n",
    "df['delta(1 - cos(theta))'] = df['theta'].map { |e| Math.sin(e * Math::PI / 180.0) * delta_theta }\n",
    "\n",
    "x = df['1 - cos']\n",
    "y = df['1/n - 1/n0']\n",
    "x_err = df['delta(1 - cos(theta))']\n",
    "y_err = df['delta(1/n - 1/n0)']\n",
    "\n",
    "# Number of points to sample\n",
    "n_samples = 1000\n",
    "\n",
    "nx = Numo::DFloat[x.to_a]\n",
    "ny = Numo::DFloat[y.to_a]\n",
    "nw = Numo::DFloat[y_err.to_a]\n",
    "best_fit = Numo::GSL::Fit.linear(nx, ny)\n",
    "xrange = Numo::DFloat.linspace(nx[0], nx[-1], n_samples)\n",
    "best_fit_y, best_fit_err = *Numo::GSL::Fit.linear_est(xrange, best_fit)\n",
    "\n",
    "c0 = best_fit.c0[0]\n",
    "c1 = best_fit.c1[0]\n",
    "\n",
    "c0_err = Math.sqrt best_fit.cov00[0]\n",
    "c1_err = Math.sqrt best_fit.cov11[0]\n",
    "\n",
    "puts (\"c0 = %1.3e +- %1.3e\" % [c0, c0_err])\n",
    "puts (\"c1 = %1.3e +- %1.3e\" % [c1, c1_err])"
   ]
  },
  {
   "cell_type": "code",
   "execution_count": null,
   "id": "52dbe1fb",
   "metadata": {},
   "outputs": [],
   "source": [
    "# Gamma energy\n",
    "e_gamma = 662 # KiloElectronvolts\n",
    "one_over_n0 = df['1/n'][0]\n",
    "\n",
    "get_n_for_theta = -> (theta) do\n",
    "  one_over_n = one_over_n0 + c0 + c1 * (1 - Math.cos(theta * Math::PI / 180.0))\n",
    "  1 / one_over_n\n",
    "end\n",
    "\n",
    "get_delta_n_for_theta = -> (theta) do\n",
    "  angle_in_radians = theta * Math::PI / 180.0\n",
    "\n",
    "  c0_cum_err_sq = c0_err ** 2.0\n",
    "  one_over_n0_cum_err_sq = df['delta(1/n)'][0] ** 2.0\n",
    "  c1_cum_err_sq = ((1 - Math.cos(angle_in_radians)) * c1_err) ** 2.0\n",
    "  angle_cum_err_sq = (c1 * Math.sin(angle_in_radians) * delta_theta) ** 2.0\n",
    "\n",
    "  puts \"c0_cum_err_sq: %1.3e\" % [c0_cum_err_sq]\n",
    "  puts \"one_over_n0_cum_err_sq: %1.3e\" % [one_over_n0_cum_err_sq]\n",
    "  puts \"c1_cum_err_sq: %1.3e\" % [c1_cum_err_sq]\n",
    "  puts \"angle_cum_err_sq: %1.3e\" % [angle_cum_err_sq]\n",
    "\n",
    "  delta = Math.sqrt(c0_cum_err_sq +\n",
    "          one_over_n0_cum_err_sq +\n",
    "          c1_cum_err_sq +\n",
    "          angle_cum_err_sq)\n",
    "  denom = (c0 + one_over_n0 + c1 * (1 - Math.cos(angle_in_radians))) ** 2.0\n",
    "  delta / denom\n",
    "end\n",
    "\n",
    "puts \"n0 = %.3f\" % [n0 = get_n_for_theta.call(0)]\n",
    "puts \"n90 = %.3f\" % [n90 = get_n_for_theta.call(90)]\n",
    "puts \"delta_n0 = %.2f\" % [delta_n0 = get_delta_n_for_theta.call(0)]\n",
    "puts \"delta_n90 = %.2f\" % [delta_n90 = get_delta_n_for_theta.call(90)]\n",
    "\n",
    "e = n90 / (n0 - n90) * e_gamma\n",
    "delta_e = e_gamma * Math.sqrt(\n",
    "  ( delta_n90 * n0 / ((n0 - n90) ** 2.0) ) ** 2.0 +\n",
    "  ( delta_n0 * n90 / ((n0 - n90) ** 2.0) ) ** 2.0\n",
    ")\n",
    "\n",
    "puts \"e = %.2f\" % [e]\n",
    "puts \"delta_e = %.2f\" % [delta_e]"
   ]
  },
  {
   "cell_type": "markdown",
   "id": "5bb0dbb1",
   "metadata": {},
   "source": [
    "### Plots"
   ]
  },
  {
   "cell_type": "code",
   "execution_count": null,
   "id": "fca7a911-bbae-4f86-820a-55b9a61a8de5",
   "metadata": {},
   "outputs": [],
   "source": [
    "plotify 'work/labs/lab-1.2/output/plot1.pdf' do |note|\n",
    "  note.set xlabel: '1 - cos(t)'\n",
    "  note.set ylabel: '1/n - 1/n_0, 1/n_{channel}'\n",
    "  note.set title: 'Рис. 1 Зависимость 1/n от t'\n",
    "  note.set format: { y:'%2.0e' }\n",
    "  note.set style: 'fill transparent solid 0.5' # partial transparency\n",
    "  \n",
    "  note.plot [x, y, x_err, y_err, {ls:1, with: 'xyerrorbars', title: 'Experimental data: 1/n - 1/n0'}],\n",
    "            [xrange, best_fit_y, {ls:3, with: 'lines', title: 'Best fit: c0 + c1 * (1 - cos(t))'}],\n",
    "            [xrange, best_fit_y + best_fit_err, best_fit_y - best_fit_err,\n",
    "                {ls:3, with: 'filledcurves', title: 'Best fit error margin'}]\n",
    "end"
   ]
  },
  {
   "cell_type": "markdown",
   "id": "f9d3ff0c",
   "metadata": {},
   "source": [
    "### Saving intermediate data"
   ]
  },
  {
   "cell_type": "code",
   "execution_count": null,
   "id": "d9e84aa6",
   "metadata": {},
   "outputs": [],
   "source": [
    "df.write_excel('work/labs/lab-1.2/output/table1.xlsx')"
   ]
  }
 ],
 "metadata": {
  "language_info": {
   "name": "ruby"
  }
 },
 "nbformat": 4,
 "nbformat_minor": 5
}
