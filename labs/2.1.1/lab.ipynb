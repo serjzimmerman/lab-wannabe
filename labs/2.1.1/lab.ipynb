{
 "cells": [
  {
   "cell_type": "code",
   "execution_count": null,
   "id": "2a1b47b5",
   "metadata": {},
   "outputs": [],
   "source": [
    "import pandas as pd\n",
    "import numpy as np\n",
    "import matplotlib.pyplot as plt\n",
    "import matplotlib"
   ]
  },
  {
   "cell_type": "code",
   "execution_count": null,
   "id": "320b0c21",
   "metadata": {},
   "outputs": [],
   "source": [
    "def lstsqk(x, y):\n",
    "    return np.multiply(x, y).mean(axis = 0) / np.multiply(x, x).mean(axis = 0)"
   ]
  },
  {
   "cell_type": "code",
   "execution_count": null,
   "id": "ef6023c1",
   "metadata": {},
   "outputs": [],
   "source": [
    "def lstsqkerr(x, y):\n",
    "    return 1 / np.sqrt(len(x)) * np.sqrt(np.multiply(y, y).mean(axis = 0) / np.multiply(x, x).mean(axis = 0) - lstsqk(x,y) ** 2)"
   ]
  },
  {
   "cell_type": "markdown",
   "id": "e63e2a72",
   "metadata": {},
   "source": [
    "# First"
   ]
  },
  {
   "cell_type": "code",
   "execution_count": null,
   "id": "923790e0",
   "metadata": {},
   "outputs": [],
   "source": [
    "df1 = pd.read_excel('experimental_data.xlsx', sheet_name = 'Data').reset_index(drop = True)"
   ]
  },
  {
   "cell_type": "code",
   "execution_count": null,
   "id": "10aa11b1",
   "metadata": {},
   "outputs": [],
   "source": [
    "mu = 0.029\n",
    "p0 = 1e5\n",
    "R = 8.31\n",
    "T = 300\n",
    "rho = mu * p0 / (R * T) # g per L"
   ]
  },
  {
   "cell_type": "code",
   "execution_count": null,
   "id": "e4172466",
   "metadata": {},
   "outputs": [],
   "source": [
    "df1['P, Вт'] = df1['I, мА'] / 1e3 * df1['U, В']"
   ]
  },
  {
   "cell_type": "code",
   "execution_count": null,
   "id": "29ba4ac2",
   "metadata": {},
   "outputs": [],
   "source": [
    "beta = 40.7\n",
    "df1['dT, К'] = df1['dU, мкВ'] / beta\n",
    "df1['Q, г/с'] = df1['q, л/с'] * rho"
   ]
  },
  {
   "cell_type": "code",
   "execution_count": null,
   "id": "7a211ba3",
   "metadata": {},
   "outputs": [],
   "source": [
    "qset = set(df1['q, л/с'])\n",
    "df_list = []\n",
    "for i in qset:\n",
    "    df_list.append(df1.loc[df1['q, л/с'] == i])"
   ]
  },
  {
   "cell_type": "markdown",
   "id": "0180c464",
   "metadata": {},
   "source": [
    "# General Data"
   ]
  },
  {
   "cell_type": "code",
   "execution_count": null,
   "id": "8b57c959",
   "metadata": {},
   "outputs": [],
   "source": [
    "parr = []\n",
    "earr = []\n",
    "for d in df_list:\n",
    "    p, v = np.polyfit(d['P, Вт'], d['dT, К'], deg = 1, cov = True)\n",
    "    parr.append(p)\n",
    "    earr.append(np.sqrt(np.diag(v)))"
   ]
  },
  {
   "cell_type": "code",
   "execution_count": null,
   "id": "4a6715b9",
   "metadata": {},
   "outputs": [],
   "source": [
    "def calculate_least_squares(df):\n",
    "    df1 = df[:].copy()\n",
    "    \n",
    "    df1['P * dT'] = df1['P, Вт'] * df1['dT, К']\n",
    "    \n",
    "    df1['P^2, Вт^2'] = df1['P, Вт'] * df1['P, Вт']\n",
    "    df1['dT^2, К^2'] = df1['dT, К'] * df1['dT, К']\n",
    "    \n",
    "    x_m = df1['P, Вт'].mean()\n",
    "    y_m = df1['dT, К'].mean()\n",
    "    \n",
    "    xx_m = df1['P^2, Вт^2'].mean()\n",
    "    xy_m = df1['P * dT'].mean()\n",
    "    yy_m = df1['dT^2, К^2'].mean()\n",
    "    \n",
    "    return df1, x_m, y_m, xx_m, xy_m, yy_m"
   ]
  },
  {
   "cell_type": "code",
   "execution_count": null,
   "id": "ad289be6",
   "metadata": {},
   "outputs": [],
   "source": [
    "mnkdata = []\n",
    "for i in range(len(df_list)):\n",
    "    df, _, _, _, _, _ = calculate_least_squares(df_list[i])\n",
    "    mnkdata.append(df)"
   ]
  },
  {
   "cell_type": "code",
   "execution_count": null,
   "id": "a8d66854",
   "metadata": {},
   "outputs": [],
   "source": [
    "for i in range(len(mnkdata)):\n",
    "    mnkdata[i].to_excel('plots/output{}.xlsx'.format(i + 1))"
   ]
  },
  {
   "cell_type": "markdown",
   "id": "95371888",
   "metadata": {},
   "source": [
    "# Plot Linear Scale"
   ]
  },
  {
   "cell_type": "code",
   "execution_count": null,
   "id": "c0b83085",
   "metadata": {},
   "outputs": [],
   "source": [
    "def get_min_max(series, k1 = 3 / 4, k2 = 11 / 10):\n",
    "    return k1 * min(series), k2 * max(series)"
   ]
  },
  {
   "cell_type": "code",
   "execution_count": null,
   "id": "50d706a7",
   "metadata": {},
   "outputs": [],
   "source": [
    "def plot_data_linear_scale(ax, df, p, e):\n",
    "    y_min, y_max = get_min_max(df['dT, К'])\n",
    "    x_min, x_max = get_min_max(df['P, Вт'])\n",
    "    y_min = x_min = 0\n",
    "    \n",
    "    ax.xaxis.set_major_locator(plt.MultipleLocator(0.2))\n",
    "    ax.yaxis.set_major_locator(plt.MultipleLocator(1))\n",
    "    ax.xaxis.set_minor_locator(plt.MultipleLocator(0.05))\n",
    "    ax.yaxis.set_minor_locator(plt.MultipleLocator(0.5))\n",
    "    \n",
    "    plt.ticklabel_format(axis=\"x\", style=\"sci\", scilimits=(0,0))\n",
    "    plt.ticklabel_format(axis=\"y\", style=\"sci\", scilimits=(0,0))\n",
    "    \n",
    "    ax.set_ylim(bottom = y_min, top = y_max)\n",
    "    ax.set_xlim(left = x_min, right = x_max)\n",
    "    \n",
    "    ax.grid(visible = True, linestyle = '--', which = 'both')\n",
    "    x = np.linspace(x_min, x_max, 1000)\n",
    "    ax.scatter(df['P, Вт'], df['dT, К'])\n",
    "    ax.plot(x, p[0] * x + p[1], label = \"Линейная модель: $\\Delta{P} = a + b \\cdot P$\")\n",
    "    ax.plot([], [], ' ', label = '$b = {k:.3e} \\pm {dk:.3e}, a = {C:.3e} \\pm {dC:.3e}$'.format(k = p[0], dk = e[0], C = p[1], dC = e[1]))\n",
    "    \n",
    "    ax.legend()\n",
    "    ax.set_xlabel('$P, Вт$')\n",
    "    ax.set_ylabel('$\\Delta{T}, К$')"
   ]
  },
  {
   "cell_type": "code",
   "execution_count": null,
   "id": "435b7d1c",
   "metadata": {},
   "outputs": [],
   "source": [
    "for x in range(len(qset)):\n",
    "    fig, ax = plt.subplots(nrows = 1, ncols = 1, figsize=(11.7, 8.3))\n",
    "    fig.suptitle('Рис. {}. Зависимость $\\Delta T$ от мощности $P$, объемный расход $q = {:.3f} л/с$'.format(x + 1, list(qset)[x]))\n",
    "    plot_data_linear_scale(ax, df_list[x], parr[x], earr[x])\n",
    "    fig.savefig('plots/plot{}.pdf'.format(x + 1))"
   ]
  },
  {
   "cell_type": "code",
   "execution_count": null,
   "id": "18191928",
   "metadata": {},
   "outputs": [],
   "source": [
    "q1 = df_list[0]['Q, г/с'].iloc[0]\n",
    "q2 = df_list[1]['Q, г/с'].iloc[0]"
   ]
  },
  {
   "cell_type": "code",
   "execution_count": null,
   "id": "19c1c258",
   "metadata": {},
   "outputs": [],
   "source": [
    "b1 = parr[0][0]\n",
    "b2 = parr[1][0]"
   ]
  },
  {
   "cell_type": "code",
   "execution_count": null,
   "id": "5faa2172",
   "metadata": {},
   "outputs": [],
   "source": [
    "q1"
   ]
  },
  {
   "cell_type": "code",
   "execution_count": null,
   "id": "8388bb33",
   "metadata": {},
   "outputs": [],
   "source": [
    "Cp = 1 / (q1 - q2) * (1 / b1 - 1 / b2)"
   ]
  },
  {
   "cell_type": "code",
   "execution_count": null,
   "id": "303638bb",
   "metadata": {},
   "outputs": [],
   "source": [
    "Cp"
   ]
  },
  {
   "cell_type": "code",
   "execution_count": null,
   "id": "11b21ddf",
   "metadata": {},
   "outputs": [],
   "source": [
    "alpha = 1 / b1 - Cp * q1"
   ]
  },
  {
   "cell_type": "code",
   "execution_count": null,
   "id": "42f57adc",
   "metadata": {},
   "outputs": [],
   "source": [
    "alpha / b2"
   ]
  },
  {
   "cell_type": "code",
   "execution_count": null,
   "id": "ebe20568",
   "metadata": {},
   "outputs": [],
   "source": [
    "sigma_Cp = np.sqrt((earr[0][0] * (1 / (q1 - q2) * (1 / b1 ** 2))) ** 2 + (earr[1][0] * (1 / (q1 - q2) * (1 / b2 ** 2))))"
   ]
  },
  {
   "cell_type": "code",
   "execution_count": null,
   "id": "5ae680d1",
   "metadata": {},
   "outputs": [],
   "source": [
    "sigma_Cp"
   ]
  },
  {
   "cell_type": "code",
   "execution_count": null,
   "id": "b8ab1326",
   "metadata": {},
   "outputs": [],
   "source": [
    "Cp_theor = 7 / 2 * R / mu / 1000"
   ]
  },
  {
   "cell_type": "code",
   "execution_count": null,
   "id": "d25ad41c",
   "metadata": {},
   "outputs": [],
   "source": [
    "Cp_theor"
   ]
  },
  {
   "cell_type": "code",
   "execution_count": null,
   "id": "acb76eea",
   "metadata": {},
   "outputs": [],
   "source": [
    "pnparr = np.array(parr)\n",
    "enparr = np.array(earr)"
   ]
  },
  {
   "cell_type": "code",
   "execution_count": null,
   "id": "9148e928",
   "metadata": {},
   "outputs": [],
   "source": [
    "k = 9.0 # 1/cm\n",
    "sigma_k = 0.1\n",
    "\n",
    "v1 = 420 # cm^3\n",
    "sigma_v1 = 10\n",
    "\n",
    "v2 = 420 # cm^3\n",
    "sigma_v2 = 10"
   ]
  },
  {
   "cell_type": "code",
   "execution_count": null,
   "id": "f1e4197f",
   "metadata": {},
   "outputs": [],
   "source": [
    "D = k * v1 * v2 / (v1 + v2) * (-pnparr[:, 0])"
   ]
  },
  {
   "cell_type": "code",
   "execution_count": null,
   "id": "7f850371",
   "metadata": {},
   "outputs": [],
   "source": [
    "sigma_1 = v2 / (v1 * (v1 + v2)) * sigma_v1\n",
    "sigma_2 = v1 / (v2 * (v1 + v2)) * sigma_v1\n",
    "sigma_3 = sigma_k / k\n",
    "sigma_4 = enparr[:, 0] / pnparr[:, 0]"
   ]
  },
  {
   "cell_type": "code",
   "execution_count": null,
   "id": "497138cc",
   "metadata": {},
   "outputs": [],
   "source": [
    "pnparr"
   ]
  },
  {
   "cell_type": "code",
   "execution_count": null,
   "id": "ecb2c1fd",
   "metadata": {},
   "outputs": [],
   "source": [
    "sigma_D = D * np.sqrt(sigma_1 ** 2 + sigma_2 ** 2 + sigma_3 ** 2 + sigma_4 ** 2)"
   ]
  },
  {
   "cell_type": "code",
   "execution_count": null,
   "id": "4402ca04",
   "metadata": {},
   "outputs": [],
   "source": [
    "df_d = pd.DataFrame()\n",
    "df_d['P, Па'] = [df['P, Па'].iloc[0] for df in df_list]\n",
    "df_d['1/P, 1/Па'] = 1 / df_d['P, Па']\n",
    "df_d['D'] = D\n",
    "df_d['sigma_D'] = sigma_D"
   ]
  },
  {
   "cell_type": "code",
   "execution_count": null,
   "id": "4face65d",
   "metadata": {},
   "outputs": [],
   "source": [
    "df_d"
   ]
  },
  {
   "cell_type": "markdown",
   "id": "582991fa",
   "metadata": {},
   "source": [
    "# Plot D"
   ]
  },
  {
   "cell_type": "code",
   "execution_count": null,
   "id": "63a7c5dc",
   "metadata": {},
   "outputs": [],
   "source": [
    "fig, ax = plt.subplots(nrows = 1, ncols = 1, figsize=(11.7, 8.3))\n",
    "fig.suptitle('Рис. {}. Зависимость коэффициента диффузии $D(P)$'.format(7))\n",
    "\n",
    "y_min, y_max = get_min_max(df_d['D'])\n",
    "x_min, x_max = get_min_max(df_d['1/P, 1/Па'])\n",
    "\n",
    "ax.xaxis.set_major_locator(plt.MultipleLocator(0.1e-4))\n",
    "ax.yaxis.set_major_locator(plt.MultipleLocator(0.5))\n",
    "ax.xaxis.set_minor_locator(plt.MultipleLocator(0.5e-5))\n",
    "ax.yaxis.set_minor_locator(plt.MultipleLocator(0.25))\n",
    "\n",
    "plt.ticklabel_format(axis=\"x\", style=\"sci\", scilimits=(0,0))\n",
    "plt.ticklabel_format(axis=\"y\", style=\"sci\", scilimits=(0,0))\n",
    "\n",
    "ax.set_ylim(bottom = y_min, top = y_max)\n",
    "ax.set_xlim(left = x_min, right = x_max)\n",
    "\n",
    "ax.grid(visible = True, linestyle = '--', which = 'both')\n",
    "x = np.linspace(x_min, x_max, 1000)\n",
    "ax.scatter(df_d['1/P, 1/Па'], df_d['D'])\n",
    "p, v = np.polyfit(df_d['1/P, 1/Па'], df_d['D'], deg = 1, cov = True)\n",
    "e = np.sqrt(np.diag(v))\n",
    "\n",
    "ax.plot(x, p[0] * x + p[1], label = \"Линейная модель: $D = a + b / P$\")\n",
    "ax.plot([], [], ' ', label = '$b = {k:.3e} \\pm {dk:.3e}, a = {C:.3e} \\pm {dC:.3e}$'.format(k = p[0], dk = e[0], C = p[1], dC = e[1]))\n",
    "\n",
    "ax.legend()\n",
    "ax.set_xlabel('$1 / P$, 1/Па')\n",
    "ax.set_ylabel('$D$')\n",
    "\n",
    "fig.savefig('plots/plot{}.pdf'.format(7))"
   ]
  },
  {
   "cell_type": "markdown",
   "id": "df3293b6",
   "metadata": {},
   "source": [
    "# Use least squares to fit a linear model"
   ]
  }
 ],
 "metadata": {
  "language_info": {
   "name": "python"
  }
 },
 "nbformat": 4,
 "nbformat_minor": 5
}
