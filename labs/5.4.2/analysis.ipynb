{
 "cells": [
  {
   "cell_type": "code",
   "execution_count": null,
   "id": "0fcbb7e3",
   "metadata": {},
   "outputs": [],
   "source": [
    "import numpy as np\n",
    "import scipy as sp\n",
    "import pandas as pd\n",
    "import matplotlib.pyplot as plt\n",
    "from numpy import float64 as f64\n",
    "import matplotlib as mpl"
   ]
  },
  {
   "cell_type": "code",
   "execution_count": null,
   "id": "88148c15",
   "metadata": {},
   "outputs": [],
   "source": [
    "# For interactive plots\n",
    "%matplotlib widget\n",
    "%cd '/home/jovyan/work/labs/lab-4.2'"
   ]
  },
  {
   "cell_type": "markdown",
   "id": "fb707a85-33c8-4cda-8fbf-02a113391b0d",
   "metadata": {},
   "source": [
    "### Utilities"
   ]
  },
  {
   "cell_type": "code",
   "execution_count": null,
   "id": "bedd9604",
   "metadata": {},
   "outputs": [],
   "source": [
    "label_font = 12\n",
    "markersize = 8"
   ]
  },
  {
   "cell_type": "markdown",
   "id": "c8642b71-3c3e-4593-950e-2fac01c5c36a",
   "metadata": {},
   "source": [
    "### Data analysis"
   ]
  },
  {
   "cell_type": "code",
   "execution_count": null,
   "id": "98beef03",
   "metadata": {},
   "outputs": [],
   "source": [
    "df = pd.read_csv(f\"data/data.csv\")\n",
    "\n",
    "df = df.drop('N, 1/s', axis=1)\n",
    "df = df.drop('(N)^0.5', axis=1)\n",
    "df = df.drop('(N)^0.5/I', axis=1)\n",
    "\n",
    "df['n, 1/s'] = df['N'] / df['t, s']\n",
    "df['delta_n, 1/s'] = 1.0 / np.sqrt(df['N']) * df['n, 1/s']\n",
    "\n",
    "first_row = df.iloc[0]\n",
    "n0 = first_row['n, 1/s']\n",
    "delta_n0 = first_row['delta_n, 1/s']\n",
    "current_delta = 0.01 # 10 mA\n",
    "print(f'n0 = {n0} += {delta_n0}')\n",
    "\n",
    "df['n, 1/s'] -= n0"
   ]
  },
  {
   "cell_type": "code",
   "execution_count": null,
   "id": "892d197b",
   "metadata": {},
   "outputs": [],
   "source": [
    "def plot_unfitted(ax):\n",
    "    x = df['p, keV/ c']\n",
    "    y = df['n, 1/s']\n",
    "    dy = df['delta_n, 1/s']\n",
    "\n",
    "    plot0 = ax.errorbar(x, y, dy, current_delta, fmt=',', capsize=2.5)\n",
    "    \n",
    "    ax.set_xlabel(f\"$I$, A\")\n",
    "    ax.set_ylabel(f\"$N$, 1/s\")\n",
    "\n",
    "    ax.get_xaxis().set_visible(True)\n",
    "    ax.get_yaxis().set_visible(True)\n",
    "    ax.xaxis.set_minor_locator(mpl.ticker.AutoMinorLocator())\n",
    "    \n",
    "    ax.grid(True, which=\"both\")\n",
    "    plt.rcParams.update({\"figure.autolayout\": True})"
   ]
  },
  {
   "cell_type": "code",
   "execution_count": null,
   "id": "e6945512-c2a2-4494-8740-dad1cd07bfbd",
   "metadata": {},
   "outputs": [],
   "source": [
    "def gauss(x, a, mu, sigma):\n",
    "    return a * np.exp(-0.5 * (x - mu) ** 2 / sigma**2.0)\n",
    "    \n",
    "def fit_gaussian(xs, ys) -> tuple:\n",
    "    return sp.optimize.curve_fit(gauss, xs, ys, p0=[ys.max(), xs.mean(), 1.0])"
   ]
  },
  {
   "cell_type": "code",
   "execution_count": null,
   "id": "16056d14-7f7a-44f5-879e-1632543468d3",
   "metadata": {},
   "outputs": [],
   "source": [
    "slice_begin, slice_end = 16, 27\n",
    "sliced = df.iloc[slice_begin:slice_end]\n",
    "fit_result = fit_gaussian(sliced['I, A'], sliced['n, 1/s'])\n",
    "coeff, _ = fit_result\n",
    "_, mean, sigma = coeff\n",
    "xs = np.linspace(mean - 3.0 * sigma, mean + 3.0 * sigma)"
   ]
  },
  {
   "cell_type": "code",
   "execution_count": null,
   "id": "5689634c-1c4c-47b6-862b-c44f23f9ce26",
   "metadata": {},
   "outputs": [],
   "source": [
    "k = 1013.5 / mean\n",
    "c = 3e8 # Speed of light\n",
    "mc = 511 # Photon energy\n",
    " \n",
    "print(f'k = {k}')\n",
    "df['p, keV/ c'] = k * df['I, A']\n",
    "df['E, keV'] = np.sqrt(df['p, keV/ c'] ** 2.0 + mc ** 2.0) - mc"
   ]
  },
  {
   "cell_type": "code",
   "execution_count": null,
   "id": "77663f8a",
   "metadata": {},
   "outputs": [],
   "source": [
    "fig, ax = plt.subplots(1, 1, figsize=(10, 6))\n",
    "\n",
    "sliced = df.iloc[slice_begin:slice_end]\n",
    "fit_result = fit_gaussian(sliced['p, keV/ c'], sliced['n, 1/s'])\n",
    "coeff, _ = fit_result\n",
    "_, mean, sigma = coeff\n",
    "xs = np.linspace(mean - 3.0 * sigma, mean + 3.0 * sigma)\n",
    "plot_unfitted(ax)\n",
    "ax.plot(xs, np.vectorize(gauss)(xs, *coeff))\n",
    "\n",
    "fig.savefig(f\"output/current-without-fit.pdf\")"
   ]
  },
  {
   "cell_type": "code",
   "execution_count": null,
   "id": "3065305f-ea3e-4a5d-bcc2-82c15b5b48ed",
   "metadata": {},
   "outputs": [],
   "source": [
    "def plot_curie(ax):\n",
    "    x = df['E, keV']\n",
    "    y = df['n, 1/s'] ** 0.5 * df['p, keV/ c'] ** -1.5\n",
    "\n",
    "    plot0 = ax.scatter(x, y)\n",
    "    \n",
    "    ax.set_xlabel(f\"$T$, keV\")\n",
    "    ax.set_ylabel(f\"$f$\")\n",
    "\n",
    "    ax.get_xaxis().set_visible(True)\n",
    "    ax.get_yaxis().set_visible(True)\n",
    "    ax.xaxis.set_minor_locator(mpl.ticker.AutoMinorLocator())\n",
    "    \n",
    "    ax.grid(True, which=\"both\")\n",
    "    plt.rcParams.update({\"figure.autolayout\": True})"
   ]
  },
  {
   "cell_type": "code",
   "execution_count": null,
   "id": "aa5a30fa-477f-4bc9-817b-2bba372dfeef",
   "metadata": {},
   "outputs": [],
   "source": [
    "fig, ax = plt.subplots(1, 1, figsize=(10, 6))\n",
    "\n",
    "plot_curie(ax)\n",
    "\n",
    "sliced = df[8:17]\n",
    "x = sliced['E, keV']\n",
    "y = sliced['n, 1/s'] ** 0.5 * sliced['p, keV/ c'] ** -1.5\n",
    "\n",
    "result = sp.stats.linregress(x, y)\n",
    "xs = np.linspace(min(df['E, keV']), max(df['E, keV']), 1000)\n",
    "ax.plot(xs, xs * result.slope + result.intercept)\n",
    "\n",
    "print(f'e_max = {-result.intercept / result.slope}')\n",
    "fig.savefig(f\"output/curie.pdf\")"
   ]
  }
 ],
 "metadata": {
  "language_info": {
   "name": "python"
  }
 },
 "nbformat": 4,
 "nbformat_minor": 5
}
