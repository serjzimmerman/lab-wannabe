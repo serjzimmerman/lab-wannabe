{
 "cells": [
  {
   "cell_type": "code",
   "execution_count": null,
   "id": "2a1b47b5",
   "metadata": {},
   "outputs": [],
   "source": [
    "import pandas as pd\n",
    "import numpy as np\n",
    "import matplotlib.pyplot as plt\n",
    "import matplotlib\n",
    "import scipy\n",
    "import pandas_helper_calc"
   ]
  },
  {
   "cell_type": "markdown",
   "id": "e63e2a72",
   "metadata": {},
   "source": [
    "# First"
   ]
  },
  {
   "cell_type": "code",
   "execution_count": null,
   "id": "8cf40fac",
   "metadata": {},
   "outputs": [],
   "source": [
    "t0 = 6.9092 # microsec\n",
    "abs_zero = 273.15 # Kelvin"
   ]
  },
  {
   "cell_type": "code",
   "execution_count": null,
   "id": "b6ae2bd3",
   "metadata": {},
   "outputs": [],
   "source": [
    "df1 = pd.read_excel('experimental_data.xlsx', sheet_name = 'Data').reset_index(drop = True)\n",
    "df1['t, К'] = df1['t, C'] + abs_zero\n",
    "df1['xi'] = (df1['t, мкс'] / t0) ** 2 - 1\n",
    "df1['1/xi'] = 1 / df1['xi']"
   ]
  },
  {
   "cell_type": "markdown",
   "id": "0180c464",
   "metadata": {},
   "source": [
    "# Plots"
   ]
  },
  {
   "cell_type": "code",
   "execution_count": null,
   "id": "f43d5a08",
   "metadata": {},
   "outputs": [],
   "source": [
    "fig, ax = plt.subplots(nrows = 1, ncols = 1, figsize=(11.7, 8.3))\n",
    "fig.suptitle('Рис. 1. Зависимость $\\kappa^{-1}(T)$')\n",
    "\n",
    "ax.xaxis.set_major_locator(plt.MultipleLocator(2.5))\n",
    "ax.yaxis.set_major_locator(plt.MultipleLocator(2))\n",
    "ax.xaxis.set_minor_locator(plt.MultipleLocator(1.25))\n",
    "ax.yaxis.set_minor_locator(plt.MultipleLocator(1))\n",
    "\n",
    "ax.grid(visible = True, linestyle = '--', which = 'both')\n",
    "ax.plot(df1['t, К'], df1['1/xi'])\n",
    "\n",
    "result = scipy.stats.linregress(df1['t, К'].iloc[6:9], df1['1/xi'].iloc[6:9])\n",
    "x = np.linspace(290, 302.5)\n",
    "ax.plot(x, x * result.slope + result.intercept, label = \"Линейная модель: $\\kappa^{-1} = a + b \\cdot T$\")\n",
    "ax.plot([], [], ' ', label = '$b = {k:.4}$ 1/К, $a = {a:.4}$'.format(k = result.slope, a = result.intercept))\n",
    "\n",
    "ax.legend()\n",
    "ax.set_xlabel('$I, А$')\n",
    "ax.set_ylabel('$B, Тл$')\n",
    "\n",
    "fig.savefig('plots/plot{}.pdf'.format(1))"
   ]
  }
 ],
 "metadata": {
  "language_info": {
   "name": "python"
  }
 },
 "nbformat": 4,
 "nbformat_minor": 5
}
