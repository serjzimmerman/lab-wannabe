{
 "cells": [
  {
   "cell_type": "code",
   "execution_count": null,
   "id": "2a1b47b5",
   "metadata": {},
   "outputs": [],
   "source": [
    "import pandas as pd\n",
    "import numpy as np\n",
    "import matplotlib.pyplot as plt\n",
    "import matplotlib\n",
    "import scipy\n",
    "import pandas_helper_calc"
   ]
  },
  {
   "cell_type": "markdown",
   "id": "e63e2a72",
   "metadata": {},
   "source": [
    "# First"
   ]
  },
  {
   "cell_type": "code",
   "execution_count": null,
   "id": "b6ae2bd3",
   "metadata": {},
   "outputs": [],
   "source": [
    "df1 = pd.read_excel('experimental_data.xlsx', sheet_name = 'Gas Discharge').reset_index(drop = True)"
   ]
  },
  {
   "cell_type": "code",
   "execution_count": null,
   "id": "559bf294",
   "metadata": {},
   "outputs": [],
   "source": [
    "curr_per_del = 40e-6\n",
    "df1['I, А'] = df1['I, дел'] * curr_per_del\n",
    "df1['U, В'] = df1['U, кВ'] * 1e3"
   ]
  },
  {
   "cell_type": "code",
   "execution_count": null,
   "id": "1d6aa25a",
   "metadata": {},
   "outputs": [],
   "source": [
    "df1_skipped = df1.iloc[::2, :]"
   ]
  },
  {
   "cell_type": "code",
   "execution_count": null,
   "id": "6d727f26",
   "metadata": {},
   "outputs": [],
   "source": [
    "currents = np.array(df1['I, А'] * 1e3)\n",
    "voltages = np.array(df1['U, В'])\n",
    "df1_calc_der = pd.DataFrame({\"U, В\": voltages}, index=currents)\n",
    "print (df1_calc_der.calc.derivative())"
   ]
  },
  {
   "cell_type": "code",
   "execution_count": null,
   "id": "66ad4229",
   "metadata": {},
   "outputs": [],
   "source": [
    "df2 = pd.read_excel('experimental_data.xlsx', sheet_name = 'Dual Pole 5mA Fixed').reset_index(drop = True)\n",
    "df3 = pd.read_excel('experimental_data.xlsx', sheet_name = 'Dual Pole 3mA Fixed').reset_index(drop = True)\n",
    "df4 = pd.read_excel('experimental_data.xlsx', sheet_name = 'Dual Pole 1.5mA Fixed').reset_index(drop = True)"
   ]
  },
  {
   "cell_type": "code",
   "execution_count": null,
   "id": "3ab86ab8",
   "metadata": {},
   "outputs": [],
   "source": [
    "df2"
   ]
  },
  {
   "cell_type": "markdown",
   "id": "0180c464",
   "metadata": {},
   "source": [
    "# Plots"
   ]
  },
  {
   "cell_type": "code",
   "execution_count": null,
   "id": "f43d5a08",
   "metadata": {},
   "outputs": [],
   "source": [
    "fig, ax = plt.subplots(nrows = 1, ncols = 1, figsize=(11.7, 8.3))\n",
    "fig.suptitle('Рис. {}. Вольт-Амперная характеристика плазмы газового разряда'.format(1))\n",
    "\n",
    "ax.set_yscale('log')\n",
    "ax.xaxis.set_major_locator(plt.MultipleLocator(10))\n",
    "ax.yaxis.set_major_locator(plt.MultipleLocator(5e-4))\n",
    "ax.xaxis.set_minor_locator(plt.MultipleLocator(5))\n",
    "ax.yaxis.set_minor_locator(plt.MultipleLocator(5e-4))\n",
    "\n",
    "ax.grid(visible = True, linestyle = '--', which = 'both')\n",
    "ax.scatter(df1_skipped['U, В'], df1_skipped['I, А'])\n",
    "\n",
    "ax.set_xlabel('$U, В$')\n",
    "ax.set_ylabel('$I, А$')\n",
    "\n",
    "fig.savefig('plots/plot{}.pdf'.format(1))"
   ]
  },
  {
   "cell_type": "code",
   "execution_count": null,
   "id": "94aba401",
   "metadata": {},
   "outputs": [],
   "source": [
    "fig, ax = plt.subplots(nrows = 1, ncols = 1, figsize=(11.7, 8.3))\n",
    "fig.suptitle('Рис. {}. Вольт-Амперная характеристика двойного зонда'.format(2))\n",
    "\n",
    "ax.xaxis.set_major_locator(plt.MultipleLocator(10))\n",
    "ax.yaxis.set_major_locator(plt.MultipleLocator(20))\n",
    "ax.xaxis.set_minor_locator(plt.MultipleLocator(5))\n",
    "ax.yaxis.set_minor_locator(plt.MultipleLocator(10))\n",
    "\n",
    "ax.grid(visible = True, linestyle = '--', which = 'both')\n",
    "ax.scatter(df2['U, В'], df2['I, мкА'], label='$I_0 = 6.0$ мА', s = 20)\n",
    "ax.scatter(df3['U, В'], df3['I, мкА'], label='$I_0 = 3.0$ мА', s = 20)\n",
    "ax.scatter(df4['U, В'], df4['I, мкА'], label='$I_0 = 1.5$ мА', s = 20)\n",
    "\n",
    "ax.legend()\n",
    "ax.set_xlabel('$U, В$')\n",
    "ax.set_ylabel('$I, мкА$')\n",
    "\n",
    "fig.savefig('plots/plot{}.pdf'.format(2))"
   ]
  },
  {
   "cell_type": "code",
   "execution_count": null,
   "id": "f142110a",
   "metadata": {},
   "outputs": [],
   "source": [
    "fig, ax = plt.subplots(nrows = 1, ncols = 1, figsize=(11.7, 8.3))\n",
    "fig.suptitle('Рис. {}. Вольт-Амперная характеристика двойного зонда ($I_0 = 6.0$ мА)'.format(3))\n",
    "\n",
    "ax.xaxis.set_major_locator(plt.MultipleLocator(10))\n",
    "ax.yaxis.set_major_locator(plt.MultipleLocator(20))\n",
    "ax.xaxis.set_minor_locator(plt.MultipleLocator(5))\n",
    "ax.yaxis.set_minor_locator(plt.MultipleLocator(10))\n",
    "\n",
    "ax.grid(visible = True, linestyle = '--', which = 'both')\n",
    "ax.plot(df2['U, В'], df2['I, мкА'], label='ВАХ $I_0 = 6.0$ мА')\n",
    "\n",
    "result = scipy.stats.linregress(df2['U, В'].iloc[13:20], df2['I, мкА'].iloc[13:20])\n",
    "x = np.linspace(-10, 10)\n",
    "ax.plot(x, x * result.slope + result.intercept, label = \"Линейная модель: $I = \\frac{dI}{dU} \\cdot U$\")\n",
    "ax.plot([], [], ' ', label = '$dI/dU = {k:.4f} \\pm {dk:.4f}$'.format(k = result.slope, dk = result.stderr))\n",
    "\n",
    "saturation_1 = scipy.stats.linregress(df2['U, В'].iloc[0:8], df2['I, мкА'].iloc[0:8])\n",
    "x = np.linspace(0, 30)\n",
    "ax.plot(x, x * saturation_1.slope + saturation_1.intercept)\n",
    "ax.plot([], [], ' ', label = '$I_{{sat}} = {k:.4f} \\pm {dk:.4f}$'.format(k = saturation_1.intercept, dk = saturation_1.intercept_stderr))\n",
    "\n",
    "saturation_2 = scipy.stats.linregress(df2['U, В'].iloc[29:], df2['I, мкА'].iloc[29:])\n",
    "x = np.linspace(-30, 0)\n",
    "ax.plot(x, x * saturation_2.slope + saturation_2.intercept)\n",
    "ax.plot([], [], ' ', label = '$I_{{sat}} = {k:.4f} \\pm {dk:.4f}$'.format(k = saturation_2.intercept, dk = saturation_2.intercept_stderr))\n",
    "\n",
    "\n",
    "ax.legend()\n",
    "ax.set_xlabel('$U, В$')\n",
    "ax.set_ylabel('$I, мкА$')\n",
    "\n",
    "fig.savefig('plots/plot{}.pdf'.format(3))"
   ]
  },
  {
   "cell_type": "code",
   "execution_count": null,
   "id": "65ade23c",
   "metadata": {},
   "outputs": [],
   "source": [
    "fig, ax = plt.subplots(nrows = 1, ncols = 1, figsize=(11.7, 8.3))\n",
    "fig.suptitle('Рис. {}. Вольт-Амперная характеристика двойного зонда ($I_0 = 3.0$ мА)'.format(4))\n",
    "\n",
    "ax.xaxis.set_major_locator(plt.MultipleLocator(10))\n",
    "ax.yaxis.set_major_locator(plt.MultipleLocator(20))\n",
    "ax.xaxis.set_minor_locator(plt.MultipleLocator(5))\n",
    "ax.yaxis.set_minor_locator(plt.MultipleLocator(10))\n",
    "\n",
    "ax.grid(visible = True, linestyle = '--', which = 'both')\n",
    "ax.plot(df3['U, В'], df3['I, мкА'], label='ВАХ $I_0 = 3.0$ мА')\n",
    "\n",
    "result = scipy.stats.linregress(df3['U, В'].iloc[13:20], df3['I, мкА'].iloc[13:20])\n",
    "x = np.linspace(-10, 10)\n",
    "ax.plot(x, x * result.slope + result.intercept, label = \"Линейная модель: $I = \\frac{dI}{dU} \\cdot U$\")\n",
    "ax.plot([], [], ' ', label = '$dI/dU = {k:.4f} \\pm {dk:.4f}$'.format(k = result.slope, dk = result.stderr))\n",
    "\n",
    "saturation_1 = scipy.stats.linregress(df3['U, В'].iloc[0:8], df3['I, мкА'].iloc[0:8])\n",
    "x = np.linspace(0, 30)\n",
    "ax.plot(x, x * saturation_1.slope + saturation_1.intercept)\n",
    "ax.plot([], [], ' ', label = '$I_{{sat}} = {k:.4f} \\pm {dk:.4f}$'.format(k = saturation_1.intercept, dk = saturation_1.intercept_stderr))\n",
    "\n",
    "saturation_2 = scipy.stats.linregress(df3['U, В'].iloc[29:], df3['I, мкА'].iloc[29:])\n",
    "x = np.linspace(-30, 0)\n",
    "ax.plot(x, x * saturation_2.slope + saturation_2.intercept)\n",
    "ax.plot([], [], ' ', label = '$I_{{sat}} = {k:.4f} \\pm {dk:.4f}$'.format(k = saturation_2.intercept, dk = saturation_2.intercept_stderr))\n",
    "\n",
    "\n",
    "ax.legend()\n",
    "ax.set_xlabel('$U, В$')\n",
    "ax.set_ylabel('$I, мкА$')\n",
    "\n",
    "fig.savefig('plots/plot{}.pdf'.format(4))"
   ]
  },
  {
   "cell_type": "code",
   "execution_count": null,
   "id": "594194be",
   "metadata": {},
   "outputs": [],
   "source": [
    "fig, ax = plt.subplots(nrows = 1, ncols = 1, figsize=(11.7, 8.3))\n",
    "fig.suptitle('Рис. {}. Вольт-Амперная характеристика двойного зонда ($I_0 = 1.5$ мА)'.format(4))\n",
    "\n",
    "ax.xaxis.set_major_locator(plt.MultipleLocator(10))\n",
    "ax.yaxis.set_major_locator(plt.MultipleLocator(20))\n",
    "ax.xaxis.set_minor_locator(plt.MultipleLocator(5))\n",
    "ax.yaxis.set_minor_locator(plt.MultipleLocator(10))\n",
    "\n",
    "ax.grid(visible = True, linestyle = '--', which = 'both')\n",
    "ax.plot(df4['U, В'], df4['I, мкА'], label='ВАХ $I_0 = 1.5$ мА')\n",
    "\n",
    "result = scipy.stats.linregress(df4['U, В'].iloc[13:20], df4['I, мкА'].iloc[13:20])\n",
    "x = np.linspace(-10, 10)\n",
    "ax.plot(x, x * result.slope + result.intercept, label = \"Линейная модель: $I = \\frac{dI}{dU} \\cdot U$\")\n",
    "ax.plot([], [], ' ', label = '$dI/dU = {k:.4f} \\pm {dk:.4f}$'.format(k = result.slope, dk = result.stderr))\n",
    "\n",
    "saturation_1 = scipy.stats.linregress(df4['U, В'].iloc[0:8], df4['I, мкА'].iloc[0:8])\n",
    "x = np.linspace(0, 30)\n",
    "ax.plot(x, x * saturation_1.slope + saturation_1.intercept)\n",
    "ax.plot([], [], ' ', label = '$I_{{sat}} = {k:.4f} \\pm {dk:.4f}$'.format(k = saturation_1.intercept, dk = saturation_1.intercept_stderr))\n",
    "\n",
    "saturation_2 = scipy.stats.linregress(df4['U, В'].iloc[29:], df4['I, мкА'].iloc[29:])\n",
    "x = np.linspace(-30, 0)\n",
    "ax.plot(x, x * saturation_2.slope + saturation_2.intercept)\n",
    "ax.plot([], [], ' ', label = '$I_{{sat}} = {k:.4f} \\pm {dk:.4f}$'.format(k = saturation_2.intercept, dk = saturation_2.intercept_stderr))\n",
    "\n",
    "\n",
    "ax.legend()\n",
    "ax.set_xlabel('$U, В$')\n",
    "ax.set_ylabel('$I, мкА$')\n",
    "\n",
    "fig.savefig('plots/plot{}.pdf'.format(5))"
   ]
  }
 ],
 "metadata": {
  "language_info": {
   "name": "python"
  }
 },
 "nbformat": 4,
 "nbformat_minor": 5
}
