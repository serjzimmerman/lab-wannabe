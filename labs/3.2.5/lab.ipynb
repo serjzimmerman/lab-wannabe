{
 "cells": [
  {
   "cell_type": "code",
   "execution_count": null,
   "id": "2a1b47b5",
   "metadata": {},
   "outputs": [],
   "source": [
    "import pandas as pd\n",
    "import numpy as np\n",
    "import matplotlib.pyplot as plt\n",
    "import matplotlib\n",
    "import scipy\n",
    "import pandas_helper_calc"
   ]
  },
  {
   "cell_type": "markdown",
   "id": "e63e2a72",
   "metadata": {},
   "source": [
    "# First"
   ]
  },
  {
   "cell_type": "code",
   "execution_count": null,
   "id": "b6ae2bd3",
   "metadata": {},
   "outputs": [],
   "source": [
    "df1 = pd.read_excel('experimental_data.xlsx', sheet_name = 'Ampl').reset_index(drop = True)\n",
    "df1['V/V_max'] = df1['V, В'] / max(df1['V, В'])"
   ]
  },
  {
   "cell_type": "code",
   "execution_count": null,
   "id": "e8933453",
   "metadata": {},
   "outputs": [],
   "source": [
    "df1"
   ]
  },
  {
   "cell_type": "markdown",
   "id": "0180c464",
   "metadata": {},
   "source": [
    "# Plots"
   ]
  },
  {
   "cell_type": "code",
   "execution_count": null,
   "id": "f43d5a08",
   "metadata": {},
   "outputs": [],
   "source": [
    "fig, ax = plt.subplots(nrows = 1, ncols = 1, figsize=(11.7, 8.3))\n",
    "fig.suptitle('Рис. {}. АЧХ'.format(1))\n",
    "\n",
    "ax.xaxis.set_major_locator(plt.MultipleLocator(0.01))\n",
    "ax.yaxis.set_major_locator(plt.MultipleLocator(0.05))\n",
    "ax.xaxis.set_minor_locator(plt.MultipleLocator(0.25))\n",
    "ax.yaxis.set_minor_locator(plt.MultipleLocator(0.025))\n",
    "\n",
    "ax.grid(visible = True, linestyle = '--', which = 'both')\n",
    "ax.plot(df1['f, кГц'], df1['V/V_max'])\n",
    "\n",
    "ax.set_xlabel('$f, кГц$')\n",
    "ax.set_ylabel('$V/V_max$')\n",
    "\n",
    "fig.savefig('plots/plot{}.pdf'.format(1))"
   ]
  }
 ],
 "metadata": {
  "language_info": {
   "name": "python"
  }
 },
 "nbformat": 4,
 "nbformat_minor": 5
}
