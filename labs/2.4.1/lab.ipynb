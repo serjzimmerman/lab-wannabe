{
 "cells": [
  {
   "cell_type": "code",
   "execution_count": null,
   "id": "44ed480e",
   "metadata": {},
   "outputs": [],
   "source": [
    "# coding: utf-8\n",
    "\n",
    "import pandas as pd\n",
    "import numpy as np\n",
    "import matplotlib.pyplot as plt\n",
    "import matplotlib\n",
    "from matplotlib.cm import get_cmap\n",
    "import scipy.optimize"
   ]
  },
  {
   "cell_type": "markdown",
   "id": "51f420da",
   "metadata": {},
   "source": [
    "# Input experimental data"
   ]
  },
  {
   "cell_type": "code",
   "execution_count": null,
   "id": "7e4af3d4",
   "metadata": {},
   "outputs": [],
   "source": [
    "df1 = pd.read_excel('experimental_data.xlsx', sheet_name = 'Heating', header = 0)\n",
    "df2 = pd.read_excel('experimental_data.xlsx', sheet_name = 'Cooling', header = 0)"
   ]
  },
  {
   "cell_type": "code",
   "execution_count": null,
   "id": "a9e01f0e",
   "metadata": {},
   "outputs": [],
   "source": [
    "m = 1e-2"
   ]
  },
  {
   "cell_type": "code",
   "execution_count": null,
   "id": "8551170b",
   "metadata": {},
   "outputs": [],
   "source": [
    "sigma_h = 0.1e-3"
   ]
  },
  {
   "cell_type": "code",
   "execution_count": null,
   "id": "fcbbc9a7",
   "metadata": {},
   "outputs": [],
   "source": [
    "df1['h_a, м'] = m * df1['h_a, см']\n",
    "df1['h_b, м'] = m * df1['h_b, см']\n",
    "df2['h_a, м'] = m * df2['h_a, см']\n",
    "df2['h_b, м'] = m * df2['h_b, см']"
   ]
  },
  {
   "cell_type": "code",
   "execution_count": null,
   "id": "7a96b07c",
   "metadata": {},
   "outputs": [],
   "source": [
    "rho = 13600\n",
    "g = 9.81\n",
    "zero_kelvin = 273"
   ]
  },
  {
   "cell_type": "code",
   "execution_count": null,
   "id": "b2d14e0b",
   "metadata": {},
   "outputs": [],
   "source": [
    "sigma_p = 2 * rho * g * sigma_h"
   ]
  },
  {
   "cell_type": "code",
   "execution_count": null,
   "id": "e7c77012",
   "metadata": {},
   "outputs": [],
   "source": [
    "df1['P, Па'] = rho * g * (df1['h_b, м'] - df1['h_a, м'])\n",
    "df2['P, Па'] = rho * g * (df2['h_b, м'] - df2['h_a, м'])"
   ]
  },
  {
   "cell_type": "code",
   "execution_count": null,
   "id": "b4c1aec2",
   "metadata": {},
   "outputs": [],
   "source": [
    "df1['T, K'] = df1['T, C'] + zero_kelvin\n",
    "df2['T, K'] = df2['T, C'] + zero_kelvin"
   ]
  },
  {
   "cell_type": "code",
   "execution_count": null,
   "id": "a5daf24c",
   "metadata": {},
   "outputs": [],
   "source": [
    "df1['1/T, 1/K'] = 1 / df1['T, K']\n",
    "df2['1/T, 1/K'] = 1 / df2['T, K']\n",
    "df1['ln(P)'] = np.log(df1['P, Па'])\n",
    "df2['ln(P)'] = np.log(df2['P, Па'])"
   ]
  },
  {
   "cell_type": "code",
   "execution_count": null,
   "id": "7d118718",
   "metadata": {},
   "outputs": [],
   "source": [
    "df1"
   ]
  },
  {
   "cell_type": "markdown",
   "id": "343723f8",
   "metadata": {},
   "source": [
    "# Least Squares"
   ]
  },
  {
   "cell_type": "code",
   "execution_count": null,
   "id": "ef8a2809",
   "metadata": {},
   "outputs": [],
   "source": [
    "def lstsqb(x, y):\n",
    "    return (x.multiply(y).mean() - x.mean() * y.mean()) / (x.multiply(x).mean() - x.mean() ** 2)"
   ]
  },
  {
   "cell_type": "code",
   "execution_count": null,
   "id": "d016f6cc",
   "metadata": {},
   "outputs": [],
   "source": [
    "def lstsqa(x, y):\n",
    "    return y.mean() - lstsqb(x, y) * x.mean()"
   ]
  },
  {
   "cell_type": "code",
   "execution_count": null,
   "id": "bcfbe18e",
   "metadata": {},
   "outputs": [],
   "source": [
    "def lstsqbsem(x, y):\n",
    "    return 1 / np.sqrt(len(x)) * np.sqrt((y.multiply(y).mean() - y.mean() ** 2) / (x.multiply(x).mean() - x.mean() ** 2) - lstsqb(x, y) ** 2)"
   ]
  },
  {
   "cell_type": "markdown",
   "id": "25918f6e",
   "metadata": {},
   "source": [
    "# Part 1"
   ]
  },
  {
   "cell_type": "markdown",
   "id": "c50c6b93",
   "metadata": {},
   "source": [
    "# Plots"
   ]
  },
  {
   "cell_type": "code",
   "execution_count": null,
   "id": "b46faba2",
   "metadata": {},
   "outputs": [],
   "source": [
    "def plot_data(a, df, q, p):\n",
    "    a.xaxis.set_major_locator(plt.MultipleLocator(5))\n",
    "    a.yaxis.set_major_locator(plt.MultipleLocator(1000))\n",
    "    a.xaxis.set_minor_locator(plt.MultipleLocator(2.5))\n",
    "    a.yaxis.set_minor_locator(plt.MultipleLocator(200))\n",
    "    plt.ticklabel_format(axis=\"x\", style=\"sci\", scilimits=(0,0))\n",
    "    plt.ticklabel_format(axis=\"y\", style=\"sci\", scilimits=(0,0))\n",
    "    a.set_ylim(bottom = y_min, top = y_max)\n",
    "    a.set_xlim(left = x_min, right = x_max)\n",
    "    a.grid(visible = True, linestyle = '--')\n",
    "    a.grid(visible = True, linestyle = '--', which = 'minor')\n",
    "    x = np.linspace(x_min, x_max, 1000)\n",
    "    a.scatter(df['T, K'], df['P, Па'])\n",
    "    a.plot(x, np.exp(p[1] - mu * q / (R * x)))\n",
    "    a.set_xlabel('$T, \\degree K$')\n",
    "    a.set_ylabel('$P, Па$')"
   ]
  },
  {
   "cell_type": "code",
   "execution_count": null,
   "id": "75f0170e",
   "metadata": {},
   "outputs": [],
   "source": [
    "delta_x = 5"
   ]
  },
  {
   "cell_type": "code",
   "execution_count": null,
   "id": "b6d0fba2",
   "metadata": {},
   "outputs": [],
   "source": [
    "x_max = max(df1.loc[:, 'T, K']) + delta_x\n",
    "y_max = 17 / 16 * max(df1.loc[:, 'P, Па'])\n",
    "x_min = min(df1.loc[:, 'T, K']) - delta_x\n",
    "y_min = 15 / 16 * min(df1.loc[:, 'P, Па'])"
   ]
  },
  {
   "cell_type": "code",
   "execution_count": null,
   "id": "6ce02ce6",
   "metadata": {},
   "outputs": [],
   "source": [
    "name = \"Set1\"\n",
    "cmap = get_cmap(name) # type: matplotlib.colors.ListedColormap\n",
    "colors = cmap.colors  # type: list"
   ]
  },
  {
   "cell_type": "code",
   "execution_count": null,
   "id": "835ff355",
   "metadata": {},
   "outputs": [],
   "source": [
    "fig, ax = plt.subplots(nrows = 1, ncols = 1, figsize=(11.7, 8.3))\n",
    "fig.suptitle('Рис. 1. Зависимость $P(T)$ (Нагревание)')\n",
    "plot_data(ax, df1, q1, p1)\n",
    "fig.savefig('plots/plot1.pdf')"
   ]
  },
  {
   "cell_type": "code",
   "execution_count": null,
   "id": "58c408da",
   "metadata": {},
   "outputs": [],
   "source": [
    "fig, ax = plt.subplots(nrows = 1, ncols = 1, figsize=(11.7, 8.3))\n",
    "fig.suptitle('Рис. 2. Зависимость $P(T)$ (Охлаждение)')\n",
    "plot_data(ax, df2, q2, p2)\n",
    "fig.savefig('plots/plot2.pdf')"
   ]
  },
  {
   "cell_type": "code",
   "execution_count": null,
   "id": "ac3c0703",
   "metadata": {},
   "outputs": [],
   "source": [
    "p1, v1 = np.polyfit(df1['1/T, 1/K'], df1['ln(P)'], deg = 1, cov = True)\n",
    "p2, v2 = np.polyfit(df2['1/T, 1/K'], df2['ln(P)'], deg = 1, cov = True)\n",
    "err1 = np.sqrt(np.diag(v1))\n",
    "err2 = np.sqrt(np.diag(v2))"
   ]
  },
  {
   "cell_type": "code",
   "execution_count": null,
   "id": "fed0d872",
   "metadata": {},
   "outputs": [],
   "source": [
    "x_max = 17 / 16 * max(df1.loc[:, '1/T, 1/K'])\n",
    "y_max = 17 / 16 * max(df1.loc[:, 'ln(P)'])\n",
    "x_min = 15 / 16 * min(df1.loc[:, '1/T, 1/K'])\n",
    "y_min = 15 / 16 * min(df1.loc[:, 'ln(P)'])"
   ]
  },
  {
   "cell_type": "code",
   "execution_count": null,
   "id": "074a0cf3",
   "metadata": {},
   "outputs": [],
   "source": [
    "x = np.linspace(0, x_max, 1000)"
   ]
  },
  {
   "cell_type": "code",
   "execution_count": null,
   "id": "0a0f203c",
   "metadata": {},
   "outputs": [],
   "source": [
    "def plot_log(a, df, p, v, i):\n",
    "    a.xaxis.set_major_locator(plt.MultipleLocator(0.1e-3))\n",
    "    a.yaxis.set_major_locator(plt.MultipleLocator(1))\n",
    "    a.xaxis.set_minor_locator(plt.MultipleLocator(0.2e-4))\n",
    "    a.yaxis.set_minor_locator(plt.MultipleLocator(0.1))\n",
    "    err = np.sqrt(np.diag(v))\n",
    "    plt.ticklabel_format(axis=\"x\", style=\"sci\", scilimits=(0,0))\n",
    "    plt.ticklabel_format(axis=\"y\", style=\"sci\", scilimits=(0,0))\n",
    "    a.set_ylim(bottom = y_min, top = y_max)\n",
    "    a.set_xlim(left = x_min, right = x_max)\n",
    "    a.grid(visible = True, linestyle = '--')\n",
    "    a.grid(visible = True, linestyle = '--', which = 'minor')\n",
    "    x = np.linspace(x_min, x_max, 1000)\n",
    "    a.scatter(df['1/T, 1/K'], df['ln(P)'], color = colors[i])\n",
    "    a.plot(x, x * p[0] + p[1], label = 'Линейная модель: $f(\\ln{P}) = C + k / T$', color = colors[i])\n",
    "    a.plot([], [], ' ', label = '$k = {k:.3f} \\pm {dk:.3f}, C = {C:.3f} \\pm {dC:.3f}$'.format(k = p[0], dk = err[0], C = p[1], dC = err[1]))\n",
    "    a.legend()\n",
    "    a.set_xlabel('$1/T, 1 / \\degree K$')\n",
    "    a.set_ylabel('$ln(P)$')"
   ]
  },
  {
   "cell_type": "code",
   "execution_count": null,
   "id": "614e43ed",
   "metadata": {},
   "outputs": [],
   "source": [
    "fig, ax = plt.subplots(nrows = 1, ncols = 1, figsize=(11.7, 8.3))\n",
    "plot_log(ax, df1, p1, v1, 0)\n",
    "fig.suptitle('Рис. 3. Зависимость $P(1/T)$ в логарифмических координатах')\n",
    "fig.savefig('plots/plot3.pdf')"
   ]
  },
  {
   "cell_type": "code",
   "execution_count": null,
   "id": "f36f9cfe",
   "metadata": {},
   "outputs": [],
   "source": [
    "fig, ax = plt.subplots(nrows = 1, ncols = 1, figsize=(11.7, 8.3))\n",
    "plot_log(ax, df2, p2, v2, 1)\n",
    "fig.suptitle('Рис. 4. Зависимость $P(1/T)$ в логарифмических координатах')\n",
    "fig.savefig('plots/plot4.pdf')"
   ]
  },
  {
   "cell_type": "code",
   "execution_count": null,
   "id": "d3ca2ae0",
   "metadata": {},
   "outputs": [],
   "source": [
    "R = 8.31"
   ]
  },
  {
   "cell_type": "code",
   "execution_count": null,
   "id": "ff8c4238",
   "metadata": {},
   "outputs": [],
   "source": [
    "mu = 0.046"
   ]
  },
  {
   "cell_type": "code",
   "execution_count": null,
   "id": "c5dfd586",
   "metadata": {},
   "outputs": [],
   "source": [
    "q1 = (-1) * p1[0] * R / mu\n",
    "q2 = (-1) * p2[0] * R / mu\n",
    "sigma_q1 = (-1) * err1[0] / p1[0] * q1\n",
    "sigma_q2 = (-1) * err2[0] / p2[0] * q2"
   ]
  },
  {
   "cell_type": "code",
   "execution_count": null,
   "id": "87c51151",
   "metadata": {},
   "outputs": [],
   "source": [
    "q2"
   ]
  },
  {
   "cell_type": "code",
   "execution_count": null,
   "id": "7609aa32",
   "metadata": {},
   "outputs": [],
   "source": [
    "sigma_q2"
   ]
  },
  {
   "cell_type": "markdown",
   "id": "6abbc137",
   "metadata": {},
   "source": [
    "# Results"
   ]
  },
  {
   "cell_type": "code",
   "execution_count": null,
   "id": "1529fcf8",
   "metadata": {},
   "outputs": [],
   "source": [
    "df1.to_excel('output1.xlsx')\n",
    "df2.to_excel('output2.xlsx')"
   ]
  }
 ],
 "metadata": {
  "language_info": {
   "name": "python"
  }
 },
 "nbformat": 4,
 "nbformat_minor": 5
}
