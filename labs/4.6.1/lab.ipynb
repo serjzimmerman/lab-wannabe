{
 "cells": [
  {
   "cell_type": "code",
   "execution_count": null,
   "id": "2a1b47b5",
   "metadata": {},
   "outputs": [],
   "source": [
    "import pandas as pd\n",
    "import numpy as np\n",
    "import matplotlib.pyplot as plt\n",
    "import matplotlib\n",
    "import scipy"
   ]
  },
  {
   "cell_type": "markdown",
   "id": "e63e2a72",
   "metadata": {},
   "source": [
    "# First"
   ]
  },
  {
   "cell_type": "code",
   "execution_count": null,
   "id": "b6ae2bd3",
   "metadata": {},
   "outputs": [],
   "source": [
    "df1 = pd.read_excel('experimental_data.xlsx', sheet_name = 'First').reset_index(drop = True)\n",
    "df2 = pd.read_excel('experimental_data.xlsx', sheet_name = 'Second').reset_index(drop = True)"
   ]
  },
  {
   "cell_type": "markdown",
   "id": "0180c464",
   "metadata": {},
   "source": [
    "# Plots"
   ]
  },
  {
   "cell_type": "code",
   "execution_count": null,
   "id": "dad0d1cb",
   "metadata": {},
   "outputs": [],
   "source": [
    "df1"
   ]
  },
  {
   "cell_type": "code",
   "execution_count": null,
   "id": "13ef40a3",
   "metadata": {},
   "outputs": [],
   "source": [
    "fig, ax = plt.subplots(nrows = 1, ncols = 1, figsize=(11.7, 8.3))\n",
    "fig.suptitle('Рис. {}. Интенсовность'.format(1))\n",
    "\n",
    "max_val = max(df1['x, мм'])\n",
    "\n",
    "ax.set_ylim([0, 1.25])\n",
    "ax.set_xlim([0, 1.25 * max_val])\n",
    "    \n",
    "ax.grid(visible = True, linestyle = '--', which = 'both')\n",
    "ax.plot(df1['x, мм'], df1['I, отн'], label='$I_{rel}$')\n",
    "\n",
    "# x = np.linspace(0, 1.25 * max(df['m']))\n",
    "# ax.plot(x, x * result.slope + result.intercept, label = \"Линейная модель: $r^2 = a + k \\cdot m$\")\n",
    "# ax.plot([], [], ' ', label = '$k = {k:.6f} \\pm {dk:.6f}$, $a = {a:.4f}$'.format(k = result.slope, dk = result.stderr, a = result.intercept))\n",
    "\n",
    "ax.set_xlabel('$x, мм$')\n",
    "ax.set_ylabel('$I / I_{max}$')\n",
    "\n",
    "ax.legend()\n",
    "fig.savefig('plots/plot{}.pdf'.format(1))"
   ]
  },
  {
   "cell_type": "code",
   "execution_count": null,
   "id": "d5fe86ab",
   "metadata": {},
   "outputs": [],
   "source": [
    "3e8 / 34e9"
   ]
  },
  {
   "cell_type": "code",
   "execution_count": null,
   "id": "24a0e83d",
   "metadata": {},
   "outputs": [],
   "source": [
    "fig, ax = plt.subplots(nrows = 1, ncols = 1, figsize=(11.7, 8.3))\n",
    "fig.suptitle('Рис. {}. Интенсивность Интерферометр'.format(2))\n",
    "\n",
    "max_val = max(df2['x, мм'])\n",
    "\n",
    "ax.set_ylim([0, 1.25])\n",
    "ax.set_xlim([0, 1.25 * max_val])\n",
    "    \n",
    "ax.grid(visible = True, linestyle = '--', which = 'both')\n",
    "ax.plot(df2['x, мм'], df2['I, отн'], label='$I_{rel}$')\n",
    "\n",
    "# x = np.linspace(0, 1.25 * max(df['m']))\n",
    "# ax.plot(x, x * result.slope + result.intercept, label = \"Линейная модель: $r^2 = a + k \\cdot m$\")\n",
    "# ax.plot([], [], ' ', label = '$k = {k:.6f} \\pm {dk:.6f}$, $a = {a:.4f}$'.format(k = result.slope, dk = result.stderr, a = result.intercept))\n",
    "\n",
    "ax.set_xlabel('$x, мм$')\n",
    "ax.set_ylabel('$I / I_{max}$')\n",
    "\n",
    "ax.legend()\n",
    "fig.savefig('plots/plot{}.pdf'.format(2))"
   ]
  },
  {
   "cell_type": "code",
   "execution_count": null,
   "id": "7186523a",
   "metadata": {},
   "outputs": [],
   "source": [
    "ns = (l / (4 * np.pi * L)) ** 2 + 1"
   ]
  },
  {
   "cell_type": "code",
   "execution_count": null,
   "id": "ac9119cd",
   "metadata": {},
   "outputs": [],
   "source": [
    "ns ** 0.5 * 2 ** 0.5"
   ]
  }
 ],
 "metadata": {
  "language_info": {
   "name": "python"
  }
 },
 "nbformat": 4,
 "nbformat_minor": 5
}
