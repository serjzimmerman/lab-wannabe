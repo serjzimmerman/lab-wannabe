{
 "cells": [
  {
   "cell_type": "code",
   "execution_count": null,
   "id": "0fcbb7e3",
   "metadata": {},
   "outputs": [],
   "source": [
    "import numpy as np\n",
    "import scipy as sp\n",
    "import pandas as pd\n",
    "import matplotlib.pyplot as plt\n",
    "from numpy import float64 as f64"
   ]
  },
  {
   "cell_type": "code",
   "execution_count": null,
   "id": "88148c15",
   "metadata": {},
   "outputs": [],
   "source": [
    "# For interactive plots\n",
    "%matplotlib widget\n",
    "%cd '/home/jovyan/work/labs/lab-5.5'"
   ]
  },
  {
   "cell_type": "markdown",
   "id": "fb707a85-33c8-4cda-8fbf-02a113391b0d",
   "metadata": {},
   "source": [
    "### Utilities"
   ]
  },
  {
   "cell_type": "code",
   "execution_count": null,
   "id": "bedd9604",
   "metadata": {},
   "outputs": [],
   "source": [
    "label_font = 12\n",
    "markersize = 8"
   ]
  },
  {
   "cell_type": "markdown",
   "id": "c8642b71-3c3e-4593-950e-2fac01c5c36a",
   "metadata": {},
   "source": [
    "### Data analysis"
   ]
  },
  {
   "cell_type": "code",
   "execution_count": null,
   "id": "e5649e52",
   "metadata": {},
   "outputs": [],
   "source": [
    "names = [\"am241\", \"co60\", \"cs137\", \"eu152\", \"na22\"]"
   ]
  },
  {
   "cell_type": "code",
   "execution_count": null,
   "id": "98beef03",
   "metadata": {},
   "outputs": [],
   "source": [
    "def load_dfs():\n",
    "    return {\n",
    "        name: df\n",
    "        for (name, df) in [(name, pd.read_csv(f\"data/{name}.csv\")) for name in names]\n",
    "    }"
   ]
  },
  {
   "cell_type": "code",
   "execution_count": null,
   "id": "1e000ffc",
   "metadata": {},
   "outputs": [],
   "source": [
    "def filter_counts(df: pd.DataFrame, window_length: int = 50, polyorder: int = 5):\n",
    "    df[\"Filtered\"] = sp.signal.savgol_filter(\n",
    "        df[\"Counts\"], window_length, polyorder)\n",
    "\n",
    "\n",
    "def find_peaks(df: pd.DataFrame, **kwargs):\n",
    "    peaks, properites = sp.signal.find_peaks(df[\"Filtered\"], **kwargs)\n",
    "    return (peaks, properites)\n",
    "\n",
    "\n",
    "def gauss(x, a, mu, sigma):\n",
    "    return a * np.exp(-0.5 * (x - mu) ** 2 / sigma**2.0)\n",
    "\n",
    "\n",
    "def fit_gaussian(xs, ys) -> tuple:\n",
    "    return sp.optimize.curve_fit(gauss, xs, ys, p0=[ys.max(), xs.mean(), 1.0])\n",
    "\n",
    "\n",
    "def get_xs_for_fitting(properties, peak_idx, widen_by: f64 = 2.0):\n",
    "    left_ip = properties[\"left_ips\"][peak_idx]\n",
    "    right_ip = properties[\"right_ips\"][peak_idx]\n",
    "    width = properties[\"widths\"][peak_idx]\n",
    "\n",
    "    left_ip -= widen_by * width / 2\n",
    "    right_ip += widen_by * width / 2\n",
    "\n",
    "    xs = np.array([x for x in range(int(left_ip), int(right_ip))])\n",
    "    return xs\n",
    "\n",
    "\n",
    "def fit_peak(df: pd.DataFrame, properties, peak_idx, widen_by: f64 = 2.0):\n",
    "    xs = get_xs_for_fitting(properties, peak_idx, widen_by)\n",
    "    ys = df[\"Filtered\"][xs[0]: xs[-1] + 1]\n",
    "    return fit_gaussian(xs, ys)"
   ]
  },
  {
   "cell_type": "code",
   "execution_count": null,
   "id": "24d0e776",
   "metadata": {},
   "outputs": [],
   "source": [
    "def plot_with_peaks(\n",
    "    ax,\n",
    "    df,\n",
    "    peaks: np.array,\n",
    "    properties: dict,\n",
    "    markevery: int = 10,\n",
    "    plot_color: str = \"green\",\n",
    "    peaks_mark_color=\"red\",\n",
    "    plot_linestyle: str = \"--\",\n",
    "    plot_marker: str = \"o\",\n",
    "    peaks_marker: str = \"x\",\n",
    "    xs_name=\"Channel\",\n",
    "):\n",
    "    n_arr = df[xs_name]\n",
    "    signal_arr = df[\"Filtered\"]\n",
    "\n",
    "    # https://github.com/WenqiJiang/matplotlib-templates/blob/master/plot/plot.py\n",
    "    plot0 = ax.plot(\n",
    "        n_arr,\n",
    "        signal_arr,\n",
    "        color=plot_color,\n",
    "        marker=plot_marker,\n",
    "        markersize=markersize,\n",
    "        markevery=markevery,\n",
    "        linestyle=plot_linestyle,\n",
    "    )\n",
    "\n",
    "    ax.scatter(peaks, signal_arr[peaks],\n",
    "               marker=peaks_marker, color=peaks_mark_color)\n",
    "\n",
    "    ax.hlines(\n",
    "        y=properties[\"width_heights\"],\n",
    "        xmin=properties[\"left_ips\"],\n",
    "        xmax=properties[\"right_ips\"],\n",
    "        color=\"C1\",\n",
    "    )\n",
    "\n",
    "    ax.get_xaxis().set_visible(True)\n",
    "    ax.grid(True, which=\"both\")\n",
    "    ax.set_xlabel(\"$n$\", fontsize=label_font)\n",
    "    ax.set_ylabel(\"$signal$\", fontsize=label_font)\n",
    "\n",
    "    plt.rcParams.update({\"figure.autolayout\": True})\n",
    "    return plot0"
   ]
  },
  {
   "cell_type": "code",
   "execution_count": null,
   "id": "aac0e1fe",
   "metadata": {},
   "outputs": [],
   "source": [
    "def plot_fitted_peaks(\n",
    "    ax,\n",
    "    ax_other,\n",
    "    df: pd.DataFrame,\n",
    "    peak_indices: np.array,\n",
    "    widen_peaks_by: np.array,\n",
    "    properties: dict,\n",
    "):\n",
    "    ax.set_xlim(ax_other.get_xlim())\n",
    "    ax.set_ylim(ax_other.get_ylim())\n",
    "\n",
    "    for i, widen_by in zip(peak_indices, widen_peaks_by):\n",
    "        coeff, _ = fit_peak(df, properties, i, widen_by=widen_by)\n",
    "        _, mean, sigma = coeff\n",
    "        xs = np.linspace(mean - 3.0 * sigma, mean + 3.0 * sigma)\n",
    "        ax.plot(xs, np.vectorize(gauss)(xs, *coeff))\n",
    "\n",
    "    ax.get_xaxis().set_visible(True)\n",
    "    ax.grid(True, which=\"both\")"
   ]
  },
  {
   "cell_type": "code",
   "execution_count": null,
   "id": "77663f8a",
   "metadata": {},
   "outputs": [],
   "source": [
    "dfs = load_dfs()\n",
    "for material, df in dfs.items():\n",
    "    filter_counts(df, window_length=25, polyorder=5)"
   ]
  },
  {
   "cell_type": "code",
   "execution_count": null,
   "id": "47421781",
   "metadata": {},
   "outputs": [],
   "source": [
    "fitargs = {\"prominence\": 10.0, \"width\": 10.0, \"distance\": 10.0, \"rel_height\": 0.5}"
   ]
  },
  {
   "cell_type": "code",
   "execution_count": null,
   "id": "2801bcdb",
   "metadata": {},
   "outputs": [],
   "source": [
    "def plot_and_approx(dfs, name, peak_nums, xs_label=\"Channel\", prefix=\"\"):\n",
    "    df = dfs[name]\n",
    "    fig, (ax_raw, ax_fitted) = plt.subplots(2, 1, figsize=(10, 6))\n",
    "\n",
    "    ax_raw.set_title(f\"Отфильтрованный спектр {name}\")\n",
    "    ax_fitted.set_title(f\"Fitted спектр {name}\")\n",
    "\n",
    "    peaks, properties = find_peaks(df, **fitargs)\n",
    "    plot0 = plot_with_peaks(\n",
    "        ax_raw,\n",
    "        df,\n",
    "        peaks,\n",
    "        properties,\n",
    "        plot_color=\"blue\",\n",
    "        plot_marker=\",\",\n",
    "        peaks_marker=\"X\",\n",
    "        plot_linestyle=\"-\",\n",
    "        markevery=100,\n",
    "        xs_name=xs_label,\n",
    "    )\n",
    "\n",
    "    plot_fitted_peaks(\n",
    "        ax_fitted, ax_raw, df, peak_nums, np.ones(len(peak_nums)), properties\n",
    "    )\n",
    "\n",
    "    ax_raw.legend([plot0[0]], [\"$\\mu_n$\"], loc=\"upper right\", fontsize=label_font)\n",
    "    fig.savefig(f\"output/{prefix}fitted-{name}-{xs_label}.pdf\")\n",
    "    return fig"
   ]
  },
  {
   "cell_type": "code",
   "execution_count": null,
   "id": "e139825a",
   "metadata": {},
   "outputs": [],
   "source": [
    "peak_indices_calibrate = {\n",
    "    \"cs137\": [6],\n",
    "    \"co60\": [12, 13],\n",
    "    \"na22\": [4]\n",
    "}\n",
    "\n",
    "peak_energies_calibrate = {\n",
    "    \"cs137\": [661.7],\n",
    "    \"co60\": [1173.2, 1332.5],\n",
    "    \"na22\": [1274.0]\n",
    "}\n",
    "\n",
    "peak_indices_all = {\n",
    "    \"cs137\": [6],\n",
    "    \"co60\": [12, 13],\n",
    "    \"na22\": [3, 4],\n",
    "    \"am241\": [0, 1],\n",
    "    \"eu152\": [2, 4, 6],\n",
    "}"
   ]
  },
  {
   "cell_type": "code",
   "execution_count": null,
   "id": "40f9615a",
   "metadata": {},
   "outputs": [],
   "source": [
    "peaks = {name: find_peaks(dfs[name], **fitargs) for name in names}\n",
    "\n",
    "photopeaks_xs = []\n",
    "photopeaks_ys = []\n",
    "for name, values in peak_indices_calibrate.items():\n",
    "    idxs, _ = peaks[name]\n",
    "    photopeaks_xs.extend([idxs[i] for i in values])\n",
    "    photopeaks_ys.extend(peak_energies_calibrate[name])\n",
    "\n",
    "result = sp.stats.linregress(photopeaks_xs, photopeaks_ys)\n",
    "xs_fit = np.linspace(min(photopeaks_xs), max(photopeaks_xs), 1000)\n",
    "ys_fit = result.slope * xs_fit + result.intercept\n",
    "\n",
    "print(\n",
    "    f\"E = ({result.intercept:e} +- {result.intercept_stderr:e}) + ({result.slope:e} +- {result.stderr:e}) * N\"\n",
    ")"
   ]
  },
  {
   "cell_type": "code",
   "execution_count": null,
   "id": "e353315f",
   "metadata": {},
   "outputs": [],
   "source": [
    "def convert_to_energy(n):\n",
    "    return n * result.slope + result.intercept\n",
    "\n",
    "\n",
    "def convert_to_sd_energy(n):\n",
    "    return n * result.stderr + result.intercept_stderr"
   ]
  },
  {
   "cell_type": "code",
   "execution_count": null,
   "id": "c78dbca8",
   "metadata": {},
   "outputs": [],
   "source": [
    "for df in dfs.values():\n",
    "    df[\"Energy\"] = np.vectorize(convert_to_energy)(df[\"Channel\"])"
   ]
  },
  {
   "cell_type": "code",
   "execution_count": null,
   "id": "f21f7f4b",
   "metadata": {},
   "outputs": [],
   "source": [
    "peaks_dict = {\n",
    "    \"Material\": [], \n",
    "    \"N\": [],\n",
    "    \"Delta(N)\": [], \n",
    "    \"E\": [], \n",
    "    \"Delta(E)\": [], \n",
    "    \"R\": []\n",
    "}\n",
    "\n",
    "df_peaks = pd.DataFrame(peaks_dict)"
   ]
  },
  {
   "cell_type": "code",
   "execution_count": null,
   "id": "36a86d69",
   "metadata": {},
   "outputs": [],
   "source": [
    "for name in names:\n",
    "    idxs = peak_indices_all[name]\n",
    "    peaks, properties = find_peaks(dfs[name], **fitargs)\n",
    "    widths = properties[\"widths\"]\n",
    "\n",
    "    for idx in idxs:\n",
    "        peak = peaks[idx]\n",
    "        width = widths[idx]\n",
    "\n",
    "        new_row = {\n",
    "            \"Material\": name,\n",
    "            \"N\": peak,\n",
    "            \"Delta(N)\": width,\n",
    "            \"E\": convert_to_energy(peak),\n",
    "            \"Delta(E)\": result.slope * width,\n",
    "            \"SD(E)\": convert_to_sd_energy(peak),\n",
    "            \"SD(DE)\": result.slope * width * result.stderr,\n",
    "        }\n",
    "\n",
    "        df_peaks = pd.concat(\n",
    "            [df_peaks, pd.DataFrame([new_row])], ignore_index=True)"
   ]
  },
  {
   "cell_type": "code",
   "execution_count": null,
   "id": "42addaf7",
   "metadata": {},
   "outputs": [],
   "source": [
    "df_peaks[\"R\"] = df_peaks[\"Delta(E)\"] / df_peaks[\"E\"]\n",
    "df_peaks[\"SD(R)\"] = df_peaks[\"R\"] * df_peaks[\"SD(E)\"] / df_peaks[\"E\"]"
   ]
  },
  {
   "cell_type": "code",
   "execution_count": null,
   "id": "20a56265",
   "metadata": {},
   "outputs": [],
   "source": [
    "def setup_axes(ax: plt.Axes):\n",
    "    # https://github.com/WenqiJiang/matplotlib-templates/blob/master/plot/plot.py\n",
    "    ax.get_xaxis().set_visible(True)\n",
    "    ax.get_yaxis().set_visible(True)\n",
    "    ax.grid(True, which=\"both\")\n",
    "    plt.rcParams.update({\"figure.autolayout\": True})"
   ]
  },
  {
   "cell_type": "code",
   "execution_count": null,
   "id": "d60b1082",
   "metadata": {},
   "outputs": [],
   "source": [
    "%%capture\n",
    "fig, ax = plt.subplots(1, 1, figsize=(10, 6))\n",
    "\n",
    "ax.scatter(photopeaks_xs, photopeaks_ys)\n",
    "ax.plot(xs_fit, ys_fit)\n",
    "\n",
    "setup_axes(ax)\n",
    "ax.set_xlabel(\"$N_{channel}$\")\n",
    "ax.set_ylabel(\"$E$\")\n",
    "\n",
    "fig.set_label(\"Рис 1. Калибровочная зависимость\")\n",
    "fig.savefig(f\"output/calibrating.pdf\")"
   ]
  },
  {
   "cell_type": "markdown",
   "id": "5bb0dbb1",
   "metadata": {},
   "source": [
    "### Plots"
   ]
  },
  {
   "cell_type": "code",
   "execution_count": null,
   "id": "f11f49f5",
   "metadata": {},
   "outputs": [],
   "source": [
    "%%capture\n",
    "plot_and_approx(dfs, 'cs137', peak_indices_calibrate['cs137'])\n",
    "plot_and_approx(dfs, 'co60', peak_indices_calibrate['co60'])\n",
    "plot_and_approx(dfs, 'na22', peak_indices_calibrate['na22'])"
   ]
  },
  {
   "cell_type": "code",
   "execution_count": null,
   "id": "f56ea5c5",
   "metadata": {},
   "outputs": [],
   "source": [
    "%%capture\n",
    "plot_and_approx(dfs, \"cs137\", peak_indices_all[\"cs137\"], prefix=\"all\")\n",
    "plot_and_approx(dfs, \"co60\", peak_indices_all[\"co60\"], prefix=\"all\")\n",
    "plot_and_approx(dfs, \"na22\", peak_indices_all[\"na22\"], prefix=\"all\")\n",
    "plot_and_approx(dfs, \"am241\", peak_indices_all[\"am241\"], prefix=\"all\")\n",
    "plot_and_approx(dfs, \"eu152\", peak_indices_all[\"eu152\"], prefix=\"all\")"
   ]
  },
  {
   "cell_type": "code",
   "execution_count": null,
   "id": "8f9efeee",
   "metadata": {},
   "outputs": [],
   "source": [
    "df_peaks.to_excel(\"output/peaks.xlsx\")"
   ]
  },
  {
   "cell_type": "code",
   "execution_count": null,
   "id": "9020db53",
   "metadata": {},
   "outputs": [],
   "source": [
    "with_dropped = df_peaks.drop(index=[0])"
   ]
  },
  {
   "cell_type": "code",
   "execution_count": null,
   "id": "ec29bbb7",
   "metadata": {},
   "outputs": [],
   "source": [
    "with_dropped"
   ]
  },
  {
   "cell_type": "code",
   "execution_count": null,
   "id": "eb9bb406",
   "metadata": {},
   "outputs": [],
   "source": [
    "inv_e = 1.0 / with_dropped[\"E\"]\n",
    "inv_e_sd = 1.0 / with_dropped['E'] ** 2.0 * with_dropped['SD(E)']\n",
    "r_sq = with_dropped[\"R\"] ** 2.0\n",
    "r_sq_sd = 2.0 * r_sq *  with_dropped[\"SD(R)\"]\n",
    "result_r = sp.stats.linregress(inv_e, with_dropped[\"R\"] ** 2.0)\n",
    "xs_fit_r = np.linspace(min(inv_e), max(inv_e), 1000)\n",
    "ys_fit_r = result_r.slope * xs_fit_r + result_r.intercept"
   ]
  },
  {
   "cell_type": "code",
   "execution_count": null,
   "id": "61c62739",
   "metadata": {},
   "outputs": [],
   "source": [
    "fig, ax = plt.subplots(1, 1, figsize=(10, 6))\n",
    "\n",
    "ax.errorbar(inv_e, r_sq, xerr=inv_e_sd, yerr=r_sq_sd, fmt='o')\n",
    "ax.plot(xs_fit_r, ys_fit_r)\n",
    "\n",
    "setup_axes(ax)\n",
    "ax.set_xlabel(\"$\\\\frac{1}{E}$\")\n",
    "ax.set_ylabel(\"$R^2$\")\n",
    "\n",
    "fig.set_label(\"Рис 2. Зависимость R от E\")\n",
    "fig.savefig(\"output/r-relation.pdf\")"
   ]
  }
 ],
 "metadata": {
  "language_info": {
   "name": "python"
  }
 },
 "nbformat": 4,
 "nbformat_minor": 5
}
