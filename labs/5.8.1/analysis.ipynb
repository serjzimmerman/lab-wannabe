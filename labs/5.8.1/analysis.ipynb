{
 "cells": [
  {
   "cell_type": "code",
   "execution_count": null,
   "id": "d5fb1bd0-da4f-40cf-86f9-ba563ff05e49",
   "metadata": {},
   "outputs": [],
   "source": [
    "require 'irb/completion'\n",
    "require 'numo/narray'\n",
    "require 'numo/gsl'\n",
    "require 'numo/gnuplot'\n",
    "require 'ostruct'\n",
    "require 'daru'\n",
    "require 'fileutils'\n",
    "require 'pry'\n",
    "require 'spreadsheet'"
   ]
  },
  {
   "cell_type": "code",
   "execution_count": null,
   "id": "cc51ddea",
   "metadata": {},
   "outputs": [],
   "source": [
    "IRuby::Kernel.instance.switch_backend!(:pry)"
   ]
  },
  {
   "cell_type": "markdown",
   "id": "fb707a85-33c8-4cda-8fbf-02a113391b0d",
   "metadata": {},
   "source": [
    "### Utilities"
   ]
  },
  {
   "cell_type": "code",
   "execution_count": null,
   "id": "e3de3f70-44bd-4362-99f6-ed4ca1f74404",
   "metadata": {},
   "outputs": [],
   "source": [
    "# http://youinfinitesnake.blogspot.com/2011/02/attractive-scientific-plots-with.html\n",
    "# http://www.gnuplotting.org/attractive-plots/\n",
    "\n",
    "def plotify(filename)\n",
    "  Numo.noteplot do |note|\n",
    "    set terminal: 'pdfcairo font \"Gill Sans,9\" size 21cm, 15cm linewidth 2 rounded fontscale 0.75'\n",
    "    set output: filename\n",
    "    \n",
    "    set style: 'line 80 lt rgb \"#808080\"'\n",
    "    set style: 'line 81 lt 0'\n",
    "    \n",
    "    # Remove border on top and right.  These\n",
    "    # borders are useless and make it harder\n",
    "    # to see plotted lines near the border.\n",
    "    # Also, put it in grey; no need for so much emphasis on a border.\n",
    "    set border: '3 back linestyle 80'\n",
    "    set grid: 'back linestyle 81'\n",
    "    set xtics: 'nomirror'\n",
    "    set ytics: 'nomirror'\n",
    "    \n",
    "    set key: 'bottom right'\n",
    "    \n",
    "    # Line styles: try to pick pleasing colors, rather\n",
    "    # than strictly primary colors or hard-to-see colors\n",
    "    # like gnuplot's default yellow.  Make the lines thick\n",
    "    # so they're easy to see in small plots in papers.\n",
    "    set style: 'line 1 lt rgb \"#A00000\" lw 1 pt 1'\n",
    "    set style: 'line 2 lt rgb \"#00A000\" lw 1 pt 6'\n",
    "    set style: 'line 3 lt rgb \"#5060D0\" lw 1 pt 2'\n",
    "    set style: 'line 4 lt rgb \"#F25900\" lw 1 pt 9'\n",
    "    \n",
    "    yield note\n",
    "  end\n",
    "end"
   ]
  },
  {
   "cell_type": "markdown",
   "id": "c8642b71-3c3e-4593-950e-2fac01c5c36a",
   "metadata": {},
   "source": [
    "### Data analysis"
   ]
  },
  {
   "cell_type": "code",
   "execution_count": null,
   "id": "b759da07",
   "metadata": {},
   "outputs": [],
   "source": [
    "eps_t_x = Numo::DFloat.linspace(800, 2000, 13)\n",
    "eps_t_y = Numo::DFloat[ 0.067, 0.081, 0.105, \n",
    "                        0.119, 0.133, 0.144, \n",
    "                        0.164, 0.179, 0.195, \n",
    "                        0.209, 0.223, 0.236, \n",
    "                        0.249 ]\n",
    "\n",
    "eps_best_fit = Numo::GSL::Fit.linear(eps_t_x, eps_t_y)\n",
    "c0_eps = eps_best_fit.c0\n",
    "c1_eps = eps_best_fit.c1\n",
    "\n",
    "c0_eps_err = Math.sqrt eps_best_fit.cov00\n",
    "c1_eps_err = Math.sqrt eps_best_fit.cov11\n",
    "\n",
    "get_eps_t = -> (t) { t * c1_eps + c0_eps }\n",
    "\n",
    "puts \"eps_t = #{c0_eps} + #{c1_eps} * T\""
   ]
  },
  {
   "cell_type": "code",
   "execution_count": null,
   "id": "e16ec7db-df53-4c44-9c25-f299fb546946",
   "metadata": {},
   "outputs": [],
   "source": [
    "# Original data\n",
    "df = Daru::DataFrame.from_csv 'work/labs/lab-8.1/data/lamp.csv'\n",
    "\n",
    "T0_abs = -273.15 # Absolute zero\n",
    "c1_temp = 1.073 # Coeff\n",
    "c0_temp = -58.0 # Intercept\n",
    "SA = 0.36 * 1e-4 # # Area [m^2]\n",
    "\n",
    "df['T_br, K'] = df['T_br, C'] - T0_abs\n",
    "df['T, K'] = df['T_br, K'].map { |e| e * c1_temp + c0_temp}\n",
    "df['T, C'] = df['T, K'].map { |t| t + T0_abs }\n",
    "\n",
    "df['W'] = df['U, V'] * df['I, A']\n",
    "df['ln(W)'] = df['W'].map { |w| Math::log w }\n",
    "df['ln(T)'] = df['T, K'].map { |t| Math::log t }\n",
    "df['eps_T'] = df['T, K'].map { |t| get_eps_t.call t }\n",
    "\n",
    "x = df['ln(T)']\n",
    "y = df['ln(W)']\n",
    "\n",
    "# Number of points to sample\n",
    "n_samples = 1000\n",
    "\n",
    "nx = Numo::DFloat[x.to_a]\n",
    "ny = Numo::DFloat[y.to_a]\n",
    "best_fit = Numo::GSL::Fit.linear(nx, ny)\n",
    "xrange = Numo::DFloat.linspace(nx[0], nx[-1], n_samples)\n",
    "best_fit_y, best_fit_err = *Numo::GSL::Fit.linear_est(xrange, best_fit)\n",
    "\n",
    "c0 = best_fit.c0[0]\n",
    "c1 = best_fit.c1[0]\n",
    "\n",
    "c0_err = Math.sqrt best_fit.cov00[0]\n",
    "c1_err = Math.sqrt best_fit.cov11[0]\n",
    "\n",
    "df['sigma'] = (df['W'] / (df['eps_T'] * (df['T, K'] ** 4))).map { |e| e / SA }\n",
    "\n",
    "puts \"ln(W) = (#{c0} +- #{c0_err}) + (#{c1} +- #{c1_err}) * ln(T)\""
   ]
  },
  {
   "cell_type": "code",
   "execution_count": null,
   "id": "fe3faf5f",
   "metadata": {},
   "outputs": [],
   "source": [
    "df"
   ]
  },
  {
   "cell_type": "code",
   "execution_count": null,
   "id": "8d010554",
   "metadata": {},
   "outputs": [],
   "source": [
    "T_filter = 1700.0\n",
    "dffiltered = df.filter_rows { |e|  e['T, K'] >= T_filter }\n"
   ]
  },
  {
   "cell_type": "code",
   "execution_count": null,
   "id": "bc8130ff",
   "metadata": {},
   "outputs": [],
   "source": [
    "nsigma = Numo::DFloat[dffiltered['sigma'].to_a]\n",
    "\n",
    "puts \"sigma_mean = #{sigma_mean = nsigma.mean}\"\n",
    "puts \"sigma_stdev = #{sigma_stdev = Numo::GSL::Stats::sd nsigma}\""
   ]
  },
  {
   "cell_type": "code",
   "execution_count": null,
   "id": "98db2dad",
   "metadata": {},
   "outputs": [],
   "source": [
    "BOLTZMAN = 1.38 * 10 ** (-23)\n",
    "SPEEDOFLIGHT = 3.0 * 10 ** 8\n",
    "\n",
    "plank = (2 * Math::PI ** 5 * BOLTZMAN ** 4 / (15 * SPEEDOFLIGHT ** 2 * sigma_mean)) ** (1 / 3.0)\n",
    "plank_sigma = (1.0 / 3) * plank / (sigma_mean) * sigma_stdev\n",
    "rel_delta_sigma = plank_sigma / plank"
   ]
  },
  {
   "cell_type": "code",
   "execution_count": null,
   "id": "0a39e1ad",
   "metadata": {},
   "outputs": [],
   "source": [
    "puts \"plank = #{plank} +- #{plank_sigma}\""
   ]
  },
  {
   "cell_type": "markdown",
   "id": "5bb0dbb1",
   "metadata": {},
   "source": [
    "### Plots"
   ]
  },
  {
   "cell_type": "code",
   "execution_count": null,
   "id": "fca7a911-bbae-4f86-820a-55b9a61a8de5",
   "metadata": {},
   "outputs": [],
   "source": [
    "plotify 'work/labs/lab-8.1/output/plot2.pdf' do |note|\n",
    "  note.set xlabel: 'ln(T)'\n",
    "  note.set ylabel: 'ln(W)'\n",
    "  note.set title: 'Рис. 2 Зависимость ln(W) от ln(T)'\n",
    "  note.set style: 'fill transparent solid 0.5' # partial transparency\n",
    "  \n",
    "  note.plot [x, y, {ls:1, with:'points', title: 'ln(W)'}],\n",
    "            [xrange, best_fit_y + best_fit_err,\n",
    "                      best_fit_y - best_fit_err,\n",
    "                {ls:3, with: 'filledcurves', title: 'Error for best fit'}],\n",
    "            [xrange, best_fit_y, {ls:3, with: 'lines', title: 'Best fit c0 + c1 * ln(W)'}]\n",
    "end"
   ]
  },
  {
   "cell_type": "code",
   "execution_count": null,
   "id": "6f4ba6f9",
   "metadata": {},
   "outputs": [],
   "source": [
    "plotify 'work/labs/lab-8.1/output/plot1.pdf' do |note|\n",
    "  note.set xlabel: 'T, K'\n",
    "  note.set ylabel: 'esp_T'\n",
    "  note.set title: 'Рис. 1 Зависимость eps_T от T'\n",
    "  \n",
    "  eps_xrange = Numo::DFloat.linspace(eps_t_x[0], eps_t_x[-1], n_samples)\n",
    "  eps_yrange = eps_xrange.map { |t| get_eps_t.call t}\n",
    "\n",
    "  note.plot [eps_t_x, eps_t_y, {ls:1, with:'points', title: 'eps_T'}],\n",
    "            [eps_xrange, eps_yrange, {ls:3, with: 'lines', title: 'Best fit c0 + c1 * T'}]\n",
    "end"
   ]
  },
  {
   "cell_type": "code",
   "execution_count": null,
   "id": "ed9d3af0",
   "metadata": {},
   "outputs": [],
   "source": [
    "df.write_excel('work/labs/lab-8.1/output/table1.xlsx')"
   ]
  }
 ],
 "metadata": {
  "language_info": {
   "name": "ruby"
  }
 },
 "nbformat": 4,
 "nbformat_minor": 5
}
