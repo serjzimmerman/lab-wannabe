{
 "cells": [
  {
   "cell_type": "code",
   "execution_count": null,
   "id": "2a1b47b5",
   "metadata": {},
   "outputs": [],
   "source": [
    "import pandas as pd\n",
    "import numpy as np\n",
    "import matplotlib.pyplot as plt\n",
    "import matplotlib\n",
    "import scipy\n",
    "import pandas_helper_calc"
   ]
  },
  {
   "cell_type": "markdown",
   "id": "e63e2a72",
   "metadata": {},
   "source": [
    "# First"
   ]
  },
  {
   "cell_type": "code",
   "execution_count": null,
   "id": "8cf40fac",
   "metadata": {},
   "outputs": [],
   "source": [
    "gravity = 9.8 # meters / sec^2"
   ]
  },
  {
   "cell_type": "code",
   "execution_count": null,
   "id": "b6ae2bd3",
   "metadata": {},
   "outputs": [],
   "source": [
    "df1 = pd.read_excel('experimental_data.xlsx', sheet_name = 'Copper').reset_index(drop = True)\n",
    "df1['B^2, Тл^2'] = df1['B, Тл'] * df1['B, Тл']\n",
    "df1['dP, Н'] = (df1['m, г'] - df1['m, г'].iloc[0]) * 1e-3 * gravity\n",
    "\n",
    "df2 = pd.read_excel('experimental_data.xlsx', sheet_name = 'Alum').reset_index(drop = True)\n",
    "df2['B^2, Тл^2'] = df2['B, Тл'] * df2['B, Тл']\n",
    "df2['dP, Н'] = (df2['m, г'] - df2['m, г'].iloc[0]) * 1e-3 * gravity"
   ]
  },
  {
   "cell_type": "code",
   "execution_count": null,
   "id": "e7a17c22",
   "metadata": {},
   "outputs": [],
   "source": [
    "diam = 10.0e-3 # in meters, 10.0mm"
   ]
  },
  {
   "cell_type": "markdown",
   "id": "0180c464",
   "metadata": {},
   "source": [
    "# Plots"
   ]
  },
  {
   "cell_type": "code",
   "execution_count": null,
   "id": "f43d5a08",
   "metadata": {},
   "outputs": [],
   "source": [
    "fig, ax = plt.subplots(nrows = 1, ncols = 1, figsize=(11.7, 8.3))\n",
    "fig.suptitle('Рис. {}. Градуировка электромагнита $B = f(I)$ по данным для Сu'.format(1))\n",
    "\n",
    "ax.xaxis.set_major_locator(plt.MultipleLocator(0.5))\n",
    "ax.yaxis.set_major_locator(plt.MultipleLocator(0.1))\n",
    "ax.xaxis.set_minor_locator(plt.MultipleLocator(0.25))\n",
    "ax.yaxis.set_minor_locator(plt.MultipleLocator(0.05))\n",
    "\n",
    "ax.grid(visible = True, linestyle = '--', which = 'both')\n",
    "ax.plot(df1['I, А'], df1['B, Тл'])\n",
    "\n",
    "ax.set_xlabel('$I, А$')\n",
    "ax.set_ylabel('$B, Тл$')\n",
    "\n",
    "fig.savefig('plots/plot{}.pdf'.format(1))"
   ]
  },
  {
   "cell_type": "code",
   "execution_count": null,
   "id": "65b6e169",
   "metadata": {},
   "outputs": [],
   "source": [
    "fig, ax = plt.subplots(nrows = 1, ncols = 1, figsize=(11.7, 8.3))\n",
    "fig.suptitle('Рис. {}. Градуировка электромагнита $B = f(I)$ по данным для Al'.format(2))\n",
    "\n",
    "ax.xaxis.set_major_locator(plt.MultipleLocator(0.5))\n",
    "ax.yaxis.set_major_locator(plt.MultipleLocator(0.1))\n",
    "ax.xaxis.set_minor_locator(plt.MultipleLocator(0.25))\n",
    "ax.yaxis.set_minor_locator(plt.MultipleLocator(0.05))\n",
    "\n",
    "ax.grid(visible = True, linestyle = '--', which = 'both')\n",
    "ax.plot(df2['I, А'], df2['B, Тл'])\n",
    "\n",
    "ax.set_xlabel('$I, А$')\n",
    "ax.set_ylabel('$B, Тл$')\n",
    "\n",
    "fig.savefig('plots/plot{}.pdf'.format(2))"
   ]
  },
  {
   "cell_type": "code",
   "execution_count": null,
   "id": "e72fe5bf",
   "metadata": {},
   "outputs": [],
   "source": [
    "fig, ax = plt.subplots(nrows = 1, ncols = 1, figsize=(11.7, 8.3))\n",
    "fig.suptitle('Рис. 3. Сила втягивания $\\Delta{P} = f(B^2)$ для Cu')\n",
    "\n",
    "ax.xaxis.set_major_locator(plt.MultipleLocator(0.1))\n",
    "ax.yaxis.set_major_locator(plt.MultipleLocator(0.00005))\n",
    "ax.xaxis.set_minor_locator(plt.MultipleLocator(0.05))\n",
    "ax.yaxis.set_minor_locator(plt.MultipleLocator(0.000025))\n",
    "\n",
    "ax.grid(visible = True, linestyle = '--', which = 'both')\n",
    "ax.scatter(df1['B^2, Тл^2'], df1['dP, Н'], label='$\\Delta{P} = f(B^2)$')\n",
    "\n",
    "result = scipy.stats.linregress(df1['B^2, Тл^2'], df1['dP, Н'])\n",
    "x = np.linspace(0, 0.7)\n",
    "ax.plot(x, x * result.slope + result.intercept, label = \"Линейная модель: $\\Delta{P} = k \\cdot B^2$\")\n",
    "ax.plot([], [], ' ', label = '$k = {k:.4} \\pm {dk:.4}$'.format(k = result.slope, dk = result.stderr))\n",
    "\n",
    "ax.set_xlabel('$B^2, Тл^2$')\n",
    "ax.set_ylabel('$\\Delta{P}, Н$')\n",
    "\n",
    "ax.legend()\n",
    "fig.savefig('plots/plot{}.pdf'.format(3))"
   ]
  },
  {
   "cell_type": "code",
   "execution_count": null,
   "id": "1909ead5",
   "metadata": {},
   "outputs": [],
   "source": [
    "fig, ax = plt.subplots(nrows = 1, ncols = 1, figsize=(11.7, 8.3))\n",
    "fig.suptitle('Рис. 4. Сила втягивания $\\Delta{P} = f(B^2)$ для Al')\n",
    "\n",
    "ax.xaxis.set_major_locator(plt.MultipleLocator(0.1))\n",
    "ax.yaxis.set_major_locator(plt.MultipleLocator(0.00005))\n",
    "ax.xaxis.set_minor_locator(plt.MultipleLocator(0.05))\n",
    "ax.yaxis.set_minor_locator(plt.MultipleLocator(0.000025))\n",
    "\n",
    "ax.grid(visible = True, linestyle = '--', which = 'both')\n",
    "ax.scatter(df2['B^2, Тл^2'], df2['dP, Н'], label='$\\Delta{P} = f(B^2)$')\n",
    "\n",
    "result = scipy.stats.linregress(df2['B^2, Тл^2'], df2['dP, Н'])\n",
    "x = np.linspace(0, 0.7)\n",
    "ax.plot(x, x * result.slope + result.intercept, label = \"Линейная модель: $\\Delta{P} = k \\cdot B^2$\")\n",
    "ax.plot([], [], ' ', label = '$k = {k:.4} \\pm {dk:.4}$'.format(k = result.slope, dk = result.stderr))\n",
    "\n",
    "ax.set_xlabel('$B^2, Тл^2$')\n",
    "ax.set_ylabel('$\\Delta{P}, Н$')\n",
    "\n",
    "ax.legend()\n",
    "fig.savefig('plots/plot{}.pdf'.format(4))"
   ]
  }
 ],
 "metadata": {
  "language_info": {
   "name": "python"
  }
 },
 "nbformat": 4,
 "nbformat_minor": 5
}
