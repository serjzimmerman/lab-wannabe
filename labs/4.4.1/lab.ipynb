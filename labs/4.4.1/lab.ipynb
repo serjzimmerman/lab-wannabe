{
 "cells": [
  {
   "cell_type": "code",
   "execution_count": null,
   "id": "2a1b47b5",
   "metadata": {},
   "outputs": [],
   "source": [
    "import pandas as pd\n",
    "import numpy as np\n",
    "import matplotlib.pyplot as plt\n",
    "import matplotlib\n",
    "import scipy"
   ]
  },
  {
   "cell_type": "markdown",
   "id": "e63e2a72",
   "metadata": {},
   "source": [
    "# First"
   ]
  },
  {
   "cell_type": "code",
   "execution_count": null,
   "id": "b6ae2bd3",
   "metadata": {},
   "outputs": [],
   "source": [
    "df1 = pd.read_excel('experimental_data.xlsx', sheet_name = 'Data').reset_index(drop = True)"
   ]
  },
  {
   "cell_type": "code",
   "execution_count": null,
   "id": "ffdd66c9",
   "metadata": {},
   "outputs": [],
   "source": [
    "df1['l, мкм'] = abs(df1['l, нм']) / 1e3\n",
    "df1['abs(l), нм'] = abs(df1['l, нм'])\n",
    "df1['abs(l), мкм'] = abs(df1['l, мкм'])\n",
    "df1['abs(sin)'] = abs(df1['sin'])"
   ]
  },
  {
   "cell_type": "code",
   "execution_count": null,
   "id": "b44cfd6e",
   "metadata": {},
   "outputs": [],
   "source": [
    "df1"
   ]
  },
  {
   "cell_type": "markdown",
   "id": "0180c464",
   "metadata": {},
   "source": [
    "# Plots"
   ]
  },
  {
   "cell_type": "code",
   "execution_count": null,
   "id": "13ef40a3",
   "metadata": {},
   "outputs": [],
   "source": [
    "fig, ax = plt.subplots(nrows = 1, ncols = 1, figsize=(11.7, 8.3))\n",
    "fig.suptitle('Рис. {}. Зависимость $\\sin \\phi_m(\\lambda)$'.format(1))\n",
    "    \n",
    "ax.set_xlim([0, 1.25 * max(df1['abs(l), мкм'])])\n",
    "ax.set_ylim([0, 1.25 * max(df1['abs(sin)'])])\n",
    "  \n",
    "ax.grid(visible = True, linestyle = '--', which = 'both')\n",
    "ax.scatter(df1['abs(l), мкм'], df1['abs(sin)'])\n",
    "\n",
    "result = scipy.stats.linregress(df1['abs(l), мкм'], df1['abs(sin)'])\n",
    "x = np.linspace(0, 1.25 * max(df1['abs(l), мкм']))\n",
    "ax.plot(x, x * result.slope + result.intercept, label = \"Линейная модель: $\\sin \\phi_m = a + k \\cdot \\lambda$\")\n",
    "ax.plot([], [], ' ', label = '$k = {k:.6f} \\pm {dk:.6f}$, $a = {a:.4f}$'.format(k = result.slope, dk = result.stderr, a = result.intercept))\n",
    "\n",
    "ax.set_xlabel('$\\lambda$, мкм')\n",
    "ax.set_ylabel('$\\sin \\phi_m$')\n",
    "ax.legend()\n",
    "fig.savefig('plots/plot{}.pdf'.format(1))"
   ]
  },
  {
   "cell_type": "code",
   "execution_count": null,
   "id": "afc8d721",
   "metadata": {},
   "outputs": [],
   "source": [
    "1 / (0.498)"
   ]
  }
 ],
 "metadata": {
  "language_info": {
   "name": "python"
  }
 },
 "nbformat": 4,
 "nbformat_minor": 5
}
