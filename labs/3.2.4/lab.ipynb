{
 "cells": [
  {
   "cell_type": "code",
   "execution_count": null,
   "id": "2a1b47b5",
   "metadata": {},
   "outputs": [],
   "source": [
    "import pandas as pd\n",
    "import numpy as np\n",
    "import matplotlib.pyplot as plt\n",
    "import matplotlib\n",
    "import scipy\n",
    "import pandas_helper_calc"
   ]
  },
  {
   "cell_type": "markdown",
   "id": "e63e2a72",
   "metadata": {},
   "source": [
    "# First"
   ]
  },
  {
   "cell_type": "code",
   "execution_count": null,
   "id": "3941b972",
   "metadata": {},
   "outputs": [],
   "source": [
    "f0 = 2900 # Hz\n",
    "t = 0.1 # 10ms"
   ]
  },
  {
   "cell_type": "code",
   "execution_count": null,
   "id": "b6ae2bd3",
   "metadata": {},
   "outputs": [],
   "source": [
    "df1 = pd.read_excel('experimental_data.xlsx', sheet_name = 'Period').reset_index(drop = True)\n",
    "df1['T^2, мс^2'] = df1['T, мс'] * df1['T, мс']\n",
    "df1['1/C, 1/мкФ'] = 1 / df1['C, мкФ']\n",
    "\n",
    "df2 = pd.read_excel('experimental_data.xlsx', sheet_name = 'Decrement').reset_index(drop = True)\n",
    "df2['tau'] = 1 / (t * f0) * np.log(df2['u_0'] / df2['u_n'])\n",
    "df2['1/Q'] = (np.pi / df2['tau']) ** -1"
   ]
  },
  {
   "cell_type": "code",
   "execution_count": null,
   "id": "e8933453",
   "metadata": {},
   "outputs": [],
   "source": [
    "df2"
   ]
  },
  {
   "cell_type": "code",
   "execution_count": null,
   "id": "e7a17c22",
   "metadata": {},
   "outputs": [],
   "source": [
    "diam = 10.0e-3 # in meters, 10.0mm"
   ]
  },
  {
   "cell_type": "markdown",
   "id": "0180c464",
   "metadata": {},
   "source": [
    "# Plots"
   ]
  },
  {
   "cell_type": "code",
   "execution_count": null,
   "id": "f43d5a08",
   "metadata": {},
   "outputs": [],
   "source": [
    "fig, ax = plt.subplots(nrows = 1, ncols = 1, figsize=(11.7, 8.3))\n",
    "fig.suptitle('Рис. {}. Зависимость L(1/C)'.format(1))\n",
    "\n",
    "ax.xaxis.set_major_locator(plt.MultipleLocator(0.01))\n",
    "ax.yaxis.set_major_locator(plt.MultipleLocator(0.05))\n",
    "ax.xaxis.set_minor_locator(plt.MultipleLocator(0.25))\n",
    "ax.yaxis.set_minor_locator(plt.MultipleLocator(0.025))\n",
    "\n",
    "ax.grid(visible = True, linestyle = '--', which = 'both')\n",
    "ax.scatter(df1['C, мкФ'], df1['T^2, мс^2'])\n",
    "\n",
    "result = scipy.stats.linregress(df1['C, мкФ'], df1['T^2, мс^2'])\n",
    "x = np.linspace(0, 0.09)\n",
    "ax.plot(x, x * result.slope + result.intercept, label = \"Линейная модель: $T^2 = k \\cdot C$\")\n",
    "ax.plot([], [], ' ', label = '$k = {k:.4} \\pm {dk:.4}$'.format(k = result.slope, dk = result.stderr))\n",
    "\n",
    "ax.set_xlabel('$C, мкФ$')\n",
    "ax.set_ylabel('$T^2, мс^2$')\n",
    "\n",
    "ax.legend()\n",
    "fig.savefig('plots/plot{}.pdf'.format(1))"
   ]
  },
  {
   "cell_type": "code",
   "execution_count": null,
   "id": "65b6e169",
   "metadata": {},
   "outputs": [],
   "source": [
    "fig, ax = plt.subplots(nrows = 1, ncols = 1, figsize=(11.7, 8.3))\n",
    "fig.suptitle('Рис. {}. Зависимость 1/Q(R)'.format(2))\n",
    "\n",
    "ax.xaxis.set_major_locator(plt.MultipleLocator(5))\n",
    "ax.yaxis.set_major_locator(plt.MultipleLocator(0.0002))\n",
    "ax.xaxis.set_minor_locator(plt.MultipleLocator(2.5))\n",
    "ax.yaxis.set_minor_locator(plt.MultipleLocator(0.0001))\n",
    "\n",
    "ax.grid(visible = True, linestyle = '--', which = 'both')\n",
    "ax.scatter(df2['R, Ом'], df2['1/Q'])\n",
    "\n",
    "result = scipy.stats.linregress(df2['R, Ом'], df2['1/Q'])\n",
    "x = np.linspace(-10, 30)\n",
    "ax.plot(x, x * result.slope + result.intercept, label = \"Линейная модель: $1/Q = k \\cdot R + a$\")\n",
    "ax.plot([], [], ' ', label = '$k = {k:.4} \\pm {dk:.4}$, $a = {a:.4} \\pm {da:.4}$'.format(k = result.slope, dk = result.stderr, a = result.intercept, da = result.intercept_stderr))\n",
    "\n",
    "ax.set_xlabel('$R, Ом$')\n",
    "ax.set_ylabel('$1/Q$')\n",
    "\n",
    "ax.legend()\n",
    "fig.savefig('plots/plot{}.pdf'.format(2))"
   ]
  }
 ],
 "metadata": {
  "language_info": {
   "name": "python"
  }
 },
 "nbformat": 4,
 "nbformat_minor": 5
}
