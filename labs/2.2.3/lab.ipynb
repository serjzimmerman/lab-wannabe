{
 "cells": [
  {
   "cell_type": "code",
   "execution_count": null,
   "id": "2a1b47b5",
   "metadata": {},
   "outputs": [],
   "source": [
    "import pandas as pd\n",
    "import numpy as np\n",
    "import matplotlib.pyplot as plt\n",
    "import matplotlib"
   ]
  },
  {
   "cell_type": "code",
   "execution_count": null,
   "id": "320b0c21",
   "metadata": {},
   "outputs": [],
   "source": [
    "def lstsqk(x, y):\n",
    "    return np.multiply(x, y).mean(axis = 0) / np.multiply(x, x).mean(axis = 0)"
   ]
  },
  {
   "cell_type": "code",
   "execution_count": null,
   "id": "ef6023c1",
   "metadata": {},
   "outputs": [],
   "source": [
    "def lstsqkerr(x, y):\n",
    "    return 1 / np.sqrt(len(x)) * np.sqrt(np.multiply(y, y).mean(axis = 0) / np.multiply(x, x).mean(axis = 0) - lstsqk(x,y) ** 2)"
   ]
  },
  {
   "cell_type": "markdown",
   "id": "e63e2a72",
   "metadata": {},
   "source": [
    "# First"
   ]
  },
  {
   "cell_type": "code",
   "execution_count": null,
   "id": "923790e0",
   "metadata": {},
   "outputs": [],
   "source": [
    "df1 = pd.read_excel('experimental_data.xlsx', sheet_name = 'Data').reset_index(drop = True)"
   ]
  },
  {
   "cell_type": "code",
   "execution_count": null,
   "id": "cdf5fd97",
   "metadata": {},
   "outputs": [],
   "source": [
    "t0 = (-1) * 273.15\n",
    "Re = 10 # Ohm"
   ]
  },
  {
   "cell_type": "code",
   "execution_count": null,
   "id": "510d74e3",
   "metadata": {},
   "outputs": [],
   "source": [
    "df1['T, K'] = df1['T, C'] - t0\n",
    "df1['I, А'] = df1['U1, В'] /  Re\n",
    "df1['Q, Вт'] = df1['U2, В'] * df1['I, А']\n",
    "df1['R, Ом'] = df1['U2, В'] / df1['I, А']"
   ]
  },
  {
   "cell_type": "code",
   "execution_count": null,
   "id": "7a211ba3",
   "metadata": {},
   "outputs": [],
   "source": [
    "tset = set(df1['T, C'])\n",
    "df_list = []\n",
    "tlist = list(tset)\n",
    "tlist.sort()\n",
    "\n",
    "for i in tlist:\n",
    "    df_list.append(df1.loc[df1['T, C'] == i])"
   ]
  },
  {
   "cell_type": "code",
   "execution_count": null,
   "id": "1bf35df3",
   "metadata": {},
   "outputs": [],
   "source": [
    "tlistk = [x - t0 for x in tlist]"
   ]
  },
  {
   "cell_type": "markdown",
   "id": "0180c464",
   "metadata": {},
   "source": [
    "# General Data"
   ]
  },
  {
   "cell_type": "code",
   "execution_count": null,
   "id": "8b57c959",
   "metadata": {},
   "outputs": [],
   "source": [
    "parr1 = []\n",
    "earr1 = []\n",
    "for d in df_list:\n",
    "    p, v = np.polyfit(d['Q, Вт'], d['R, Ом'], deg = 1, cov = True)\n",
    "    parr1.append(p)\n",
    "    earr1.append(np.sqrt(np.diag(v)))"
   ]
  },
  {
   "cell_type": "code",
   "execution_count": null,
   "id": "4a6715b9",
   "metadata": {},
   "outputs": [],
   "source": [
    "def calculate_least_squares(df):\n",
    "    df1 = df[:].copy()\n",
    "    \n",
    "    df1['Q * R'] = df1['Q, Вт'] * df1['R, Ом']\n",
    "    \n",
    "    df1['Q^2'] = df1['Q, Вт'] * df1['Q, Вт']\n",
    "    df1['R^2'] = df1['R, Ом'] * df1['R, Ом']\n",
    "    \n",
    "    x_m = df1['Q, Вт'].mean()\n",
    "    y_m = df1['R, Ом'].mean()\n",
    "    \n",
    "    xx_m = df1['Q^2'].mean()\n",
    "    xy_m = df1['Q * R'].mean()\n",
    "    yy_m = df1['R^2'].mean()\n",
    "    \n",
    "    return df1, x_m, y_m, xx_m, xy_m, yy_m"
   ]
  },
  {
   "cell_type": "code",
   "execution_count": null,
   "id": "ad289be6",
   "metadata": {},
   "outputs": [],
   "source": [
    "mnkdata = []\n",
    "for i in range(len(df_list)):\n",
    "    df, _, _, _, _, _ = calculate_least_squares(df_list[i])\n",
    "    mnkdata.append(df)"
   ]
  },
  {
   "cell_type": "code",
   "execution_count": null,
   "id": "a8d66854",
   "metadata": {},
   "outputs": [],
   "source": [
    "for i in range(len(mnkdata)):\n",
    "    mnkdata[i].to_excel('plots/output{}.xlsx'.format(i + 1))"
   ]
  },
  {
   "cell_type": "code",
   "execution_count": null,
   "id": "26d8bbfd",
   "metadata": {},
   "outputs": [],
   "source": [
    "df_list[0]"
   ]
  },
  {
   "cell_type": "code",
   "execution_count": null,
   "id": "19493a3b",
   "metadata": {},
   "outputs": [],
   "source": [
    "# Calculation for T = 24.80C\n",
    "df1, x_m, y_m, xx_m, xy_m, yy_m = calculate_least_squares(df_list[0])\n",
    "print(\"Q_mean = {:.4f}\".format(x_m))\n",
    "print(\"R_mean = {:.4f}\".format(y_m))\n",
    "print(\"Q2_mean = {:.4f}\".format(xx_m))\n",
    "print(\"R2_mean = {:.4f}\".format(yy_m))\n",
    "print(\"RQ_mean = {:.4f}\".format(xy_m))"
   ]
  },
  {
   "cell_type": "code",
   "execution_count": null,
   "id": "31485a57",
   "metadata": {},
   "outputs": [],
   "source": [
    "(xy_m - x_m * y_m) / (xx_m - x_m ** 2)"
   ]
  },
  {
   "cell_type": "markdown",
   "id": "95371888",
   "metadata": {},
   "source": [
    "# Plot Load Curves"
   ]
  },
  {
   "cell_type": "code",
   "execution_count": null,
   "id": "c0b83085",
   "metadata": {},
   "outputs": [],
   "source": [
    "def get_min_max(series, k1 = 3 / 4, k2 = 11 / 10):\n",
    "    return k1 * min(series), k2 * max(series)"
   ]
  },
  {
   "cell_type": "code",
   "execution_count": null,
   "id": "50d706a7",
   "metadata": {},
   "outputs": [],
   "source": [
    "def plot_load_curve(ax, df, p, e, i):\n",
    "    y_min, y_max = get_min_max(df['R, Ом'], k1 = 10 / 11)\n",
    "    x_min, x_max = get_min_max(df['Q, Вт'])\n",
    "    \n",
    "    ax.xaxis.set_major_locator(plt.MultipleLocator(0.025))\n",
    "    ax.yaxis.set_major_locator(plt.MultipleLocator(0.5))\n",
    "    ax.xaxis.set_minor_locator(plt.MultipleLocator(0.025))\n",
    "    ax.yaxis.set_minor_locator(plt.MultipleLocator(0.5))\n",
    "    \n",
    "    ax.set_ylim(bottom = y_min, top = y_max)\n",
    "    ax.set_xlim(left = x_min, right = x_max)\n",
    "    \n",
    "    ax.grid(visible = True, linestyle = '--', which = 'both')\n",
    "    x = np.linspace(x_min, x_max, 1000)\n",
    "    ax.scatter(df['Q, Вт'], df['R, Ом'])\n",
    "    ax.plot(x, p[0] * x + p[1], label = \"Линейная модель: $R(Q) = a + b \\cdot Q$\")\n",
    "    ax.plot([], [], ' ', label = '$b = {k:.3f} \\pm {dk:.3f}, a = {C:.3f} \\pm {dC:.3f}$'.format(k = p[0], dk = e[0], C = p[1], dC = e[1]))\n",
    "    \n",
    "    ax.legend()\n",
    "    ax.set_xlabel('$Q, Вт$')\n",
    "    ax.set_ylabel('$R, Ом$')"
   ]
  },
  {
   "cell_type": "code",
   "execution_count": null,
   "id": "435b7d1c",
   "metadata": {},
   "outputs": [],
   "source": [
    "for x in range(0, len(tset), 4):\n",
    "    fig, ax = plt.subplots(nrows = 2, ncols = 2, figsize=(11.7, 8.3))\n",
    "    ax = ax.reshape(4)\n",
    "    fig.set_tight_layout(True)\n",
    "    fig.suptitle('Рис. {}. Зависимость R(Q) от мощности Q'.format((x + 4) // 4))\n",
    "    for xi in range(2 * 2):\n",
    "        if (x + xi >= len(list(tset))):\n",
    "            break\n",
    "        ax[xi].set_title('Рис. {}.{}. $T = {:.2f} C$'.format((x + 4) // 4, xi + 1, tlist[x + xi]))\n",
    "        plot_load_curve(ax[xi], df_list[x + xi], parr1[x + xi], earr1[x + xi], x + xi)\n",
    "    fig.savefig('plots/plot{}.pdf'.format((x // 4) + 1))"
   ]
  },
  {
   "cell_type": "code",
   "execution_count": null,
   "id": "d7df3813",
   "metadata": {},
   "outputs": [],
   "source": [
    "rarr = [x[1] for x in parr1]"
   ]
  },
  {
   "cell_type": "code",
   "execution_count": null,
   "id": "8040c4ad",
   "metadata": {},
   "outputs": [],
   "source": [
    "p1, v1 = np.polyfit(tlistk, rarr, deg = 1, cov = True)\n",
    "err1 = np.sqrt(np.diag(v1))"
   ]
  },
  {
   "cell_type": "code",
   "execution_count": null,
   "id": "48585910",
   "metadata": {},
   "outputs": [],
   "source": [
    "p1"
   ]
  },
  {
   "cell_type": "code",
   "execution_count": null,
   "id": "0184bf71",
   "metadata": {},
   "outputs": [],
   "source": [
    "fig, ax = plt.subplots(nrows = 1, ncols = 1, figsize=(11.7, 8.3))\n",
    "fig.suptitle('Рис. {}. Зависимость R(T)'.format(3))\n",
    "\n",
    "y_min, y_max = get_min_max(rarr, k1 = 9 / 10, k2 = 11 / 10)\n",
    "x_min, x_max = get_min_max(tlistk, k1 = 100 / 101, k2 = 102 / 101)\n",
    "\n",
    "ax.xaxis.set_major_locator(plt.MultipleLocator(5))\n",
    "ax.yaxis.set_major_locator(plt.MultipleLocator(0.5))\n",
    "ax.xaxis.set_minor_locator(plt.MultipleLocator(2.5))\n",
    "ax.yaxis.set_minor_locator(plt.MultipleLocator(0.25))\n",
    "\n",
    "ax.set_ylim(bottom = y_min, top = y_max)\n",
    "ax.set_xlim(left = x_min, right = x_max)\n",
    "\n",
    "ax.grid(visible = True, linestyle = '--', which = 'both')\n",
    "x = np.linspace(x_min, x_max, 1000)\n",
    "ax.scatter(tlistk, rarr)\n",
    "\n",
    "ax.plot(x, p1[0] * x + p1[1], label = \"Линейная модель: $R(T) = a + b \\cdot T$\")\n",
    "ax.plot([], [], ' ', label = '$b = {k:.4f} \\pm {dk:.4f}, a = {C:.4f} \\pm {dC:.4f}$'.format(k = p1[0], dk = err1[0], C = p1[1], dC = err1[1]))\n",
    "\n",
    "ax.legend()\n",
    "ax.set_xlabel('$T, К$')\n",
    "ax.set_ylabel('$R, Ом$')\n",
    "\n",
    "fig.savefig('plots/plot{}.pdf'.format(3))"
   ]
  },
  {
   "cell_type": "code",
   "execution_count": null,
   "id": "20d7236d",
   "metadata": {},
   "outputs": [],
   "source": [
    "alpha = 1 / (p1[0] * 273.0 + p1[1]) * p1[0]"
   ]
  },
  {
   "cell_type": "code",
   "execution_count": null,
   "id": "078c9a5a",
   "metadata": {},
   "outputs": [],
   "source": [
    "p1[0] * 273 + p1[1]"
   ]
  },
  {
   "cell_type": "code",
   "execution_count": null,
   "id": "8fe70b5f",
   "metadata": {},
   "outputs": [],
   "source": [
    "L = 0.370\n",
    "ln21 = 5.3"
   ]
  },
  {
   "cell_type": "code",
   "execution_count": null,
   "id": "4311a2ba",
   "metadata": {},
   "outputs": [],
   "source": [
    "xiarr = []\n",
    "for i in range(len(df_list)):\n",
    "    x = 1 / parr1[i][0] * p1[0] * 1 / (2 * np.pi * L) * ln21\n",
    "    xiarr.append(x)\n",
    "    print(\"T = {:.1f}, xi = {:.4f}\".format(tlist[i], x))"
   ]
  },
  {
   "cell_type": "code",
   "execution_count": null,
   "id": "be5960a1",
   "metadata": {},
   "outputs": [],
   "source": [
    "fig, ax = plt.subplots(nrows = 1, ncols = 1, figsize=(11.7, 8.3))\n",
    "fig.suptitle('Рис. {}. Зависимость $\\kappa(T)$'.format(4))\n",
    "\n",
    "y_min, y_max = get_min_max(xiarr, k1 = 9 / 10, k2 = 11 / 10)\n",
    "x_min, x_max = get_min_max(tlistk, k1 = 100 / 101, k2 = 102 / 101)\n",
    "\n",
    "ax.xaxis.set_major_locator(plt.MultipleLocator(5))\n",
    "ax.yaxis.set_major_locator(plt.MultipleLocator(1e-3))\n",
    "ax.xaxis.set_minor_locator(plt.MultipleLocator(2.5))\n",
    "ax.yaxis.set_minor_locator(plt.MultipleLocator(5e-4))\n",
    "\n",
    "ax.set_ylim(bottom = y_min, top = y_max)\n",
    "ax.set_xlim(left = x_min, right = x_max)\n",
    "\n",
    "ax.grid(visible = True, linestyle = '--', which = 'both')\n",
    "x = np.linspace(x_min, x_max, 1000)\n",
    "ax.plot(tlistk, xiarr, label = '$\\kappa(T)$', marker = 'd')\n",
    "\n",
    "ax.legend()\n",
    "ax.set_xlabel('$T, К$')\n",
    "ax.set_ylabel('$\\kappa$ $Вт / м \\cdot К$')\n",
    "\n",
    "fig.savefig('plots/plot{}.pdf'.format(4))"
   ]
  },
  {
   "cell_type": "code",
   "execution_count": null,
   "id": "6d687491",
   "metadata": {},
   "outputs": [],
   "source": [
    "lntlistk = np.log(np.array(tlistk))\n",
    "lnxiarr = np.log(np.array(xiarr))"
   ]
  },
  {
   "cell_type": "code",
   "execution_count": null,
   "id": "2075d836",
   "metadata": {},
   "outputs": [],
   "source": [
    "p2, v2 = np.polyfit(lntlistk, lnxiarr, deg = 1, cov = True)\n",
    "err2 = np.sqrt(np.diag(v2))"
   ]
  },
  {
   "cell_type": "code",
   "execution_count": null,
   "id": "59195090",
   "metadata": {},
   "outputs": [],
   "source": [
    "fig, ax = plt.subplots(nrows = 1, ncols = 1, figsize=(11.7, 8.3))\n",
    "fig.suptitle('Рис. {}. Зависимость $ln(\\kappa(ln(T)))$'.format(5))\n",
    "\n",
    "y_min, y_max = get_min_max(lnxiarr, k1 = 9 / 10, k2 = 11 / 10)\n",
    "x_min, x_max = get_min_max(lntlistk, k1 = 100 / 101, k2 = 102 / 101)\n",
    "\n",
    "ax.xaxis.set_major_locator(plt.MultipleLocator(5e-2))\n",
    "ax.yaxis.set_major_locator(plt.MultipleLocator(1e-1))\n",
    "ax.xaxis.set_minor_locator(plt.MultipleLocator(2.5e-2))\n",
    "ax.yaxis.set_minor_locator(plt.MultipleLocator(5e-2))\n",
    "\n",
    "ax.set_ylim(bottom = y_max, top = y_min)\n",
    "ax.set_xlim(left = x_min, right = x_max)\n",
    "\n",
    "ax.grid(visible = True, linestyle = '--', which = 'both')\n",
    "x = np.linspace(x_min, x_max, 1000)\n",
    "ax.scatter(lntlistk, lnxiarr)\n",
    "\n",
    "ax.plot(x, p2[0] * x + p2[1], label = \"Линейная модель: $R(T) = a + b \\cdot T$\")\n",
    "ax.plot([], [], ' ', label = '$b = {k:.4f} \\pm {dk:.4f}, a = {C:.4f} \\pm {dC:.4f}$'.format(k = p2[0], dk = err2[0], C = p2[1], dC = err2[1]))\n",
    "\n",
    "\n",
    "ax.legend()\n",
    "ax.set_xlabel('$ln(T)$')\n",
    "ax.set_ylabel('$ln(\\kappa)$')\n",
    "\n",
    "fig.savefig('plots/plot{}.pdf'.format(5))"
   ]
  }
 ],
 "metadata": {
  "language_info": {
   "name": "python"
  }
 },
 "nbformat": 4,
 "nbformat_minor": 5
}
