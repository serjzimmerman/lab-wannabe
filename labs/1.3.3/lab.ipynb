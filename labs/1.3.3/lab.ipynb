{
 "cells": [
  {
   "cell_type": "code",
   "execution_count": null,
   "id": "2a1b47b5",
   "metadata": {},
   "outputs": [],
   "source": [
    "import pandas as pd\n",
    "import numpy as np\n",
    "import matplotlib.pyplot as plt\n",
    "import matplotlib"
   ]
  },
  {
   "cell_type": "code",
   "execution_count": null,
   "id": "320b0c21",
   "metadata": {},
   "outputs": [],
   "source": [
    "def lstsqk(x, y):\n",
    "    return np.multiply(x, y).mean(axis = 0) / np.multiply(x, x).mean(axis = 0)"
   ]
  },
  {
   "cell_type": "code",
   "execution_count": null,
   "id": "ef6023c1",
   "metadata": {},
   "outputs": [],
   "source": [
    "def lstsqkerr(x, y):\n",
    "    return 1 / np.sqrt(len(x)) * np.sqrt(np.multiply(y, y).mean(axis = 0) / np.multiply(x, x).mean(axis = 0) - lstsqk(x,y) ** 2)"
   ]
  },
  {
   "cell_type": "markdown",
   "id": "e63e2a72",
   "metadata": {},
   "source": [
    "# First"
   ]
  },
  {
   "cell_type": "code",
   "execution_count": null,
   "id": "923790e0",
   "metadata": {},
   "outputs": [],
   "source": [
    "df1 = pd.read_excel('experimental_data.xlsx', sheet_name = 'First').sort_values(by = [\"h, см\"]).reset_index(drop = True)\n",
    "df2 = pd.read_excel('experimental_data.xlsx', sheet_name = 'Third').sort_values(by = [\"h, см\"]).reset_index(drop = True)"
   ]
  },
  {
   "cell_type": "code",
   "execution_count": null,
   "id": "5d6b2d34",
   "metadata": {},
   "outputs": [],
   "source": [
    "# In gauissian\n",
    "d1 = 3.90e-1\n",
    "d2 = 5.25e-1\n",
    "sigma_d1 = 0.05e-1\n",
    "L1 = 50\n",
    "L2 = 50\n",
    "sina = 0.2\n",
    "g = 981\n",
    "sigma_t = 0.5"
   ]
  },
  {
   "cell_type": "markdown",
   "id": "0180c464",
   "metadata": {},
   "source": [
    "# General Data"
   ]
  },
  {
   "cell_type": "code",
   "execution_count": null,
   "id": "0e09a8dc",
   "metadata": {},
   "outputs": [],
   "source": [
    "df1['dP, бария'] = df1['h, см'] * g * sina\n",
    "tdf = pd.DataFrame([df1['t_1, с'], df1['t_2, с'], df1['t_3, с']])\n",
    "df1['Q, см^3/с'] = df1['V, см^3'] / tdf.mean()\n",
    "df1['sigma_Q, см^3/с'] = df1['Q, см^3/с'] * np.sqrt(tdf.std() ** 2 + sigma_t ** 2) / tdf.mean()"
   ]
  },
  {
   "cell_type": "code",
   "execution_count": null,
   "id": "e73af3c7",
   "metadata": {},
   "outputs": [],
   "source": [
    "df2['dP, бария'] = df2['h, см'] * g * sina\n",
    "tdf = pd.DataFrame([df2['t_1, с'], df2['t_2, с'], df2['t_3, с']])\n",
    "df2['Q, см^3/с'] = df2['V, см^3'] / tdf.mean()\n",
    "df2['sigma_Q, см^3/с'] = df2['Q, см^3/с'] * np.sqrt(tdf.std() ** 2 + sigma_t ** 2) / tdf.mean()"
   ]
  },
  {
   "cell_type": "code",
   "execution_count": null,
   "id": "0f987dd2",
   "metadata": {},
   "outputs": [],
   "source": [
    "plot_label = [\"$L = {:.2f}$ см, $d = {:.2f} \\pm {:.2f}$ мм\".format(L1, d1 * 10, sigma_d1 * 10), \"$L = {:.2f}$ см, $d = {:.2f} \\pm {:.2f}$ мм\".format(L2, d2 * 10, sigma_d1 * 10)]"
   ]
  },
  {
   "cell_type": "markdown",
   "id": "95371888",
   "metadata": {},
   "source": [
    "# Plot raw data"
   ]
  },
  {
   "cell_type": "code",
   "execution_count": null,
   "id": "50d706a7",
   "metadata": {},
   "outputs": [],
   "source": [
    "def plot(ax, fig, df, i):\n",
    "    # Show grid\n",
    "    ax.grid(visible = True, linestyle = '--', which='both')\n",
    "    \n",
    "    # Set axis format to scientific\n",
    "    fig.canvas.draw()\n",
    "    plt.ticklabel_format(axis='both', style='sci', scilimits=(0,0))\n",
    "\n",
    "    plt.xlabel('$\\Delta{P}$, бария')\n",
    "    plt.ylabel('$Q$, $см^3 / с$')\n",
    "\n",
    "    ax.scatter(df['dP, бария'], df['Q, см^3/с'], label = plot_label[i - 1])\n",
    "\n",
    "    # Set axis limits\n",
    "    ax.set_xlim(left = 0)\n",
    "    ax.set_ylim(bottom = 0)\n",
    "\n",
    "    # Set title\n",
    "    ax.set_title('Рис. {}. Зависимость $Q$ от $\\Delta P$'.format(i))\n",
    "\n",
    "    # Show plot\n",
    "    plt.legend()\n",
    "    plt.show()\n",
    "\n",
    "    fig.savefig('plots/plot{}.pdf'.format(i))"
   ]
  },
  {
   "cell_type": "code",
   "execution_count": null,
   "id": "435b7d1c",
   "metadata": {},
   "outputs": [],
   "source": [
    "fig, ax = plt.subplots(nrows = 1, ncols = 1, figsize=(11.7, 8.3))\n",
    "\n",
    "ax.xaxis.set_major_locator(plt.MultipleLocator(200))\n",
    "ax.yaxis.set_major_locator(plt.MultipleLocator(20))\n",
    "ax.xaxis.set_minor_locator(plt.MultipleLocator(100))\n",
    "ax.yaxis.set_minor_locator(plt.MultipleLocator(5))\n",
    "        \n",
    "plot(ax, fig, df1, 1)"
   ]
  },
  {
   "cell_type": "code",
   "execution_count": null,
   "id": "32561a1e",
   "metadata": {},
   "outputs": [],
   "source": [
    "fig, ax = plt.subplots(nrows = 1, ncols = 1, figsize=(11.7, 8.3))\n",
    "\n",
    "ax.xaxis.set_major_locator(plt.MultipleLocator(100))\n",
    "ax.yaxis.set_major_locator(plt.MultipleLocator(20))\n",
    "ax.xaxis.set_minor_locator(plt.MultipleLocator(20))\n",
    "ax.yaxis.set_minor_locator(plt.MultipleLocator(5))\n",
    "        \n",
    "plot(ax, fig, df2, 2)"
   ]
  },
  {
   "cell_type": "markdown",
   "id": "582991fa",
   "metadata": {},
   "source": [
    "# Plot laminar part of flow"
   ]
  },
  {
   "cell_type": "code",
   "execution_count": null,
   "id": "63a7c5dc",
   "metadata": {},
   "outputs": [],
   "source": [
    "def plot_lin(ax, fig, df, p, err, i):\n",
    "    # Show grid\n",
    "    ax.grid(visible = True, linestyle = '--', which='both')\n",
    "    \n",
    "    # Set axis format to scientific\n",
    "    fig.canvas.draw()\n",
    "    plt.ticklabel_format(axis='both', style='sci', scilimits=(0,0))\n",
    "\n",
    "    plt.xlabel('$\\Delta{P}$, бария')\n",
    "    plt.ylabel('$Q$, $см^3 / с$')\n",
    "    \n",
    "    x = np.linspace(0, 11 / 10 * max(df['dP, бария']), 1000)\n",
    "    \n",
    "    ax.plot(x, p[0] * x + p[1], label = 'Линейная модель: $Q = a + b \\cdot \\Delta P$')\n",
    "    ax.plot([], [], ' ', label = '$k = {k:.3f} \\pm {dk:.3f}, C = {C:.3f} \\pm {dC:.3f}$'.format(k = p[0], dk = err[0], C = p[1], dC = err[1]))\n",
    "    \n",
    "    ax.scatter(df['dP, бария'], df['Q, см^3/с'])\n",
    "    # Set axis limits\n",
    "    ax.set_xlim(left = 0)\n",
    "    ax.set_ylim(bottom = 0)\n",
    "\n",
    "    # Set title\n",
    "    ax.set_title('Рис. {}. Зависимость $Q$ от $\\Delta P$ (Ламинарный поток)'.format(i))\n",
    "\n",
    "    # Show plot\n",
    "    plt.legend()\n",
    "    plt.show()\n",
    "\n",
    "    fig.savefig('plots/plot{}.pdf'.format(i))"
   ]
  },
  {
   "cell_type": "markdown",
   "id": "df3293b6",
   "metadata": {},
   "source": [
    "# Use least squares to fit a linear model"
   ]
  },
  {
   "cell_type": "code",
   "execution_count": null,
   "id": "b5e045fd",
   "metadata": {},
   "outputs": [],
   "source": [
    "lamdf1 = df1.iloc[0:11]\n",
    "lamdf2 = df2\n",
    "p1, v1 = np.polyfit(lamdf1['dP, бария'], lamdf1['Q, см^3/с'], deg = 1, cov = True)\n",
    "err1 = np.sqrt(np.diag(v1))\n",
    "p2, v2 = np.polyfit(lamdf2['dP, бария'], lamdf2['Q, см^3/с'], deg = 1, cov = True)\n",
    "err2 = np.sqrt(np.diag(v1))"
   ]
  },
  {
   "cell_type": "markdown",
   "id": "4aa42610",
   "metadata": {},
   "source": [
    "# Analytical least squares"
   ]
  },
  {
   "cell_type": "code",
   "execution_count": null,
   "id": "edc14c0d",
   "metadata": {},
   "outputs": [],
   "source": [
    "dferr1 = pd.DataFrame()\n",
    "dferr1['Q, см^3/с'] = lamdf1['Q, см^3/с']\n",
    "dferr1['Q^2, (см^3/c)^2'] = lamdf1['Q, см^3/с'] * lamdf1['Q, см^3/с']\n",
    "dferr1['dP, бария'] = lamdf1['dP, бария']\n",
    "dferr1['dP^2, бария^2'] = lamdf1['dP, бария'] * lamdf1['dP, бария']\n",
    "dferr1['Q * dP, бария * см^3/с'] = lamdf1['dP, бария'] * lamdf1['Q, см^3/с']"
   ]
  },
  {
   "cell_type": "code",
   "execution_count": null,
   "id": "3608d663",
   "metadata": {},
   "outputs": [],
   "source": [
    "dferr2 = pd.DataFrame()\n",
    "dferr2['Q, см^3/с'] = lamdf2['Q, см^3/с']\n",
    "dferr2['Q^2, (см^3/c)^2'] = lamdf2['Q, см^3/с'] * lamdf2['Q, см^3/с']\n",
    "dferr2['dP, бария'] = lamdf2['dP, бария']\n",
    "dferr2['dP^2, бария^2'] = lamdf2['dP, бария'] * lamdf2['dP, бария']\n",
    "dferr2['Q * dP, бария * см^3/с'] = lamdf2['dP, бария'] * lamdf2['Q, см^3/с']"
   ]
  },
  {
   "cell_type": "code",
   "execution_count": null,
   "id": "7ab42e85",
   "metadata": {},
   "outputs": [],
   "source": [
    "dferr1.to_excel('output/dfmnk1.xlsx')\n",
    "dferr2.to_excel('output/dfmnk2.xlsx')"
   ]
  },
  {
   "cell_type": "markdown",
   "id": "d3016032",
   "metadata": {},
   "source": [
    "# More plots"
   ]
  },
  {
   "cell_type": "code",
   "execution_count": null,
   "id": "ad543fa6",
   "metadata": {},
   "outputs": [],
   "source": [
    "fig, ax = plt.subplots(nrows = 1, ncols = 1, figsize=(11.7, 8.3))\n",
    "\n",
    "ax.xaxis.set_major_locator(plt.MultipleLocator(200))\n",
    "ax.yaxis.set_major_locator(plt.MultipleLocator(20))\n",
    "ax.xaxis.set_minor_locator(plt.MultipleLocator(100))\n",
    "ax.yaxis.set_minor_locator(plt.MultipleLocator(5))\n",
    "        \n",
    "plot_lin(ax, fig, lamdf1, p1, err1, 3)"
   ]
  },
  {
   "cell_type": "code",
   "execution_count": null,
   "id": "54033906",
   "metadata": {},
   "outputs": [],
   "source": [
    "fig, ax = plt.subplots(nrows = 1, ncols = 1, figsize=(11.7, 8.3))\n",
    "\n",
    "ax.xaxis.set_major_locator(plt.MultipleLocator(100))\n",
    "ax.yaxis.set_major_locator(plt.MultipleLocator(20))\n",
    "ax.xaxis.set_minor_locator(plt.MultipleLocator(20))\n",
    "ax.yaxis.set_minor_locator(plt.MultipleLocator(5))\n",
    "        \n",
    "plot_lin(ax, fig, lamdf2, p2, err2, 4)"
   ]
  },
  {
   "cell_type": "code",
   "execution_count": null,
   "id": "ebce39a5",
   "metadata": {},
   "outputs": [],
   "source": [
    "mu_1 = np.pi * d1 ** 4 / (128 * p1[0] * L1)"
   ]
  },
  {
   "cell_type": "code",
   "execution_count": null,
   "id": "f610e181",
   "metadata": {},
   "outputs": [],
   "source": [
    "sigma_mu_1 = mu_1 * np.sqrt((4 * sigma_d1 / d1) ** 2 + (err1[0] / p1[0]) ** 2)"
   ]
  },
  {
   "cell_type": "code",
   "execution_count": null,
   "id": "dec8182f",
   "metadata": {},
   "outputs": [],
   "source": [
    "mu_2 = np.pi * d2 ** 4 / (128 * p2[0] * L2)"
   ]
  },
  {
   "cell_type": "code",
   "execution_count": null,
   "id": "cc592dc7",
   "metadata": {},
   "outputs": [],
   "source": [
    "sigma_mu_2 = mu_2 * np.sqrt((4 * sigma_d1 / d2) ** 2 + (err2[0] / p2[0]) ** 2)"
   ]
  },
  {
   "cell_type": "markdown",
   "id": "966374f3",
   "metadata": {},
   "source": [
    "# Reynolds number"
   ]
  },
  {
   "cell_type": "code",
   "execution_count": null,
   "id": "714edd58",
   "metadata": {},
   "outputs": [],
   "source": [
    "rho = 1.184e-3 # Density at 25C\n",
    "Q_critical = 63"
   ]
  },
  {
   "cell_type": "code",
   "execution_count": null,
   "id": "643d4bea",
   "metadata": {},
   "outputs": [],
   "source": [
    "Re = rho * Q_critical / (np.pi * d1 / 2 * mu_1)"
   ]
  },
  {
   "cell_type": "code",
   "execution_count": null,
   "id": "c01cfd40",
   "metadata": {},
   "outputs": [],
   "source": [
    "df3 = pd.read_excel('experimental_data.xlsx', sheet_name = 'Second').sort_values(by = [\"L, см\"]).reset_index(drop = True)"
   ]
  },
  {
   "cell_type": "code",
   "execution_count": null,
   "id": "700186c8",
   "metadata": {},
   "outputs": [],
   "source": [
    "df3['dP, бария'] = df3['h, см'] * g * sina"
   ]
  },
  {
   "cell_type": "code",
   "execution_count": null,
   "id": "bf1581bf",
   "metadata": {},
   "outputs": [],
   "source": [
    "V = 5e3 # cm^3\n",
    "t = 107 # sec\n",
    "Q = V / t\n",
    "l = 0.2 * rho * Q / (np.pi * mu_1)"
   ]
  },
  {
   "cell_type": "code",
   "execution_count": null,
   "id": "bea97f22",
   "metadata": {},
   "outputs": [],
   "source": [
    "fig, ax = plt.subplots(nrows = 1, ncols = 1, figsize=(11.7, 8.3))\n",
    "\n",
    "ax.xaxis.set_major_locator(plt.MultipleLocator(10))\n",
    "ax.yaxis.set_major_locator(plt.MultipleLocator(200))\n",
    "ax.xaxis.set_minor_locator(plt.MultipleLocator(2))\n",
    "ax.yaxis.set_minor_locator(plt.MultipleLocator(40))\n",
    "\n",
    "# Show grid\n",
    "ax.grid(visible = True, linestyle = '--', which='both')\n",
    "\n",
    "# Set axis format to scientific\n",
    "fig.canvas.draw()\n",
    "plt.ticklabel_format(axis='both', style='sci', scilimits=(0,0))\n",
    "\n",
    "plt.xlabel('$L$, см')\n",
    "plt.ylabel('$\\Delta P$, бария')\n",
    "\n",
    "ax.scatter(df3['L, см'], df3['dP, бария'])\n",
    "\n",
    "# Set axis limits\n",
    "ax.set_xlim(left = 0)\n",
    "ax.set_ylim(bottom = 0)\n",
    "\n",
    "# Set title\n",
    "ax.set_title('Рис. 5. Зависимость $\\Delta P$ от $L$')\n",
    "\n",
    "# Show plot\n",
    "plt.legend()\n",
    "plt.show()\n",
    "\n",
    "fig.savefig('plots/plot5.pdf')"
   ]
  }
 ],
 "metadata": {
  "language_info": {
   "name": "python"
  }
 },
 "nbformat": 4,
 "nbformat_minor": 5
}
