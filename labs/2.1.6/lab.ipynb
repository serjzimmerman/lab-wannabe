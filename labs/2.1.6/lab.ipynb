{
 "cells": [
  {
   "cell_type": "code",
   "execution_count": null,
   "id": "44ed480e",
   "metadata": {},
   "outputs": [],
   "source": [
    "# coding: utf-8\n",
    "\n",
    "import pandas as pd\n",
    "import numpy as np\n",
    "import matplotlib.pyplot as plt\n",
    "import matplotlib\n",
    "from matplotlib.cm import get_cmap"
   ]
  },
  {
   "cell_type": "markdown",
   "id": "51f420da",
   "metadata": {},
   "source": [
    "# Input experimental data"
   ]
  },
  {
   "cell_type": "code",
   "execution_count": null,
   "id": "7e4af3d4",
   "metadata": {},
   "outputs": [],
   "source": [
    "df1 = pd.read_excel('experimental_data.xlsx', sheet_name = 'Thermocouple', header = 1)\n",
    "df2 = pd.read_excel('experimental_data.xlsx', sheet_name = 'Measurements', header = 0)"
   ]
  },
  {
   "cell_type": "code",
   "execution_count": null,
   "id": "fcbbc9a7",
   "metadata": {},
   "outputs": [],
   "source": [
    "df2"
   ]
  },
  {
   "cell_type": "code",
   "execution_count": null,
   "id": "d4820c03",
   "metadata": {},
   "outputs": [],
   "source": [
    "sigma_p_sys = 1 / 10 / 2\n",
    "sigma_u_sys = 1.0"
   ]
  },
  {
   "cell_type": "code",
   "execution_count": null,
   "id": "0ea1675f",
   "metadata": {},
   "outputs": [],
   "source": [
    "def convert_voltage_to_celsius(row):\n",
    "    return row['dU, мкВ'] / float(df1.iloc[(df1['T, C']-row['T, C']).abs().argsort()[:1]]['мкВ / C'])"
   ]
  },
  {
   "cell_type": "code",
   "execution_count": null,
   "id": "ad505f52",
   "metadata": {},
   "outputs": [],
   "source": [
    "def calculate_temperature_sys_error(row):\n",
    "    return row['dT, C'] * sigma_u_sys / row['dU, мкВ']"
   ]
  },
  {
   "cell_type": "code",
   "execution_count": null,
   "id": "6aec6578",
   "metadata": {},
   "outputs": [],
   "source": [
    "zero_kelvin = 273\n",
    "bar = 10e5"
   ]
  },
  {
   "cell_type": "code",
   "execution_count": null,
   "id": "16f5d873",
   "metadata": {},
   "outputs": [],
   "source": [
    "df2['dT, C'] = df2.apply(convert_voltage_to_celsius, axis = 1)\n",
    "df2['dT_sigma, C'] = df2.apply(calculate_temperature_sys_error, axis = 1)\n",
    "df2['dP_sigma, бар'] = sigma_p_sys\n",
    "df2['T, K'] = df2['T, C'] + zero_kelvin\n",
    "df2['1/T, 1/K'] = 1 / df2['T, K']\n",
    "df2['dP, Па'] = df2['dP, бар'] * bar"
   ]
  },
  {
   "cell_type": "code",
   "execution_count": null,
   "id": "5041ae2e",
   "metadata": {},
   "outputs": [],
   "source": [
    "grouped = df2.groupby(['T, C'])\n",
    "groups = [group for _, group in grouped]"
   ]
  },
  {
   "cell_type": "markdown",
   "id": "343723f8",
   "metadata": {},
   "source": [
    "# Least Squares"
   ]
  },
  {
   "cell_type": "code",
   "execution_count": null,
   "id": "ef8a2809",
   "metadata": {},
   "outputs": [],
   "source": [
    "def lstsqb(x, y):\n",
    "    return (x.multiply(y).mean() - x.mean() * y.mean()) / (x.multiply(x).mean() - x.mean() ** 2)"
   ]
  },
  {
   "cell_type": "code",
   "execution_count": null,
   "id": "d016f6cc",
   "metadata": {},
   "outputs": [],
   "source": [
    "def lstsqa(x, y):\n",
    "    return y.mean() - lstsqb(x, y) * x.mean()"
   ]
  },
  {
   "cell_type": "code",
   "execution_count": null,
   "id": "bcfbe18e",
   "metadata": {},
   "outputs": [],
   "source": [
    "def lstsqbsem(x, y):\n",
    "    return 1 / np.sqrt(len(x)) * np.sqrt((y.multiply(y).mean() - y.mean() ** 2) / (x.multiply(x).mean() - x.mean() ** 2) - lstsqb(x, y) ** 2)"
   ]
  },
  {
   "cell_type": "markdown",
   "id": "25918f6e",
   "metadata": {},
   "source": [
    "# Part 1"
   ]
  },
  {
   "cell_type": "markdown",
   "id": "eb277d70",
   "metadata": {},
   "source": [
    "## General Data"
   ]
  },
  {
   "cell_type": "code",
   "execution_count": null,
   "id": "7090db88",
   "metadata": {},
   "outputs": [],
   "source": [
    "lines = list()\n",
    "for i in groups:\n",
    "    p, v = np.polyfit(i['dP, бар'], i['dT, C'], deg = 1, cov = True)\n",
    "    lines.append(list([p, np.array([np.sqrt(v[0][0]), np.sqrt(v[1][1])])]))"
   ]
  },
  {
   "cell_type": "code",
   "execution_count": null,
   "id": "9be4d73e",
   "metadata": {},
   "outputs": [],
   "source": [
    "lines"
   ]
  },
  {
   "cell_type": "markdown",
   "id": "8827f256",
   "metadata": {},
   "source": [
    "# Tables"
   ]
  },
  {
   "cell_type": "markdown",
   "id": "c50c6b93",
   "metadata": {},
   "source": [
    "# Plots"
   ]
  },
  {
   "cell_type": "code",
   "execution_count": null,
   "id": "b46faba2",
   "metadata": {},
   "outputs": [],
   "source": [
    "def plot_group(a, i):\n",
    "    a.xaxis.set_major_locator(plt.MultipleLocator(0.5))\n",
    "    a.yaxis.set_major_locator(plt.MultipleLocator(0.5))\n",
    "    a.xaxis.set_minor_locator(plt.MultipleLocator(0.1))\n",
    "    a.yaxis.set_minor_locator(plt.MultipleLocator(0.1))\n",
    "    a.set_ylim(bottom = y_min, top = y_max)\n",
    "    a.set_xlim(left = x_min, right = x_max)\n",
    "    a.grid(visible = True, linestyle = '--')\n",
    "    a.grid(visible = True, linestyle = '--', which = 'minor')\n",
    "    a.errorbar(groups[i]['dP, бар'], groups[i]['dT, C'], color = colors[i], yerr = groups[i]['dT_sigma, C'], xerr = groups[i]['dP_sigma, бар'], fmt = '.')\n",
    "    # ax.errorbar(df1.loc[1:, 'dl, см'], df1.loc[1:, 'P, Н'], xerr = df1.loc[1:, 'sigma_l, см'], fmt = '.')\n",
    "    a.plot(x, lines[i][0][1] + lines[i][0][0] * x, label = 'Линейная модель: $f(\\Delta{P}) = a + \\Delta{P} \\cdot b$', color = colors[i])\n",
    "    a.plot([], [], ' ', label = '$a = {a:.3f} \\pm {da:.3f} \\degree C, b = {b:.3f} \\pm {db:.3f}$ $\\degree C / бар$'.format(a = lines[i][0][1], b = lines[i][0][0], da = lines[i][1][1], db = lines[i][1][0]))\n",
    "    a.legend()\n",
    "    a.set_xlabel('$\\Delta{P}, бар$')\n",
    "    a.set_ylabel('$\\Delta{T}, C$')"
   ]
  },
  {
   "cell_type": "code",
   "execution_count": null,
   "id": "b6d0fba2",
   "metadata": {},
   "outputs": [],
   "source": [
    "y_max = 9 / 8 * max(df2.loc[:, 'dT, C'])\n",
    "x_max = 9 / 8 * max(df2.loc[:, 'dP, бар'])\n",
    "y_min = 3 / 4 * min(df2.loc[:, 'dT, C'])\n",
    "x_min = 3 / 4 * min(df2.loc[:, 'dP, бар'])"
   ]
  },
  {
   "cell_type": "code",
   "execution_count": null,
   "id": "45005b99",
   "metadata": {},
   "outputs": [],
   "source": [
    "x = np.linspace(0, x_max, 1000)"
   ]
  },
  {
   "cell_type": "code",
   "execution_count": null,
   "id": "6ce02ce6",
   "metadata": {},
   "outputs": [],
   "source": [
    "name = \"Set1\"\n",
    "cmap = get_cmap(name)  # type: matplotlib.colors.ListedColormap\n",
    "colors = cmap.colors  # type: list"
   ]
  },
  {
   "cell_type": "code",
   "execution_count": null,
   "id": "0d3540d1",
   "metadata": {},
   "outputs": [],
   "source": [
    "for i in range(len(groups)):\n",
    "    fig, ax = plt.subplots(nrows = 1, ncols = 1, figsize=(11.7, 8.3))\n",
    "    plot_group(ax, i)\n",
    "    fig.suptitle('Рис. {}. Зависимость $\\Delta{T}(\\Delta{P})$ при $T = {t} \\degree C$'.format(i + 1, T = '{T}', P = '{P}', t = groups[i]['T, C'].iloc[0]))\n",
    "    fig.savefig('plots/plot{}.pdf'.format(i))"
   ]
  },
  {
   "cell_type": "code",
   "execution_count": null,
   "id": "66331018",
   "metadata": {},
   "outputs": [],
   "source": [
    "array_error = np.array([lines[x][1][0] / bar for x in range(len(lines))])"
   ]
  },
  {
   "cell_type": "code",
   "execution_count": null,
   "id": "ac3c0703",
   "metadata": {},
   "outputs": [],
   "source": [
    "array = [[groups[x]['1/T, 1/K'].iloc[0], lines[x][0][0]] for x in range(len(lines))]\n",
    "p, v = np.polyfit([groups[x]['1/T, 1/K'].iloc[0] for x in range(len(lines))], np.array([lines[x][0][0] / bar for x in range(len(lines))]), deg = 1, cov = True, w = 1 / np.array(array_error))"
   ]
  },
  {
   "cell_type": "code",
   "execution_count": null,
   "id": "1488ec47",
   "metadata": {},
   "outputs": [],
   "source": [
    "v"
   ]
  },
  {
   "cell_type": "code",
   "execution_count": null,
   "id": "fed0d872",
   "metadata": {},
   "outputs": [],
   "source": [
    "x_max = 9 / 8 * max([groups[x]['1/T, 1/K'].iloc[0] for x in range(len(lines))])\n",
    "y_max = 9 / 8 * max([lines[x][0][0] / bar for x in range(len(lines))])\n",
    "x_min = 7 / 8 * min([groups[x]['1/T, 1/K'].iloc[0] for x in range(len(lines))])\n",
    "y_min = 7 / 8 * min([lines[x][0][0] / bar for x in range(len(lines))])"
   ]
  },
  {
   "cell_type": "code",
   "execution_count": null,
   "id": "0a0f203c",
   "metadata": {},
   "outputs": [],
   "source": [
    "def plot_final(a):\n",
    "    a.xaxis.set_major_locator(plt.MultipleLocator(1e-4))\n",
    "    a.yaxis.set_major_locator(plt.MultipleLocator(0.5e-7))\n",
    "    a.xaxis.set_minor_locator(plt.MultipleLocator(0.5e-4))\n",
    "    a.yaxis.set_minor_locator(plt.MultipleLocator(0.1e-7))\n",
    "    plt.ticklabel_format(axis=\"x\", style=\"sci\", scilimits=(0,0))\n",
    "    plt.ticklabel_format(axis=\"y\", style=\"sci\", scilimits=(0,0))\n",
    "    a.set_ylim(bottom = y_min, top = y_max)\n",
    "    a.set_xlim(left = x_min, right = x_max)\n",
    "    a.grid(visible = True, linestyle = '--')\n",
    "    a.grid(visible = True, linestyle = '--', which = 'minor')\n",
    "    x = np.linspace(x_min, x_max, 1000)\n",
    "    a.errorbar([groups[x]['1/T, 1/K'].iloc[0] for x in range(len(lines))], np.array([lines[x][0][0] for x in range(len(lines))]) / bar, fmt = '.', color = colors[0], yerr = array_error)\n",
    "    a.plot(x, p[0] * x + p[1], color = colors[0], label = 'Линейная модель: $\\mu_{д-т} = c + d / T$')\n",
    "    a.plot([], [], ' ', label = '$c = {a:.2e} \\pm {da:.2e} \\degree K / Па$, $d = {b:.2e} \\pm {db:.2e} \\degree K^2 / Па$'.format(a = p[1], b = p[0], da = np.sqrt(v[1][1]), db = np.sqrt(v[0][0])))\n",
    "    a.legend()\n",
    "    a.set_xlabel('$1 / T, 1 / \\degree K$')\n",
    "    a.set_ylabel('$\\mu_{д-т}, \\degree K / Па$')"
   ]
  },
  {
   "cell_type": "code",
   "execution_count": null,
   "id": "614e43ed",
   "metadata": {},
   "outputs": [],
   "source": [
    "fig, ax = plt.subplots(nrows = 1, ncols = 1, figsize=(11.7, 8.3))\n",
    "plot_final(ax)\n",
    "fig.suptitle('Рис. 6. Зависимость $\\mu_{д-т}(1 / T)$')\n",
    "fig.savefig('plots/plot5.pdf')"
   ]
  },
  {
   "cell_type": "markdown",
   "id": "6abbc137",
   "metadata": {},
   "source": [
    "# Results"
   ]
  },
  {
   "cell_type": "code",
   "execution_count": null,
   "id": "d1984ce5",
   "metadata": {},
   "outputs": [],
   "source": [
    "R = 8.31\n",
    "c = p[1]\n",
    "d = p[0]\n",
    "e = np.sqrt(np.diag(v))\n",
    "sigma_c = e[1]\n",
    "sigma_d = e[0]\n",
    "cp = 7 / 2 * R"
   ]
  },
  {
   "cell_type": "code",
   "execution_count": null,
   "id": "b4f14222",
   "metadata": {},
   "outputs": [],
   "source": [
    "b = - cp * c\n",
    "sigma_b = b * sigma_c / c"
   ]
  },
  {
   "cell_type": "code",
   "execution_count": null,
   "id": "f9528775",
   "metadata": {},
   "outputs": [],
   "source": [
    "a = d * R * cp / 2\n",
    "sigma_a = sigma_d / d * a"
   ]
  },
  {
   "cell_type": "code",
   "execution_count": null,
   "id": "a2869625",
   "metadata": {},
   "outputs": [],
   "source": [
    "a"
   ]
  },
  {
   "cell_type": "code",
   "execution_count": null,
   "id": "991b4823",
   "metadata": {},
   "outputs": [],
   "source": [
    "sigma_a"
   ]
  },
  {
   "cell_type": "code",
   "execution_count": null,
   "id": "e0475a03",
   "metadata": {},
   "outputs": [],
   "source": [
    "b"
   ]
  },
  {
   "cell_type": "code",
   "execution_count": null,
   "id": "69db5c0c",
   "metadata": {},
   "outputs": [],
   "source": [
    "sigma_b  * 10**6"
   ]
  },
  {
   "cell_type": "code",
   "execution_count": null,
   "id": "3ee1b4ae",
   "metadata": {},
   "outputs": [],
   "source": [
    "T_i = 2 * a / (R * b)\n",
    "sigma_T_i = T_i * np.sqrt((sigma_a / a) ** 2 + (sigma_b / b) ** 2)"
   ]
  },
  {
   "cell_type": "code",
   "execution_count": null,
   "id": "a77c4307",
   "metadata": {},
   "outputs": [],
   "source": [
    "sigma_T_i"
   ]
  },
  {
   "cell_type": "code",
   "execution_count": null,
   "id": "1529fcf8",
   "metadata": {},
   "outputs": [],
   "source": [
    "df2.to_excel('output.xlsx')"
   ]
  }
 ],
 "metadata": {
  "language_info": {
   "name": "python"
  }
 },
 "nbformat": 4,
 "nbformat_minor": 5
}
