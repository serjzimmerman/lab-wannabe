{
 "cells": [
  {
   "cell_type": "code",
   "execution_count": null,
   "id": "2a1b47b5",
   "metadata": {},
   "outputs": [],
   "source": [
    "import pandas as pd\n",
    "import numpy as np\n",
    "import matplotlib.pyplot as plt\n",
    "import matplotlib\n",
    "import scipy"
   ]
  },
  {
   "cell_type": "markdown",
   "id": "e63e2a72",
   "metadata": {},
   "source": [
    "# First"
   ]
  },
  {
   "cell_type": "code",
   "execution_count": null,
   "id": "b6ae2bd3",
   "metadata": {},
   "outputs": [],
   "source": [
    "df1 = pd.read_excel('experimental_data.xlsx', sheet_name = 'Radius').reset_index(drop = True)"
   ]
  },
  {
   "cell_type": "code",
   "execution_count": null,
   "id": "77175061",
   "metadata": {},
   "outputs": [],
   "source": [
    "df1['r^2, см^2'] = df1['r, см'] ** 2"
   ]
  },
  {
   "cell_type": "code",
   "execution_count": null,
   "id": "d63d2164",
   "metadata": {},
   "outputs": [],
   "source": [
    "gb = df1.groupby(['L, см'])\n",
    "dfs = [gb.get_group(x).reset_index(drop = True) for x in gb.groups]"
   ]
  },
  {
   "cell_type": "markdown",
   "id": "0180c464",
   "metadata": {},
   "source": [
    "# Plots"
   ]
  },
  {
   "cell_type": "code",
   "execution_count": null,
   "id": "dad0d1cb",
   "metadata": {},
   "outputs": [],
   "source": [
    "dfs[1]"
   ]
  },
  {
   "cell_type": "code",
   "execution_count": null,
   "id": "f43d5a08",
   "metadata": {},
   "outputs": [],
   "source": [
    "def plot_sq_rad(df, idx):\n",
    "    fig, ax = plt.subplots(nrows = 1, ncols = 1, figsize=(11.7, 8.3))\n",
    "    fig.suptitle('Рис. {}. Зависимость $r_m^2(m)$'.format(idx))\n",
    "    \n",
    "    ax.set_ylim([0, 1.25 * max(df['r^2, см^2'])])\n",
    "    ax.set_xlim([0, 1.25 * max(df['m'])])\n",
    "    \n",
    "    ax.grid(visible = True, linestyle = '--', which = 'both')\n",
    "    ax.scatter(df['m'], df['r^2, см^2'])\n",
    "\n",
    "    result = scipy.stats.linregress(df['m'], df['r^2, см^2'])\n",
    "\n",
    "    x = np.linspace(0, 1.25 * max(df['m']))\n",
    "    ax.plot(x, x * result.slope + result.intercept, label = \"Линейная модель: $r^2 = a + k \\cdot m$\")\n",
    "    ax.plot([], [], ' ', label = '$k = {k:.6f} \\pm {dk:.6f}$, $a = {a:.4f}$'.format(k = result.slope, dk = result.stderr, a = result.intercept))\n",
    "\n",
    "    ax.set_xlabel('$w^2, 1/с^2$')\n",
    "    ax.set_ylabel('$1/e^2$')\n",
    "\n",
    "    ax.legend()\n",
    "    fig.savefig('plots/plot{}.pdf'.format(idx))\n",
    "    return result"
   ]
  },
  {
   "cell_type": "code",
   "execution_count": null,
   "id": "13ef40a3",
   "metadata": {},
   "outputs": [],
   "source": [
    "def calc_res(L, r):\n",
    "    l = 26\n",
    "    print ((0.63e-3 / 26) * (2.29e0 * L) ** 2 / (r.slope))"
   ]
  },
  {
   "cell_type": "code",
   "execution_count": null,
   "id": "a4e4bc74",
   "metadata": {},
   "outputs": [],
   "source": [
    "res = plot_sq_rad(dfs[0], 1)\n",
    "calc_res(52.5, res)"
   ]
  },
  {
   "cell_type": "code",
   "execution_count": null,
   "id": "2dedb0ea",
   "metadata": {},
   "outputs": [],
   "source": [
    "res = plot_sq_rad(dfs[1], 2)\n",
    "calc_res(74.5, res)"
   ]
  },
  {
   "cell_type": "code",
   "execution_count": null,
   "id": "afe0fe76",
   "metadata": {},
   "outputs": [],
   "source": [
    "res = plot_sq_rad(dfs[2], 3)\n",
    "calc_res(106.5, res)"
   ]
  }
 ],
 "metadata": {
  "language_info": {
   "name": "python"
  }
 },
 "nbformat": 4,
 "nbformat_minor": 5
}
