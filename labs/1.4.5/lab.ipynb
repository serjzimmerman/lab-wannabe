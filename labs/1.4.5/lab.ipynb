{
 "cells": [
  {
   "cell_type": "code",
   "execution_count": null,
   "id": "2a1b47b5",
   "metadata": {},
   "outputs": [],
   "source": [
    "import pandas as pd\n",
    "import numpy as np\n",
    "import matplotlib.pyplot as plt\n",
    "import matplotlib"
   ]
  },
  {
   "cell_type": "code",
   "execution_count": null,
   "id": "320b0c21",
   "metadata": {},
   "outputs": [],
   "source": [
    "def lstsqk(x, y):\n",
    "    return np.multiply(x, y).mean(axis = 0) / np.multiply(x, x).mean(axis = 0)"
   ]
  },
  {
   "cell_type": "code",
   "execution_count": null,
   "id": "ef6023c1",
   "metadata": {},
   "outputs": [],
   "source": [
    "def lstsqkerr(x, y):\n",
    "    return 1 / np.sqrt(len(x)) * np.sqrt(np.multiply(y, y).mean(axis = 0) / np.multiply(x, x).mean(axis = 0) - lstsqk(x,y) ** 2)"
   ]
  },
  {
   "cell_type": "markdown",
   "id": "e63e2a72",
   "metadata": {},
   "source": [
    "# First"
   ]
  },
  {
   "cell_type": "code",
   "execution_count": null,
   "id": "923790e0",
   "metadata": {},
   "outputs": [],
   "source": [
    "df1 = pd.read_excel('experimental_data.xlsx', sheet_name = 'Frequency').sort_values(by = [\"m, кг\"]).reset_index(drop = True)"
   ]
  },
  {
   "cell_type": "markdown",
   "id": "0180c464",
   "metadata": {},
   "source": [
    "# General Data"
   ]
  },
  {
   "cell_type": "code",
   "execution_count": null,
   "id": "22352b98",
   "metadata": {},
   "outputs": [],
   "source": [
    "l = 491e-3\n",
    "d = 0.3\n",
    "g0 = 9.81"
   ]
  },
  {
   "cell_type": "code",
   "execution_count": null,
   "id": "6d86766f",
   "metadata": {},
   "outputs": [],
   "source": [
    "sigma_m_sys = 0.1\n",
    "sigma_l_sys = 1e-3\n",
    "sigma_d_sys = 0.01\n",
    "sigma_f_sys = 1"
   ]
  },
  {
   "cell_type": "code",
   "execution_count": null,
   "id": "4857dfd8",
   "metadata": {},
   "outputs": [],
   "source": [
    "num = len(df1.index)"
   ]
  },
  {
   "cell_type": "markdown",
   "id": "95371888",
   "metadata": {},
   "source": [
    "# Plot "
   ]
  },
  {
   "cell_type": "code",
   "execution_count": null,
   "id": "50d706a7",
   "metadata": {},
   "outputs": [],
   "source": [
    "fig, ax = plt.subplots(nrows = 1, ncols = 1, figsize=(11.7, 8.3))\n",
    "\n",
    "# Show grid\n",
    "ax.grid(b = True, linestyle = '--')\n",
    "\n",
    "# Set axis format to scientific\n",
    "fig.canvas.draw()\n",
    "plt.ticklabel_format(axis='both', style='sci', scilimits=(0,0))\n",
    "\n",
    "plt.xlabel('$n$')\n",
    "plt.ylabel('$\\\\nu_n$, Гц')\n",
    "\n",
    "k_list = list()\n",
    "\n",
    "# Interate over different tensions\n",
    "for i in range(num):\n",
    "    max_n = len(df1.iloc[i]['nu_1' : 'nu_9'])\n",
    "    n_series = pd.Series([n + 1 for n in range(max_n)]).astype('float64')\n",
    "    \n",
    "    k_list.append(list([lstsqk(n_series, np.array(df1.iloc[i]['nu_1' : 'nu_9'])), np.sqrt(lstsqkerr(n_series, np.array(df1.iloc[i]['nu_1' : 'nu_9'])) ** 2 + sigma_f_sys ** 2)]))\n",
    "    \n",
    "    color = next(ax._get_lines.prop_cycler)['color']\n",
    "    \n",
    "    ax.scatter(n_series, df1.iloc[i]['nu_1' : 'nu_9'], color = color)\n",
    "    \n",
    "    x = np.linspace(0, max(n_series), 1000)\n",
    "    \n",
    "    T = df1.iloc[i]['m, кг'] * g0\n",
    "    ax.plot(x, x * k_list[i][0], color = color, label = '$T = %s Н$' % (str(np.around(T, 2))))\n",
    "\n",
    "# Set x tick spacing to 1\n",
    "plt.gca().xaxis.set_major_locator(plt.MultipleLocator(1))\n",
    "\n",
    "# Set axis limits\n",
    "ax.set_xlim(left = 0)\n",
    "ax.set_ylim(bottom = 0)\n",
    "\n",
    "# Set title\n",
    "ax.set_title('Рис. 1. Зависимость $\\\\nu_n$ для различных натяжений $T$')\n",
    "\n",
    "# Show plot\n",
    "plt.legend()\n",
    "plt.show()\n",
    "\n",
    "fig.savefig('plots/figure_1.pdf')"
   ]
  },
  {
   "cell_type": "code",
   "execution_count": null,
   "id": "29b148be",
   "metadata": {},
   "outputs": [],
   "source": [
    "u_list = list()\n",
    "\n",
    "for i in range(num):\n",
    "    u = 2 * l * k_list[i][0]\n",
    "    u_list.append([u, u * np.sqrt((sigma_l_sys / l) ** 2 + (k_list[i][1] / k_list[i][0]) ** 2)])"
   ]
  },
  {
   "cell_type": "code",
   "execution_count": null,
   "id": "cf6d17da",
   "metadata": {},
   "outputs": [],
   "source": [
    "u_list"
   ]
  },
  {
   "cell_type": "code",
   "execution_count": null,
   "id": "ad2a0eff",
   "metadata": {},
   "outputs": [],
   "source": [
    "u_sq = [x[0] ** 2 for x in u_list]\n",
    "t_list = [df1.iloc[i]['m, кг'] * g0 for i in range(num)]"
   ]
  },
  {
   "cell_type": "code",
   "execution_count": null,
   "id": "83ff841f",
   "metadata": {},
   "outputs": [],
   "source": [
    "k_u_sq = lstsqk(np.array(t_list), np.array(u_sq))\n",
    "k_u_sq_err = lstsqkerr(np.array(t_list), np.array(u_sq))"
   ]
  },
  {
   "cell_type": "code",
   "execution_count": null,
   "id": "032a8cc1",
   "metadata": {},
   "outputs": [],
   "source": [
    "fig, ax = plt.subplots(nrows = 1, ncols = 1, figsize=(11.7, 8.3))\n",
    "\n",
    "# Show grid\n",
    "ax.grid(b = True, linestyle = '--')\n",
    "\n",
    "# Set axis format to scientific\n",
    "plt.ticklabel_format(axis='both', style='sci', scilimits=(0,0))\n",
    "fig.canvas.draw()\n",
    "\n",
    "# Plot fit line\n",
    "x = np.linspace(0, max(t_list), 1000)\n",
    "ax.plot(x, x * k_u_sq, label = '$u^2 = \\\\frac{1}{\\\\rho_1} T$')\n",
    "\n",
    "# Dummy plots for legend\n",
    "ax.plot([], [], ' ', label = '$\\\\frac{1}{\\\\rho_1} = %s$ $м/кг$ ' % str(np.round(k_u_sq, 2)))\n",
    "\n",
    "# Plot data points\n",
    "ax.scatter(t_list, u_sq)\n",
    "\n",
    "# Set axis labels\n",
    "plt.xlabel('$T, Н$')\n",
    "plt.ylabel('$u^2, м/c$')\n",
    "\n",
    "# Set axis limits\n",
    "ax.set_xlim(left = 0)\n",
    "ax.set_ylim(bottom = 0)\n",
    "\n",
    "# Set title\n",
    "ax.set_title('Рис. 2. Зависимость $u^2(T)$')\n",
    "\n",
    "# Show plot\n",
    "ax.legend()\n",
    "plt.show()\n",
    "\n",
    "fig.savefig('plots/figure_2.pdf')"
   ]
  },
  {
   "cell_type": "code",
   "execution_count": null,
   "id": "51e05489",
   "metadata": {},
   "outputs": [],
   "source": [
    "rho = k_u_sq ** -1\n",
    "rho_sigma = rho * k_u_sq_err / k_u_sq"
   ]
  },
  {
   "cell_type": "code",
   "execution_count": null,
   "id": "b412d60a",
   "metadata": {},
   "outputs": [],
   "source": [
    "rho"
   ]
  },
  {
   "cell_type": "code",
   "execution_count": null,
   "id": "7ba05b0f",
   "metadata": {},
   "outputs": [],
   "source": [
    "rho_sigma"
   ]
  }
 ],
 "metadata": {
  "language_info": {
   "name": "python"
  }
 },
 "nbformat": 4,
 "nbformat_minor": 5
}
