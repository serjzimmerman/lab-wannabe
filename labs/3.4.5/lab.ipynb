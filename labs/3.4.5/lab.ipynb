{
 "cells": [
  {
   "cell_type": "code",
   "execution_count": null,
   "id": "2a1b47b5",
   "metadata": {},
   "outputs": [],
   "source": [
    "import pandas as pd\n",
    "import numpy as np\n",
    "import matplotlib.pyplot as plt\n",
    "import matplotlib"
   ]
  },
  {
   "cell_type": "markdown",
   "id": "e63e2a72",
   "metadata": {},
   "source": [
    "# First"
   ]
  },
  {
   "cell_type": "code",
   "execution_count": null,
   "id": "923790e0",
   "metadata": {},
   "outputs": [],
   "source": [
    "df1 = pd.read_excel('experimental_data.xlsx', sheet_name = 'Iron').reset_index(drop = True)\n",
    "df2 = pd.read_excel('experimental_data.xlsx', sheet_name = 'PermAlloy').reset_index(drop = True)\n",
    "df3 = pd.read_excel('experimental_data.xlsx', sheet_name = 'SiliconIron').reset_index(drop = True)\n",
    "dfs = [df1, df2, df3]"
   ]
  },
  {
   "cell_type": "code",
   "execution_count": null,
   "id": "cdf5fd97",
   "metadata": {},
   "outputs": [],
   "source": [
    "params = [[40, 400, 3.0e-4, 25e-2], [35, 220, 3.8e-4, 24e-2], [40, 400, 1.2e-4, 10e-2]]"
   ]
  },
  {
   "cell_type": "code",
   "execution_count": null,
   "id": "faecb075",
   "metadata": {},
   "outputs": [],
   "source": [
    "R, C = 20e3, 20e-6"
   ]
  },
  {
   "cell_type": "code",
   "execution_count": null,
   "id": "510d74e3",
   "metadata": {},
   "outputs": [],
   "source": [
    "for i in range(len(dfs)):\n",
    "    df, param = dfs[i], params[i]\n",
    "    \n",
    "    df['I_act, мА'] = np.sqrt(2) * df['I, мА']\n",
    "    df['U_act, мВ'] = np.sqrt(2) * df['U, мВ']\n",
    "    df.sort_values(inplace=True, by='I, мА')\n",
    "    df['H, А/м'] = df['I_act, мА'] * param[0] / param[3] * 1e-3\n",
    "    df['B, мТл'] = R * C * df['U_act, мВ'] / (param[2] * param[1])\n",
    "    df['mu, Н/А^2'] = df['B, мТл'] * 1e3 / df['H, А/м']"
   ]
  },
  {
   "cell_type": "code",
   "execution_count": null,
   "id": "5d44ccf4",
   "metadata": {},
   "outputs": [],
   "source": [
    "df3"
   ]
  },
  {
   "cell_type": "markdown",
   "id": "0180c464",
   "metadata": {},
   "source": [
    "# Plots"
   ]
  },
  {
   "cell_type": "code",
   "execution_count": null,
   "id": "5c46c68f",
   "metadata": {},
   "outputs": [],
   "source": [
    "def plot_hysterisis(ax, df):\n",
    "    y_min, y_max = 0, max(df['B, мТл']) * 1.1\n",
    "    x_min, x_max = 0, max(df['H, А/м']) * 1.1\n",
    "    \n",
    "    ax.set_ylim(bottom = y_min, top = y_max)\n",
    "    ax.set_xlim(left = x_min, right = x_max)\n",
    "    \n",
    "    ax.grid(visible=True, linestyle='--', which='both')\n",
    "    \n",
    "    ax.plot(df['H, А/м'], df['B, мТл'])\n",
    "    \n",
    "    ax.set_xlabel('$H, А/м$')\n",
    "    ax.set_ylabel('$B, мТл$')"
   ]
  },
  {
   "cell_type": "code",
   "execution_count": null,
   "id": "64fd525c",
   "metadata": {},
   "outputs": [],
   "source": [
    "fig, ax = plt.subplots(nrows = 1, ncols = 1, figsize=(11.7, 8.3))\n",
    "fig.suptitle('Рис. 1. Зависимость B от H (феррит)')\n",
    "ax.xaxis.set_major_locator(plt.MultipleLocator(5))\n",
    "ax.yaxis.set_major_locator(plt.MultipleLocator(10))\n",
    "ax.xaxis.set_minor_locator(plt.MultipleLocator(1))\n",
    "ax.yaxis.set_minor_locator(plt.MultipleLocator(5))\n",
    "plot_hysterisis(ax, df1)\n",
    "fig.savefig('plots/plot1.pdf')"
   ]
  },
  {
   "cell_type": "code",
   "execution_count": null,
   "id": "1b8d0aeb",
   "metadata": {},
   "outputs": [],
   "source": [
    "fig, ax = plt.subplots(nrows = 1, ncols = 1, figsize=(11.7, 8.3))\n",
    "fig.suptitle('Рис. 2. Зависимость B от H (пермаллой)')\n",
    "ax.xaxis.set_major_locator(plt.MultipleLocator(5))\n",
    "ax.yaxis.set_major_locator(plt.MultipleLocator(50))\n",
    "ax.xaxis.set_minor_locator(plt.MultipleLocator(2.5))\n",
    "ax.yaxis.set_minor_locator(plt.MultipleLocator(50))\n",
    "plot_hysterisis(ax, df2)\n",
    "fig.savefig('plots/plot2.pdf')"
   ]
  },
  {
   "cell_type": "code",
   "execution_count": null,
   "id": "cb815740",
   "metadata": {},
   "outputs": [],
   "source": [
    "fig, ax = plt.subplots(nrows = 1, ncols = 1, figsize=(11.7, 8.3))\n",
    "fig.suptitle('Рис. 3. Зависимость B от H (кремнистое железо)')\n",
    "ax.xaxis.set_major_locator(plt.MultipleLocator(50))\n",
    "ax.yaxis.set_major_locator(plt.MultipleLocator(100))\n",
    "ax.xaxis.set_minor_locator(plt.MultipleLocator(10))\n",
    "ax.yaxis.set_minor_locator(plt.MultipleLocator(50))\n",
    "plot_hysterisis(ax, df3)\n",
    "fig.savefig('plots/plot3.pdf')"
   ]
  },
  {
   "cell_type": "code",
   "execution_count": null,
   "id": "50d706a7",
   "metadata": {},
   "outputs": [],
   "source": [
    "def plot_permiability(ax, df):\n",
    "    y_min, y_max = 0, max(df['mu, Н/А^2']) * 1.1\n",
    "    x_min, x_max = 0, max(df['H, А/м']) * 1.1\n",
    "    \n",
    "    ax.set_ylim(bottom = y_min, top = y_max)\n",
    "    ax.set_xlim(left = x_min, right = x_max)\n",
    "    \n",
    "    ax.grid(visible=True, linestyle='--', which='both')\n",
    "    \n",
    "    ax.plot(df['H, А/м'], df['mu, Н/А^2'])\n",
    "    \n",
    "    ax.set_xlabel('$H, А/м$')\n",
    "    ax.set_ylabel('$\\mu, Н/А^2$')"
   ]
  },
  {
   "cell_type": "code",
   "execution_count": null,
   "id": "4f6fbe4d",
   "metadata": {},
   "outputs": [],
   "source": [
    "fig, ax = plt.subplots(nrows = 1, ncols = 1, figsize=(11.7, 8.3))\n",
    "fig.suptitle('Рис. 4. Зависимость $\\mu$ от H (феррит)')\n",
    "ax.xaxis.set_major_locator(plt.MultipleLocator(5))\n",
    "ax.yaxis.set_major_locator(plt.MultipleLocator(1000))\n",
    "ax.xaxis.set_minor_locator(plt.MultipleLocator(1))\n",
    "ax.yaxis.set_minor_locator(plt.MultipleLocator(500))\n",
    "plot_permiability(ax, df1)\n",
    "fig.savefig('plots/plot4.pdf')"
   ]
  },
  {
   "cell_type": "code",
   "execution_count": null,
   "id": "f8250025",
   "metadata": {},
   "outputs": [],
   "source": [
    "fig, ax = plt.subplots(nrows = 1, ncols = 1, figsize=(11.7, 8.3))\n",
    "fig.suptitle('Рис. 5. Зависимость $\\mu$ от H (пермаллой)')\n",
    "ax.xaxis.set_major_locator(plt.MultipleLocator(5))\n",
    "ax.yaxis.set_major_locator(plt.MultipleLocator(5000))\n",
    "ax.xaxis.set_minor_locator(plt.MultipleLocator(2.5))\n",
    "ax.yaxis.set_minor_locator(plt.MultipleLocator(2500))\n",
    "plot_permiability(ax, df2)\n",
    "fig.savefig('plots/plot5.pdf')"
   ]
  },
  {
   "cell_type": "code",
   "execution_count": null,
   "id": "265c874d",
   "metadata": {},
   "outputs": [],
   "source": [
    "fig, ax = plt.subplots(nrows = 1, ncols = 1, figsize=(11.7, 8.3))\n",
    "fig.suptitle('Рис. 6. Зависимость $\\mu$ от H (кремнистое железо)')\n",
    "ax.xaxis.set_major_locator(plt.MultipleLocator(50))\n",
    "ax.yaxis.set_major_locator(plt.MultipleLocator(1000))\n",
    "ax.xaxis.set_minor_locator(plt.MultipleLocator(10))\n",
    "ax.yaxis.set_minor_locator(plt.MultipleLocator(500))\n",
    "plot_permiability(ax, df3)\n",
    "fig.savefig('plots/plot6.pdf')"
   ]
  },
  {
   "cell_type": "code",
   "execution_count": null,
   "id": "435b7d1c",
   "metadata": {},
   "outputs": [],
   "source": [
    "df1.to_excel('output/ferrite.xlsx')\n",
    "df2.to_excel('output/permalloy.xlsx')\n",
    "df3.to_excel('output/siliconiron.xlsx')"
   ]
  }
 ],
 "metadata": {
  "language_info": {
   "name": "python"
  }
 },
 "nbformat": 4,
 "nbformat_minor": 5
}
