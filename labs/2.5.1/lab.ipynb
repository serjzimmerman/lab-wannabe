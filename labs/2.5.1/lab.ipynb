{
 "cells": [
  {
   "cell_type": "code",
   "execution_count": null,
   "id": "2a1b47b5",
   "metadata": {},
   "outputs": [],
   "source": [
    "import pandas as pd\n",
    "import numpy as np\n",
    "import matplotlib.pyplot as plt\n",
    "import matplotlib"
   ]
  },
  {
   "cell_type": "code",
   "execution_count": null,
   "id": "320b0c21",
   "metadata": {},
   "outputs": [],
   "source": [
    "def lstsqk(x, y):\n",
    "    return np.multiply(x, y).mean(axis = 0) / np.multiply(x, x).mean(axis = 0)"
   ]
  },
  {
   "cell_type": "code",
   "execution_count": null,
   "id": "ef6023c1",
   "metadata": {},
   "outputs": [],
   "source": [
    "def lstsqkerr(x, y):\n",
    "    return 1 / np.sqrt(len(x)) * np.sqrt(np.multiply(y, y).mean(axis = 0) / np.multiply(x, x).mean(axis = 0) - lstsqk(x,y) ** 2)"
   ]
  },
  {
   "cell_type": "markdown",
   "id": "e63e2a72",
   "metadata": {},
   "source": [
    "# First"
   ]
  },
  {
   "cell_type": "code",
   "execution_count": null,
   "id": "923790e0",
   "metadata": {},
   "outputs": [],
   "source": [
    "df1 = pd.read_excel('experimental_data.xlsx', sheet_name = 'Data').reset_index(drop = True)"
   ]
  },
  {
   "cell_type": "code",
   "execution_count": null,
   "id": "10aa11b1",
   "metadata": {},
   "outputs": [],
   "source": [
    "rhogh = 88 # Pa\n",
    "g = 9.81\n",
    "rho = 1000\n",
    "r = 1.05e-3 / 2\n",
    "tzero = -273.15 # Kelvin\n",
    "sigma_h = 1\n",
    "sina = 0.2\n",
    "sigma_r = 0.025e-3 / 2 # mm"
   ]
  },
  {
   "cell_type": "code",
   "execution_count": null,
   "id": "749074a5",
   "metadata": {},
   "outputs": [],
   "source": [
    "tlist = list(df1['T, C'])\n",
    "\n",
    "df1['H_mean, мм'] = df1['T, C']\n",
    "df1['H_sigma, мм'] = df1['T, C']\n",
    "df1['dP, Па'] = df1['T, C']\n",
    "df1['k'] = df1['T, C']\n",
    "\n",
    "df1['T, K'] = df1['T, C'] - tzero\n",
    "for t in tlist:\n",
    "    s = df1.loc[df1['T, C'] == t].iloc[0]['H1':'H6']\n",
    "    df1.loc[df1['T, C'] == t, 'H_mean, мм'] = s.mean() * sina\n",
    "    df1.loc[df1['T, C'] == t, 'H_sigma, мм'] = np.sqrt(s.std() ** 2 + sigma_h ** 2) * sina\n",
    "    df1.loc[df1['T, C'] == t, 'dP, Па'] = df1.loc[df1['T, C'] == t, 'H_mean, мм'] * rho * g / 1e3 - rhogh\n",
    "    df1.loc[df1['T, C'] == t, 'k'] = df1.loc[df1['T, C'] == t, 'dP, Па'] * r / 2\n",
    "\n",
    "df1['sigma_dP, Па'] = df1['H_sigma, мм'] * rho * g / 1e3\n",
    "df1['sigma_k'] = df1['k'] * np.sqrt((df1['sigma_dP, Па'] / df1['dP, Па']) ** 2 + (sigma_r / r) ** 2)"
   ]
  },
  {
   "cell_type": "code",
   "execution_count": null,
   "id": "a5480786",
   "metadata": {},
   "outputs": [],
   "source": [
    "df1"
   ]
  },
  {
   "cell_type": "markdown",
   "id": "0180c464",
   "metadata": {},
   "source": [
    "# General Data"
   ]
  },
  {
   "cell_type": "code",
   "execution_count": null,
   "id": "8b57c959",
   "metadata": {},
   "outputs": [],
   "source": [
    "p1, v1 = np.polyfit(df1['T, K'], df1['k'], deg = 1, cov = True)\n",
    "err1 = np.sqrt(np.diag(v1))"
   ]
  },
  {
   "cell_type": "code",
   "execution_count": null,
   "id": "4a6715b9",
   "metadata": {},
   "outputs": [],
   "source": [
    "def calculate_least_squares():\n",
    "    df = df1[:].copy()\n",
    "    \n",
    "    df['T * k'] = df['T, K'] * df['k']\n",
    "    \n",
    "    df['T^2, K^2'] = df['T, K'] * df['T, K']\n",
    "    df['k^2'] = df['k'] * df['k']\n",
    "    \n",
    "    x_m = df['T, K'].mean()\n",
    "    y_m = df['k'].mean()\n",
    "    \n",
    "    xx_m = df['T^2, K^2'].mean()\n",
    "    xy_m = df['T * k'].mean()\n",
    "    yy_m = df['k^2'].mean()\n",
    "    \n",
    "    return df, x_m, y_m, xx_m, xy_m, yy_m"
   ]
  },
  {
   "cell_type": "code",
   "execution_count": null,
   "id": "ad289be6",
   "metadata": {},
   "outputs": [],
   "source": [
    "mnkdata = []\n",
    "df, _, _, _, _, _ = calculate_least_squares()\n",
    "mnkdata.append(df)"
   ]
  },
  {
   "cell_type": "code",
   "execution_count": null,
   "id": "a8d66854",
   "metadata": {},
   "outputs": [],
   "source": [
    "for i in range(len(mnkdata)):\n",
    "    mnkdata[i].to_excel('plots/output{}.xlsx'.format(i + 1))"
   ]
  },
  {
   "cell_type": "markdown",
   "id": "95371888",
   "metadata": {},
   "source": [
    "# Plot Linear Scale"
   ]
  },
  {
   "cell_type": "code",
   "execution_count": null,
   "id": "c0b83085",
   "metadata": {},
   "outputs": [],
   "source": [
    "def get_min_max(series, k1 = 3 / 4, k2 = 11 / 10):\n",
    "    return k1 * min(series), k2 * max(series)"
   ]
  },
  {
   "cell_type": "code",
   "execution_count": null,
   "id": "50d706a7",
   "metadata": {},
   "outputs": [],
   "source": [
    "def plot_data_linear_scale(ax, df, p, e, yerr):\n",
    "    y_min, y_max = get_min_max(df['k'], k1 = 9 / 10, k2 = 11 / 10)\n",
    "    x_min, x_max = get_min_max(df['T, K'], k1 = 9 / 10, k2 = 11 / 10)\n",
    "    \n",
    "    ax.xaxis.set_major_locator(plt.MultipleLocator(10))\n",
    "    ax.yaxis.set_major_locator(plt.MultipleLocator(1e-3))\n",
    "    ax.xaxis.set_minor_locator(plt.MultipleLocator(5))\n",
    "    ax.yaxis.set_minor_locator(plt.MultipleLocator(1e-3))\n",
    "    \n",
    "    plt.ticklabel_format(axis=\"y\", style=\"sci\", scilimits=(0,0))\n",
    "    \n",
    "    ax.set_ylim(bottom = y_min, top = y_max)\n",
    "    ax.set_xlim(left = x_min, right = x_max)\n",
    "    \n",
    "    ax.grid(visible = True, linestyle = '--', which = 'both')\n",
    "    x = np.linspace(x_min, x_max, 1000)\n",
    "    ax.errorbar(df['T, K'], df['k'], fmt = 'o')\n",
    "    ax.plot(x, p[0] * x + p[1], label = \"Линейная модель: $\\sigma(T) = a + b \\cdot T$\")\n",
    "    ax.plot([], [], ' ', label = '$b = {k:.3e} \\pm {dk:.3e}, a = {C:.3e} \\pm {dC:.3e}$'.format(k = p[0], dk = e[0], C = p[1], dC = e[1]))\n",
    "    \n",
    "    ax.legend()\n",
    "    ax.set_xlabel('$T, K$')\n",
    "    ax.set_ylabel('$\\sigma(T), Н/м$')"
   ]
  },
  {
   "cell_type": "code",
   "execution_count": null,
   "id": "435b7d1c",
   "metadata": {},
   "outputs": [],
   "source": [
    "fig, ax = plt.subplots(nrows = 1, ncols = 1, figsize=(11.7, 8.3))\n",
    "fig.suptitle('Рис. 1. Зависимость $\\sigma(T)$ от температуры $T$')\n",
    "plot_data_linear_scale(ax, df1, p1, err1, df1['sigma_k'])\n",
    "fig.savefig('plots/plot1.pdf')"
   ]
  },
  {
   "cell_type": "code",
   "execution_count": null,
   "id": "345bcf1e",
   "metadata": {},
   "outputs": [],
   "source": [
    "df1['q, Н/м'] = - df1['T, K'] * p1[0]\n",
    "p2, v2 = np.polyfit(df1['T, K'], df1['q, Н/м'], deg = 1, cov = True)\n",
    "err2 = np.sqrt(np.diag(v2))"
   ]
  },
  {
   "cell_type": "code",
   "execution_count": null,
   "id": "3b16ff14",
   "metadata": {},
   "outputs": [],
   "source": [
    "def plot_data_heat(ax, df, p, e, yerr):\n",
    "    y_min, y_max = get_min_max(df['q, Н/м'], k1 = 9 / 10, k2 = 11 / 10)\n",
    "    x_min, x_max = get_min_max(df['T, K'], k1 = 9 / 10, k2 = 11 / 10)\n",
    "    \n",
    "    ax.xaxis.set_major_locator(plt.MultipleLocator(10))\n",
    "    ax.yaxis.set_major_locator(plt.MultipleLocator(1e-3))\n",
    "    ax.xaxis.set_minor_locator(plt.MultipleLocator(5))\n",
    "    ax.yaxis.set_minor_locator(plt.MultipleLocator(1e-3))\n",
    "    \n",
    "    plt.ticklabel_format(axis=\"y\", style=\"sci\", scilimits=(0,0))\n",
    "    \n",
    "    ax.set_ylim(bottom = y_min, top = y_max)\n",
    "    ax.set_xlim(left = x_min, right = x_max)\n",
    "    \n",
    "    ax.grid(visible = True, linestyle = '--', which = 'both')\n",
    "    x = np.linspace(x_min, x_max, 1000)\n",
    "    ax.errorbar(df['T, K'], df['q, Н/м'], fmt = 'o')\n",
    "    ax.plot(x, p[0] * x + p[1])\n",
    "    \n",
    "    ax.set_xlabel('$T, K$')\n",
    "    ax.set_ylabel('$q, Н/м$')"
   ]
  },
  {
   "cell_type": "code",
   "execution_count": null,
   "id": "b324753a",
   "metadata": {},
   "outputs": [],
   "source": [
    "fig, ax = plt.subplots(nrows = 1, ncols = 1, figsize=(11.7, 8.3))\n",
    "fig.suptitle('Рис. 2. Зависимость $q(T)$ от температуры $T$')\n",
    "plot_data_heat(ax, df1, p2, err2, df1['sigma_k'])\n",
    "fig.savefig('plots/plot2.pdf')"
   ]
  },
  {
   "cell_type": "code",
   "execution_count": null,
   "id": "55274903",
   "metadata": {},
   "outputs": [],
   "source": [
    "df1['U, (Н/м)^2'] = - df1['k'] * df1['T, K'] * p1[0]\n",
    "p3, v3 = np.polyfit(df1['T, K'], df1['q, Н/м'], deg = 1, cov = True)\n",
    "err3 = np.sqrt(np.diag(v3))"
   ]
  },
  {
   "cell_type": "code",
   "execution_count": null,
   "id": "a9a0a44d",
   "metadata": {},
   "outputs": [],
   "source": [
    "def plot_data_enery(ax, df):\n",
    "    y_min, y_max = get_min_max(df['U, (Н/м)^2'], k1 = 95 / 100, k2 = 105 / 100)\n",
    "    x_min, x_max = get_min_max(df['T, K'], k1 = 95 / 100, k2 = 105 / 100)\n",
    "    \n",
    "    ax.xaxis.set_major_locator(plt.MultipleLocator(5))\n",
    "    ax.yaxis.set_major_locator(plt.MultipleLocator(5e-5))\n",
    "    ax.xaxis.set_minor_locator(plt.MultipleLocator(2.5))\n",
    "    ax.yaxis.set_minor_locator(plt.MultipleLocator(2.5e-5))\n",
    "    \n",
    "    plt.ticklabel_format(axis=\"y\", style=\"sci\", scilimits=(0,0))\n",
    "    \n",
    "    ax.set_ylim(bottom = y_min, top = y_max)\n",
    "    ax.set_xlim(left = x_min, right = x_max)\n",
    "    \n",
    "    ax.grid(visible = True, linestyle = '--', which = 'both')\n",
    "    x = np.linspace(x_min, x_max, 1000)\n",
    "    ax.errorbar(df['T, K'], df['U, (Н/м)^2'], marker = 'd')\n",
    "    \n",
    "    ax.set_xlabel('$T, K$')\n",
    "    ax.set_ylabel('$U/F, (Н/м)^2$')"
   ]
  },
  {
   "cell_type": "code",
   "execution_count": null,
   "id": "c0a6e391",
   "metadata": {},
   "outputs": [],
   "source": [
    "fig, ax = plt.subplots(nrows = 1, ncols = 1, figsize=(11.7, 8.3))\n",
    "fig.suptitle('Рис. 3. Зависимость $U/F(T)$ от температуры $T$')\n",
    "plot_data_enery(ax, df1)\n",
    "fig.savefig('plots/plot3.pdf')"
   ]
  }
 ],
 "metadata": {
  "language_info": {
   "name": "python"
  }
 },
 "nbformat": 4,
 "nbformat_minor": 5
}
