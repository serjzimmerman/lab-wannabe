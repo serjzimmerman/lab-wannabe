{
 "cells": [
  {
   "cell_type": "code",
   "execution_count": null,
   "id": "0fcbb7e3",
   "metadata": {},
   "outputs": [],
   "source": [
    "import numpy as np\n",
    "import scipy as sp\n",
    "import pandas as pd\n",
    "import matplotlib.pyplot as plt\n",
    "from numpy import float64 as f64\n",
    "import matplotlib as mpl\n",
    "from scipy.interpolate import CubicSpline"
   ]
  },
  {
   "cell_type": "code",
   "execution_count": null,
   "id": "88148c15",
   "metadata": {},
   "outputs": [],
   "source": [
    "# For interactive plots\n",
    "%matplotlib widget\n",
    "%cd '/home/jovyan/work/labs/lab-2.2'"
   ]
  },
  {
   "cell_type": "markdown",
   "id": "fb707a85-33c8-4cda-8fbf-02a113391b0d",
   "metadata": {},
   "source": [
    "### Utilities"
   ]
  },
  {
   "cell_type": "code",
   "execution_count": null,
   "id": "bedd9604",
   "metadata": {},
   "outputs": [],
   "source": [
    "label_font = 12\n",
    "markersize = 8"
   ]
  },
  {
   "cell_type": "code",
   "execution_count": null,
   "id": "4d8c12c8-5a5a-4906-8d20-b5a6b0d99748",
   "metadata": {},
   "outputs": [],
   "source": [
    "def setup_axes(ax):\n",
    "    ax.get_xaxis().set_visible(True)\n",
    "    ax.get_yaxis().set_visible(True)\n",
    "    ax.xaxis.set_minor_locator(mpl.ticker.AutoMinorLocator())\n",
    "    ax.grid(True, which=\"both\")\n",
    "    plt.rcParams.update({\"figure.autolayout\": True})"
   ]
  },
  {
   "cell_type": "markdown",
   "id": "c8642b71-3c3e-4593-950e-2fac01c5c36a",
   "metadata": {},
   "source": [
    "### Data analysis"
   ]
  },
  {
   "cell_type": "code",
   "execution_count": null,
   "id": "98beef03",
   "metadata": {},
   "outputs": [],
   "source": [
    "df_neon = pd.read_csv(f\"data/neon.csv\")\n",
    "df_mercury = pd.read_csv(f\"data/mercury.csv\")\n",
    "df_hydrogen = pd.read_csv(f\"data/hydrogen.csv\")\n",
    "df_calibrate = pd.concat([df_mercury, df_neon]).sort_values(by=['lambda, units'])\n",
    "df_iodine = pd.read_csv(f\"data/iodine.csv\")"
   ]
  },
  {
   "cell_type": "code",
   "execution_count": null,
   "id": "f1536f7c-5ae6-4c30-a01c-2b4d7cadce5e",
   "metadata": {},
   "outputs": [],
   "source": [
    "fit_degree = 4\n",
    "x_calibrate = df_calibrate[\"lambda, units\"]\n",
    "y_calibrate = df_calibrate[\"lambda, A\"]\n",
    "xs_calibrate = np.linspace(min(x_calibrate), max(x_calibrate), 4096)\n",
    "calibrate_poly = np.polyfit(x_calibrate, y_calibrate, fit_degree)"
   ]
  },
  {
   "cell_type": "code",
   "execution_count": null,
   "id": "e8946520-be69-4944-b9c1-c30cacb5a2ad",
   "metadata": {},
   "outputs": [],
   "source": [
    "def interpolate_lambda(counts: float):\n",
    "    return np.polyval(calibrate_poly, counts)"
   ]
  },
  {
   "cell_type": "code",
   "execution_count": null,
   "id": "77663f8a",
   "metadata": {},
   "outputs": [],
   "source": [
    "fig, ax = plt.subplots(1, 1, figsize=(10, 6))\n",
    "setup_axes(ax)\n",
    "ax.scatter(x_calibrate, y_calibrate)\n",
    "ax.plot(xs_calibrate, np.vectorize(interpolate_lambda)(xs_calibrate))\n",
    "ax.set_xlabel(\"$n$, деления\")\n",
    "ax.set_ylabel(\"$\\lambda, A$\")\n",
    "ax.set_title(\"Рис. 1. Калибровочный график (шкала перевода делений в длину волны)\")\n",
    "fig.savefig(f\"output/calibrate.pdf\")"
   ]
  },
  {
   "cell_type": "code",
   "execution_count": null,
   "id": "b80464f5-4025-44ac-9c95-5e6b2d50d8cc",
   "metadata": {},
   "outputs": [],
   "source": [
    "df_hydrogen[\"lambda, A\"] = np.vectorize(interpolate_lambda)(df_hydrogen[\"lambda, units\"])"
   ]
  },
  {
   "cell_type": "code",
   "execution_count": null,
   "id": "cda50fa8-3f27-4100-8ab5-ca60d75a2ee4",
   "metadata": {},
   "outputs": [],
   "source": [
    "print(df_hydrogen)"
   ]
  },
  {
   "cell_type": "code",
   "execution_count": null,
   "id": "ca74b6dd-5825-40a0-9414-4269e2bd082e",
   "metadata": {},
   "outputs": [],
   "source": [
    "df_iodine[\"lambda, A\"] = np.vectorize(interpolate_lambda)(df_iodine[\"lamda, units\"])"
   ]
  },
  {
   "cell_type": "code",
   "execution_count": null,
   "id": "1ab30c80-d4ca-4d31-ac47-3962d5fae913",
   "metadata": {},
   "outputs": [],
   "source": [
    "print(df_iodine)"
   ]
  },
  {
   "cell_type": "code",
   "execution_count": null,
   "id": "4dca3e16-2bdb-4e9e-a380-a4b7cdee168c",
   "metadata": {},
   "outputs": [],
   "source": [
    "speed_of_light = 3e8 # m/s\n",
    "plank_constant = 6.626e-34 # j * s\n",
    "ev_to_joules = 1.6e-19 # j"
   ]
  },
  {
   "cell_type": "code",
   "execution_count": null,
   "id": "9bee484e-363f-4b89-b63d-d38d72c5ed0c",
   "metadata": {},
   "outputs": [],
   "source": [
    "lambda_1_0 = df_iodine[\"lambda, A\"].iloc[0] * 1e-10\n",
    "lambda_1_5 = df_iodine[\"lambda, A\"].iloc[1] * 1e-10"
   ]
  },
  {
   "cell_type": "code",
   "execution_count": null,
   "id": "661296ea-be8f-4936-a54c-a2cd1b56822c",
   "metadata": {},
   "outputs": [],
   "source": [
    "nu_1_0 = speed_of_light / lambda_1_0\n",
    "nu_1_5 = speed_of_light / lambda_1_5"
   ]
  },
  {
   "cell_type": "code",
   "execution_count": null,
   "id": "d433cbe3-eacc-4de6-90ec-e16e26b75ceb",
   "metadata": {},
   "outputs": [],
   "source": [
    "print(plank_constant * (nu_1_5 - nu_1_0) / 5.0 / ev_to_joules)"
   ]
  }
 ],
 "metadata": {
  "language_info": {
   "name": "python"
  }
 },
 "nbformat": 4,
 "nbformat_minor": 5
}
