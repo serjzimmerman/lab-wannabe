{
 "cells": [
  {
   "cell_type": "code",
   "execution_count": null,
   "id": "2a1b47b5",
   "metadata": {},
   "outputs": [],
   "source": [
    "import pandas as pd\n",
    "import numpy as np\n",
    "import matplotlib.pyplot as plt\n",
    "import matplotlib\n",
    "import scipy"
   ]
  },
  {
   "cell_type": "markdown",
   "id": "e63e2a72",
   "metadata": {},
   "source": [
    "# First"
   ]
  },
  {
   "cell_type": "code",
   "execution_count": null,
   "id": "b6ae2bd3",
   "metadata": {},
   "outputs": [],
   "source": [
    "df1 = pd.read_excel('experimental_data.xlsx', sheet_name = 'Dark').reset_index(drop = True)\n",
    "df2 = pd.read_excel('experimental_data.xlsx', sheet_name = 'Light').reset_index(drop = True)"
   ]
  },
  {
   "cell_type": "code",
   "execution_count": null,
   "id": "23cf29f8",
   "metadata": {},
   "outputs": [],
   "source": [
    "tick = 97"
   ]
  },
  {
   "cell_type": "code",
   "execution_count": null,
   "id": "05c75f5f",
   "metadata": {},
   "outputs": [],
   "source": [
    "def sign(x):\n",
    "    if x > 0: \n",
    "        return 1\n",
    "    elif x < 0:\n",
    "        return -1\n",
    "    return 0"
   ]
  },
  {
   "cell_type": "code",
   "execution_count": null,
   "id": "4c57c477",
   "metadata": {},
   "outputs": [],
   "source": [
    "def sqcond(x):\n",
    "    if x > 0:\n",
    "        return x ** 2\n",
    "    return -1 * x ** 2"
   ]
  },
  {
   "cell_type": "code",
   "execution_count": null,
   "id": "77175061",
   "metadata": {},
   "outputs": [],
   "source": [
    "df1['r, мм'] = df1['r, дел'] * tick / 1e3\n",
    "df2['r, мм'] = df2['r, дел'] * tick / 1e3\n",
    "df2['r^2, мм^2'] = df2['r, мм'] ** 2\n",
    "df1['r^2, мм^2'] = df1['r, мм'].apply(sqcond)\n",
    "df2['m'] = df2['m'].apply(abs) "
   ]
  },
  {
   "cell_type": "code",
   "execution_count": null,
   "id": "9e475680",
   "metadata": {},
   "outputs": [],
   "source": [
    "df1"
   ]
  },
  {
   "cell_type": "markdown",
   "id": "0180c464",
   "metadata": {},
   "source": [
    "# Plots"
   ]
  },
  {
   "cell_type": "code",
   "execution_count": null,
   "id": "f43d5a08",
   "metadata": {},
   "outputs": [],
   "source": [
    "def plot_sq_rad(df, idx, name):\n",
    "    fig, ax = plt.subplots(nrows = 1, ncols = 1, figsize=(11.7, 8.3))\n",
    "    fig.suptitle('Рис. {}. {}. Зависимость $r_m^2(m)$'.format(idx, name))\n",
    "    \n",
    "    minimum_x = min(1.25 * min(df['m']), 0)\n",
    "    minimum_y = min(1.25 * min(df['r^2, мм^2']), 0)\n",
    "    ax.set_ylim([minimum_y, 1.25 * max(df['r^2, мм^2'])])\n",
    "    ax.set_xlim([minimum_x, 1.25 * max(df['m'])])\n",
    "    \n",
    "    ax.grid(visible = True, linestyle = '--', which = 'both')\n",
    "    ax.scatter(df['m'], df['r^2, мм^2'])\n",
    "\n",
    "    result = scipy.stats.linregress(df['m'], df['r^2, мм^2'])\n",
    "\n",
    "    x = np.linspace(minimum_x, 1.25 * max(df['m']))\n",
    "    ax.plot(x, x * result.slope + result.intercept, label = \"Линейная модель: $r^2 = a + k \\cdot m$\")\n",
    "    ax.plot([], [], ' ', label = '$k = {k:.6f} \\pm {dk:.6f}$, $a = {a:.4f}$'.format(k = result.slope, dk = result.stderr, a = result.intercept))\n",
    "\n",
    "    ax.set_xlabel('$m$')\n",
    "    ax.set_ylabel('$r_m^2(m)$, мм^2')\n",
    "\n",
    "    ax.legend()\n",
    "    fig.savefig('plots/plot{}.pdf'.format(idx))\n",
    "    return result"
   ]
  },
  {
   "cell_type": "code",
   "execution_count": null,
   "id": "44ff701d",
   "metadata": {},
   "outputs": [],
   "source": [
    "plot_sq_rad(df1, 1, 'Темные')"
   ]
  },
  {
   "cell_type": "code",
   "execution_count": null,
   "id": "f8b0c482",
   "metadata": {},
   "outputs": [],
   "source": [
    "plot_sq_rad(df2, 2, 'Светлые')"
   ]
  },
  {
   "cell_type": "code",
   "execution_count": null,
   "id": "d344ebaa",
   "metadata": {},
   "outputs": [],
   "source": [
    "1.35e-8 / (570 * 1e-9)"
   ]
  },
  {
   "cell_type": "code",
   "execution_count": null,
   "id": "6bd51ba5",
   "metadata": {},
   "outputs": [],
   "source": [
    "1 + 2.3 / 5.1"
   ]
  },
  {
   "cell_type": "code",
   "execution_count": null,
   "id": "fb9117c7",
   "metadata": {},
   "outputs": [],
   "source": []
  }
 ],
 "metadata": {
  "language_info": {
   "name": "python"
  }
 },
 "nbformat": 4,
 "nbformat_minor": 5
}
