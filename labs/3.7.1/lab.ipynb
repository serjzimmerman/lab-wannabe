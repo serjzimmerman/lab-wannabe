{
 "cells": [
  {
   "cell_type": "code",
   "execution_count": null,
   "id": "2a1b47b5",
   "metadata": {},
   "outputs": [],
   "source": [
    "import pandas as pd\n",
    "import numpy as np\n",
    "import matplotlib.pyplot as plt\n",
    "import matplotlib\n",
    "import scipy"
   ]
  },
  {
   "cell_type": "markdown",
   "id": "e63e2a72",
   "metadata": {},
   "source": [
    "# First"
   ]
  },
  {
   "cell_type": "code",
   "execution_count": null,
   "id": "b6ae2bd3",
   "metadata": {},
   "outputs": [],
   "source": [
    "df1 = pd.read_excel('experimental_data.xlsx', sheet_name = 'Small').reset_index(drop = True)"
   ]
  },
  {
   "cell_type": "code",
   "execution_count": null,
   "id": "559bf294",
   "metadata": {},
   "outputs": [],
   "source": [
    "df1['w, 1/с'] = df1['f, Гц'] * 2 * np.pi\n",
    "df1['w^2, 1/с^2'] = df1['w, 1/с'] ** 2"
   ]
  },
  {
   "cell_type": "code",
   "execution_count": null,
   "id": "6b9fe3be",
   "metadata": {},
   "outputs": [],
   "source": [
    "df1['e'] = df1['U, мВ'] / df1['f, Гц'] / df1['I, мА']\n",
    "df1['1/e^2'] = df1['e'] ** (-2)"
   ]
  },
  {
   "cell_type": "code",
   "execution_count": null,
   "id": "375cbac3",
   "metadata": {},
   "outputs": [],
   "source": [
    "h = 1.5e-3 # 1.5mm"
   ]
  },
  {
   "cell_type": "code",
   "execution_count": null,
   "id": "c9cf69df",
   "metadata": {},
   "outputs": [],
   "source": [
    "df2 = pd.read_excel('experimental_data.xlsx', sheet_name = 'Large').reset_index(drop = True)\n",
    "df2['w, 1/с'] = df2['f, Гц'] * 2 * np.pi\n",
    "df2['psi'] = np.pi / 2 - np.arcsin(df2['B'] / df2['A'])\n",
    "df2['(psi - pi/4)^2'] = (df2['psi'] - np.pi / 4) ** 2\n",
    "df2['tg(psi)'] = np.tan(df2['psi'])"
   ]
  },
  {
   "cell_type": "markdown",
   "id": "0180c464",
   "metadata": {},
   "source": [
    "# Plots"
   ]
  },
  {
   "cell_type": "code",
   "execution_count": null,
   "id": "dad0d1cb",
   "metadata": {},
   "outputs": [],
   "source": [
    "df2"
   ]
  },
  {
   "cell_type": "code",
   "execution_count": null,
   "id": "f43d5a08",
   "metadata": {},
   "outputs": [],
   "source": [
    "fig, ax = plt.subplots(nrows = 1, ncols = 1, figsize=(11.7, 8.3))\n",
    "fig.suptitle('Рис. {}. Зависимость 1/e^2(w^2)'.format(1))\n",
    "\n",
    "ax.grid(visible = True, linestyle = '--', which = 'both')\n",
    "ax.scatter(df1['w^2, 1/с^2'], df1['1/e^2'])\n",
    "\n",
    "result = scipy.stats.linregress(df1['w^2, 1/с^2'], df1['1/e^2'])\n",
    "\n",
    "x = np.linspace(min(df1['w^2, 1/с^2']), max(df1['w^2, 1/с^2']))\n",
    "ax.plot(x, x * result.slope + result.intercept, label = \"Линейная модель: $1/e^2 = a + k \\cdot w^2$\")\n",
    "ax.plot([], [], ' ', label = '$k = {k:.6f} \\pm {dk:.6f}$, $a = {a:.4f}$'.format(k = result.slope, dk = result.stderr, a = result.intercept))\n",
    "\n",
    "ax.set_xlabel('$w^2, 1/с^2$')\n",
    "ax.set_ylabel('$1/e^2$')\n",
    "\n",
    "ax.legend()\n",
    "fig.savefig('plots/plot{}.pdf'.format(1))"
   ]
  },
  {
   "cell_type": "code",
   "execution_count": null,
   "id": "a4e4bc74",
   "metadata": {},
   "outputs": [],
   "source": [
    "np.sqrt(4 * result.slope / result.intercept  / (22.5e-3 ** 2 * 1.5e-3 ** 2 * 1.26e-6 ** 2))"
   ]
  },
  {
   "cell_type": "code",
   "execution_count": null,
   "id": "305b7235",
   "metadata": {},
   "outputs": [],
   "source": [
    "fig, ax = plt.subplots(nrows = 1, ncols = 1, figsize=(11.7, 8.3))\n",
    "fig.suptitle('Рис. {}. Зависимость \\psi^2(w)'.format(2))\n",
    "\n",
    "ax.grid(visible = True, linestyle = '--', which = 'both')\n",
    "ax.scatter(df2['w, 1/с'], df2['(psi - pi/4)^2'])\n",
    "\n",
    "result = scipy.stats.linregress(df2['w, 1/с'].iloc[3:], df2['(psi - pi/4)^2'].iloc[3:])\n",
    "\n",
    "x = np.linspace(min(df2['w, 1/с']), max(df2['w, 1/с']))\n",
    "ax.plot(x, x * result.slope + result.intercept, label = \"Линейная модель: $(\\psi - pi/4)^2 = a + k \\cdot w$\")\n",
    "ax.plot([], [], ' ', label = '$k = {k:.6f} \\pm {dk:.6f}$, $a = {a:.4f}$'.format(k = result.slope, dk = result.stderr, a = result.intercept))\n",
    "\n",
    "ax.set_xlabel('$w, 1/с$')\n",
    "ax.set_ylabel('$(\\psi - pi/4)^2$')\n",
    "\n",
    "ax.legend()\n",
    "fig.savefig('plots/plot{}.pdf'.format(2))"
   ]
  },
  {
   "cell_type": "code",
   "execution_count": null,
   "id": "d200fd04",
   "metadata": {},
   "outputs": [],
   "source": [
    "fig, ax = plt.subplots(nrows = 1, ncols = 1, figsize=(11.7, 8.3))\n",
    "fig.suptitle('Рис. {}. Зависимость tg(psi)'.format(3))\n",
    "\n",
    "ax.grid(visible = True, linestyle = '--', which = 'both')\n",
    "ax.scatter(df2['w, 1/с'], df2['tg(psi)'])\n",
    "\n",
    "result = scipy.stats.linregress(df2['w, 1/с'].iloc[1:5], df2['tg(psi)'].iloc[1:5])\n",
    "\n",
    "x = np.linspace(min(df2['w, 1/с']), max(df2['w, 1/с']))\n",
    "ax.plot(x, x * result.slope + result.intercept, label = \"Линейная модель: $tg(psi) = a + k \\cdot w$\")\n",
    "ax.plot([], [], ' ', label = '$k = {k:.6f} \\pm {dk:.6f}$, $a = {a:.4f}$'.format(k = result.slope, dk = result.stderr, a = result.intercept))\n",
    "\n",
    "ax.set_xlabel('$w, 1/с$')\n",
    "ax.set_ylabel('$tan(\\psi)$')\n",
    "\n",
    "ax.legend()\n",
    "fig.savefig('plots/plot{}.pdf'.format(3))"
   ]
  },
  {
   "cell_type": "code",
   "execution_count": null,
   "id": "8c5998fd",
   "metadata": {},
   "outputs": [],
   "source": [
    "1.24e-4 / (1.26e-6 * (1.5e-3) ** 2)"
   ]
  }
 ],
 "metadata": {
  "language_info": {
   "name": "python"
  }
 },
 "nbformat": 4,
 "nbformat_minor": 5
}
